{
  "nbformat": 4,
  "nbformat_minor": 0,
  "metadata": {
    "kernelspec": {
      "display_name": "Python 3",
      "language": "python",
      "name": "python3"
    },
    "language_info": {
      "codemirror_mode": {
        "name": "ipython",
        "version": 3
      },
      "file_extension": ".py",
      "mimetype": "text/x-python",
      "name": "python",
      "nbconvert_exporter": "python",
      "pygments_lexer": "ipython3",
      "version": "3.5.2"
    },
    "varInspector": {
      "cols": {
        "lenName": 16,
        "lenType": 16,
        "lenVar": 40
      },
      "kernels_config": {
        "python": {
          "delete_cmd_postfix": "",
          "delete_cmd_prefix": "del ",
          "library": "var_list.py",
          "varRefreshCmd": "print(var_dic_list())"
        },
        "r": {
          "delete_cmd_postfix": ") ",
          "delete_cmd_prefix": "rm(",
          "library": "var_list.r",
          "varRefreshCmd": "cat(var_dic_list()) "
        }
      },
      "types_to_exclude": [
        "module",
        "function",
        "builtin_function_or_method",
        "instance",
        "_Feature"
      ],
      "window_display": false
    },
    "colab": {
      "name": "1_1_1_Python basic.ipynb",
      "provenance": [],
      "collapsed_sections": [
        "u7UG5ijLdG3h",
        "0Gskcq4MdG39",
        "kd0JkNuqdG4W",
        "R8TnY_8wPv0q",
        "UYINmBkBdG4x",
        "-1MBhyRKdG42",
        "t6MPSnnfdG5S"
      ],
      "include_colab_link": true
    }
  },
  "cells": [
    {
      "cell_type": "markdown",
      "metadata": {
        "id": "view-in-github",
        "colab_type": "text"
      },
      "source": [
        "<a href=\"https://colab.research.google.com/github/hikyle02/PolytechTest/blob/master/1_1_1_Python_basic.ipynb\" target=\"_parent\"><img src=\"https://colab.research.google.com/assets/colab-badge.svg\" alt=\"Open In Colab\"/></a>"
      ]
    },
    {
      "cell_type": "markdown",
      "metadata": {
        "id": "o76ShjzjdG3E"
      },
      "source": [
        "## 1. 숫자"
      ]
    },
    {
      "cell_type": "code",
      "source": [
        "from google.colab import drive\n",
        "drive.mount('/content/drive')"
      ],
      "metadata": {
        "colab": {
          "base_uri": "https://localhost:8080/"
        },
        "id": "XEu0Wxhrzvxn",
        "outputId": "b38f5077-cec8-47d2-ac34-8a83f856cb71"
      },
      "execution_count": 1,
      "outputs": [
        {
          "output_type": "stream",
          "name": "stdout",
          "text": [
            "Mounted at /content/drive\n"
          ]
        }
      ]
    },
    {
      "cell_type": "markdown",
      "metadata": {
        "id": "PNW8dY7pdG3G"
      },
      "source": [
        " - 기본 연산자 : `+, -, *, /`"
      ]
    },
    {
      "cell_type": "code",
      "metadata": {
        "id": "N84lDgLbdG3H",
        "colab": {
          "base_uri": "https://localhost:8080/"
        },
        "outputId": "4cb30e75-0fee-4bbd-d787-8969efa7a31a"
      },
      "source": [
        "print(2 + 2)"
      ],
      "execution_count": 2,
      "outputs": [
        {
          "output_type": "stream",
          "name": "stdout",
          "text": [
            "4\n"
          ]
        }
      ]
    },
    {
      "cell_type": "code",
      "metadata": {
        "id": "d95YO7WWdG3O",
        "colab": {
          "base_uri": "https://localhost:8080/"
        },
        "outputId": "341df7e6-3b05-453b-cebe-117836dd9a67"
      },
      "source": [
        "print(50 - 5 * 6)"
      ],
      "execution_count": 3,
      "outputs": [
        {
          "output_type": "stream",
          "name": "stdout",
          "text": [
            "20\n"
          ]
        }
      ]
    },
    {
      "cell_type": "code",
      "metadata": {
        "id": "4akmtXOQdG3S",
        "colab": {
          "base_uri": "https://localhost:8080/"
        },
        "outputId": "49d3ddcf-188d-4e61-e6a5-46aa42062afb"
      },
      "source": [
        "print((50 - 5 * 6) / 4) # always return float type"
      ],
      "execution_count": null,
      "outputs": [
        {
          "output_type": "stream",
          "text": [
            "5.0\n"
          ],
          "name": "stdout"
        }
      ]
    },
    {
      "cell_type": "markdown",
      "metadata": {
        "id": "Mnd_WpbXdG3W"
      },
      "source": [
        " - 거듭제곱(`**`),  몫(`//`),   나머지(`%`)"
      ]
    },
    {
      "cell_type": "code",
      "metadata": {
        "id": "uuRP1ISJdG3X",
        "colab": {
          "base_uri": "https://localhost:8080/"
        },
        "outputId": "5b1fc21f-dc66-4e53-ffd2-de53aeceed89"
      },
      "source": [
        "print(5 ** 2)"
      ],
      "execution_count": 4,
      "outputs": [
        {
          "output_type": "stream",
          "name": "stdout",
          "text": [
            "25\n"
          ]
        }
      ]
    },
    {
      "cell_type": "code",
      "metadata": {
        "id": "eGR8YLDhdG3a",
        "colab": {
          "base_uri": "https://localhost:8080/"
        },
        "outputId": "c26f35a0-e5e3-4718-aed9-ffbe8ff69603"
      },
      "source": [
        "print(17 // 3)"
      ],
      "execution_count": 6,
      "outputs": [
        {
          "output_type": "stream",
          "name": "stdout",
          "text": [
            "5\n"
          ]
        }
      ]
    },
    {
      "cell_type": "code",
      "metadata": {
        "id": "neLdUW69dG3d",
        "colab": {
          "base_uri": "https://localhost:8080/"
        },
        "outputId": "32fcc704-3435-4724-b2b3-f73024574215"
      },
      "source": [
        "print(17 % 3)"
      ],
      "execution_count": 7,
      "outputs": [
        {
          "output_type": "stream",
          "name": "stdout",
          "text": [
            "2\n"
          ]
        }
      ]
    },
    {
      "cell_type": "markdown",
      "metadata": {
        "id": "bOyA8tDdxPfy"
      },
      "source": [
        " ## 2. Boolean\n",
        "\n"
      ]
    },
    {
      "cell_type": "code",
      "metadata": {
        "id": "6SzSV8Tdxm34",
        "colab": {
          "base_uri": "https://localhost:8080/"
        },
        "outputId": "29ccc05c-f5af-484c-fbab-677ad0b47727"
      },
      "source": [
        "t = True\n",
        "f = False\n",
        "print(type(t)) # Prints \"<class 'bool'>\"\n",
        "print(t and f) # Logical AND; prints \"False\"\n",
        "print(t or f)  # Logical OR; prints \"True\"\n",
        "print(not t)   # Logical NOT; prints \"False\"\n",
        "print(t != f)  # Logical XOR; prints \"True\""
      ],
      "execution_count": 8,
      "outputs": [
        {
          "output_type": "stream",
          "name": "stdout",
          "text": [
            "<class 'bool'>\n",
            "False\n",
            "True\n",
            "False\n",
            "True\n"
          ]
        }
      ]
    },
    {
      "cell_type": "markdown",
      "metadata": {
        "id": "MBRE2Jm_xyM9"
      },
      "source": [
        "##3. String"
      ]
    },
    {
      "cell_type": "code",
      "metadata": {
        "id": "_dnfjchlx74O",
        "colab": {
          "base_uri": "https://localhost:8080/"
        },
        "outputId": "c6736a0b-1d1e-4647-9d49-c6b696362800"
      },
      "source": [
        "s = \"hello\"\n",
        "print(s)\n",
        "print(len(s))          # string length\n",
        "print(s.capitalize())  # Capitalize a string; prints \"Hello\"\n",
        "print(s.upper())       # Convert a string to uppercase; prints \"HELLO\"\n",
        "print(s.rjust(10))      # Right-justify a string, padding with spaces; prints \"  hello\"\n",
        "print('1234567890')\n",
        "print(s.center(10))     # Center a string, padding with spaces; prints \" hello \"\n",
        "print(s.replace('l', '(ell)'))  # Replace all instances of one substring with another;\n",
        "                                # prints \"he(ell)(ell)o\"\n",
        "print('  world '.strip())  # Strip leading and trailing whitespace; prints \"world\""
      ],
      "execution_count": null,
      "outputs": [
        {
          "output_type": "stream",
          "name": "stdout",
          "text": [
            "hello\n",
            "5\n",
            "Hello\n",
            "HELLO\n",
            "     hello\n",
            "1234567890\n",
            "  hello   \n",
            "he(ell)(ell)o\n",
            "world\n"
          ]
        }
      ]
    },
    {
      "cell_type": "markdown",
      "metadata": {
        "id": "OfsvI2-edG3g"
      },
      "source": [
        "## 4. 자료구조 : 리스트, 딕셔너리, 튜플, 세트"
      ]
    },
    {
      "cell_type": "markdown",
      "metadata": {
        "id": "G95zNDsPdG3g"
      },
      "source": [
        "- 다른 값들을 덩어리로 묶는데 사용하는 여러가지 컴파운드 자료형 지원"
      ]
    },
    {
      "cell_type": "markdown",
      "metadata": {
        "id": "u7UG5ijLdG3h"
      },
      "source": [
        "### 4-1. 리스트\n",
        "   - 대괄호(`[]`) 사이에 쉼표로 구분된 값들의 목록으로 표현되는 시퀀스(sequence) 자료형, 서로다른 항목 가능 \n",
        "   - 문자열과 같이 숫자로 인덱싱, 슬라이스 연산 및 개별 요소 수정도 가능(가변)\n",
        "   - 이어붙이기 연산도 지원\n",
        "   - 주요 함수(메서드) `append, pop` ref) https://docs.python.org/ko/3/tutorial/datastructures.html"
      ]
    },
    {
      "cell_type": "code",
      "metadata": {
        "id": "-1l0K5SUdG3i"
      },
      "source": [
        "squares1 = [1, 4, 9, 16, 25]"
      ],
      "execution_count": 9,
      "outputs": []
    },
    {
      "cell_type": "code",
      "metadata": {
        "id": "HAtDNAkBdG3l",
        "colab": {
          "base_uri": "https://localhost:8080/"
        },
        "outputId": "1302a744-cb15-44b4-e945-9ba23a88637c"
      },
      "source": [
        "print(squares1)"
      ],
      "execution_count": 10,
      "outputs": [
        {
          "output_type": "stream",
          "name": "stdout",
          "text": [
            "[1, 4, 9, 16, 25]\n"
          ]
        }
      ]
    },
    {
      "cell_type": "code",
      "metadata": {
        "id": "31xH6EaldG3n"
      },
      "source": [
        "squares1[0] = 0"
      ],
      "execution_count": 12,
      "outputs": []
    },
    {
      "cell_type": "code",
      "metadata": {
        "id": "l2uRmw55dG3q",
        "colab": {
          "base_uri": "https://localhost:8080/"
        },
        "outputId": "07a593a5-2521-4313-d47d-a50956e544a9"
      },
      "source": [
        "print(squares1)"
      ],
      "execution_count": 13,
      "outputs": [
        {
          "output_type": "stream",
          "name": "stdout",
          "text": [
            "[0, 4, 9, 16, 25]\n"
          ]
        }
      ]
    },
    {
      "cell_type": "code",
      "metadata": {
        "id": "ijb-02kTdG3s"
      },
      "source": [
        "squares2 = ['a', 1]"
      ],
      "execution_count": 14,
      "outputs": []
    },
    {
      "cell_type": "code",
      "metadata": {
        "id": "sCEK6n3-dG3u",
        "colab": {
          "base_uri": "https://localhost:8080/"
        },
        "outputId": "5298aa9b-ce52-4475-a9bd-659f60f51a94"
      },
      "source": [
        "print(squares2)"
      ],
      "execution_count": 15,
      "outputs": [
        {
          "output_type": "stream",
          "name": "stdout",
          "text": [
            "['a', 1]\n"
          ]
        }
      ]
    },
    {
      "cell_type": "code",
      "metadata": {
        "id": "NCikddg0dG3x",
        "colab": {
          "base_uri": "https://localhost:8080/"
        },
        "outputId": "1e1941f1-de87-4071-f3f1-bb9342ed5d7c"
      },
      "source": [
        "print(squares1+squares2)"
      ],
      "execution_count": 16,
      "outputs": [
        {
          "output_type": "stream",
          "name": "stdout",
          "text": [
            "[0, 4, 9, 16, 25, 'a', 1]\n"
          ]
        }
      ]
    },
    {
      "cell_type": "code",
      "metadata": {
        "id": "gfIYxdgidG30"
      },
      "source": [
        "squares1.append('36')"
      ],
      "execution_count": 17,
      "outputs": []
    },
    {
      "cell_type": "code",
      "metadata": {
        "id": "St0GxlMmdG32",
        "colab": {
          "base_uri": "https://localhost:8080/"
        },
        "outputId": "6247467a-2f92-418a-b15b-3423fa47a666"
      },
      "source": [
        "print(squares1)"
      ],
      "execution_count": 18,
      "outputs": [
        {
          "output_type": "stream",
          "name": "stdout",
          "text": [
            "[0, 4, 9, 16, 25, '36']\n"
          ]
        }
      ]
    },
    {
      "cell_type": "code",
      "metadata": {
        "id": "GlihclSidG35",
        "colab": {
          "base_uri": "https://localhost:8080/"
        },
        "outputId": "f93f1875-f5cf-40a6-e94d-0aa0a7a48cf7"
      },
      "source": [
        "print(squares2.pop())"
      ],
      "execution_count": 19,
      "outputs": [
        {
          "output_type": "stream",
          "name": "stdout",
          "text": [
            "1\n"
          ]
        }
      ]
    },
    {
      "cell_type": "code",
      "metadata": {
        "id": "Cp6-QctgdG37",
        "colab": {
          "base_uri": "https://localhost:8080/"
        },
        "outputId": "c5220d1f-a140-4260-9049-1b689e2eae2e"
      },
      "source": [
        "print(squares2)"
      ],
      "execution_count": 20,
      "outputs": [
        {
          "output_type": "stream",
          "name": "stdout",
          "text": [
            "['a']\n"
          ]
        }
      ]
    },
    {
      "cell_type": "markdown",
      "metadata": {
        "id": "0Gskcq4MdG39"
      },
      "source": [
        "### 4-2. 딕셔너리\n",
        "  - 중복되지 않는다는 제약조건을 가진 키:값 쌍의 집합\n",
        "  - 중괄호(`{}`) 안에 쉽료로 분리된 키:값 쌍들의 목록을 넣어 정의\n",
        "  - 키(불변)로 인덱싱 및 인덱싱된 값(가변) 수정 가능\n",
        "  - 주요 함수(메서드) `del, items, keys, values`"
      ]
    },
    {
      "cell_type": "code",
      "metadata": {
        "id": "bOWA8lkzdG39"
      },
      "source": [
        "tel1 = {'jack': 4098, 'sape': 4139}\n",
        "tel2 = dict(sape=4139, guido=4127, jack=4098)"
      ],
      "execution_count": 21,
      "outputs": []
    },
    {
      "cell_type": "code",
      "metadata": {
        "id": "mATRxYSmdG4A",
        "colab": {
          "base_uri": "https://localhost:8080/"
        },
        "outputId": "d8eeec23-c730-4bf4-803d-7b0ee9cf8adf"
      },
      "source": [
        "print(tel1, tel2)"
      ],
      "execution_count": 22,
      "outputs": [
        {
          "output_type": "stream",
          "name": "stdout",
          "text": [
            "{'jack': 4098, 'sape': 4139} {'sape': 4139, 'guido': 4127, 'jack': 4098}\n"
          ]
        }
      ]
    },
    {
      "cell_type": "code",
      "metadata": {
        "id": "0mOz2BlgdG4C"
      },
      "source": [
        "print(tel1['jack'])"
      ],
      "execution_count": null,
      "outputs": []
    },
    {
      "cell_type": "code",
      "metadata": {
        "id": "ORC1bLFRdG4E"
      },
      "source": [
        "tel1['jack'] = 5098             #Jackㅇ"
      ],
      "execution_count": 23,
      "outputs": []
    },
    {
      "cell_type": "code",
      "metadata": {
        "id": "fngPfpYKdG4G",
        "colab": {
          "base_uri": "https://localhost:8080/"
        },
        "outputId": "f98e2116-7c77-49eb-b9e0-ddb41367767b"
      },
      "source": [
        "print(tel1)"
      ],
      "execution_count": 24,
      "outputs": [
        {
          "output_type": "stream",
          "name": "stdout",
          "text": [
            "{'jack': 5098, 'sape': 4139}\n"
          ]
        }
      ]
    },
    {
      "cell_type": "code",
      "metadata": {
        "id": "15DZJ_KAdG4I"
      },
      "source": [
        "tel1['guido'] = 4127"
      ],
      "execution_count": 25,
      "outputs": []
    },
    {
      "cell_type": "code",
      "metadata": {
        "id": "ZfxsCtDBdG4L",
        "colab": {
          "base_uri": "https://localhost:8080/"
        },
        "outputId": "63dd71cb-1955-4ac5-8e4b-543e59562d13"
      },
      "source": [
        "print(tel1)"
      ],
      "execution_count": 26,
      "outputs": [
        {
          "output_type": "stream",
          "name": "stdout",
          "text": [
            "{'jack': 5098, 'sape': 4139, 'guido': 4127}\n"
          ]
        }
      ]
    },
    {
      "cell_type": "code",
      "metadata": {
        "id": "Lbu_0FLvdG4N"
      },
      "source": [
        "del(tel1['sape'])"
      ],
      "execution_count": 27,
      "outputs": []
    },
    {
      "cell_type": "code",
      "metadata": {
        "id": "fW6wi5P2dG4P",
        "colab": {
          "base_uri": "https://localhost:8080/"
        },
        "outputId": "4f124511-de79-44d6-dbb5-4eb99eaa74c6"
      },
      "source": [
        "print(tel1)"
      ],
      "execution_count": 28,
      "outputs": [
        {
          "output_type": "stream",
          "name": "stdout",
          "text": [
            "{'jack': 5098, 'guido': 4127}\n"
          ]
        }
      ]
    },
    {
      "cell_type": "code",
      "metadata": {
        "id": "aL7BXT3pdG4S",
        "colab": {
          "base_uri": "https://localhost:8080/"
        },
        "outputId": "fd4f394b-6fbe-40d4-c765-f87d7a544be0"
      },
      "source": [
        "print(tel1.items())"
      ],
      "execution_count": 29,
      "outputs": [
        {
          "output_type": "stream",
          "name": "stdout",
          "text": [
            "dict_items([('jack', 5098), ('guido', 4127)])\n"
          ]
        }
      ]
    },
    {
      "cell_type": "code",
      "metadata": {
        "id": "J3LheW76dG4U",
        "colab": {
          "base_uri": "https://localhost:8080/"
        },
        "outputId": "18ace3fb-34e6-49ee-f7c5-f0057055af53"
      },
      "source": [
        "print(tel1.keys())"
      ],
      "execution_count": 30,
      "outputs": [
        {
          "output_type": "stream",
          "name": "stdout",
          "text": [
            "dict_keys(['jack', 'guido'])\n"
          ]
        }
      ]
    },
    {
      "cell_type": "markdown",
      "metadata": {
        "id": "kd0JkNuqdG4W"
      },
      "source": [
        "### 4-3. 튜플\n",
        "  - 쉼표로 구분되는 여러값으로 구성되는 시퀀스(sequence) 자료형\n",
        "  - 소괄호(`()`) 안에 쉽료로 구성요소를 분리하여 입력\n",
        "  - 튜플안 요소들은 인덱싱, 언팩킹으로 활용 및 접근 가능하나 불변 자료형이므로 슬라이싱과 개별요소의 수정은 불가\n",
        "      - 단) 개별요소가 리스트와 같이 가변형 자료일 경우 수정 가능"
      ]
    },
    {
      "cell_type": "code",
      "metadata": {
        "id": "0n9dveeKdG4W"
      },
      "source": [
        "t = (12345, 54321, 'hello!')"
      ],
      "execution_count": 31,
      "outputs": []
    },
    {
      "cell_type": "code",
      "metadata": {
        "id": "vqSFtttzdG4Z",
        "colab": {
          "base_uri": "https://localhost:8080/"
        },
        "outputId": "90a801a9-832f-4ed7-aee5-e48a1d2db71f"
      },
      "source": [
        "print(t)"
      ],
      "execution_count": 32,
      "outputs": [
        {
          "output_type": "stream",
          "name": "stdout",
          "text": [
            "(12345, 54321, 'hello!')\n"
          ]
        }
      ]
    },
    {
      "cell_type": "code",
      "metadata": {
        "id": "GUIf0xBAdG4b",
        "colab": {
          "base_uri": "https://localhost:8080/"
        },
        "outputId": "f5e52739-f819-4f72-ab28-16f9e0996f8d"
      },
      "source": [
        "print(t[0])"
      ],
      "execution_count": 34,
      "outputs": [
        {
          "output_type": "stream",
          "name": "stdout",
          "text": [
            "12345\n"
          ]
        }
      ]
    },
    {
      "cell_type": "code",
      "metadata": {
        "id": "V1oh9GwfdG4d"
      },
      "source": [
        "u = t, (1, 2, 3, 4, 5)"
      ],
      "execution_count": 36,
      "outputs": []
    },
    {
      "cell_type": "code",
      "metadata": {
        "id": "jALbisIndG4g",
        "colab": {
          "base_uri": "https://localhost:8080/"
        },
        "outputId": "6af75569-c982-4f6e-9922-9d10fb0a6834"
      },
      "source": [
        "print(u)"
      ],
      "execution_count": 37,
      "outputs": [
        {
          "output_type": "stream",
          "name": "stdout",
          "text": [
            "((12345, 54321, 'hello!'), (1, 2, 3, 4, 5))\n"
          ]
        }
      ]
    },
    {
      "cell_type": "code",
      "metadata": {
        "id": "D9SKk5-ZdG4i"
      },
      "source": [
        "v = (1, 2, 3, 4, 5)"
      ],
      "execution_count": 38,
      "outputs": []
    },
    {
      "cell_type": "code",
      "metadata": {
        "id": "N5-DXh2YdG4k",
        "colab": {
          "base_uri": "https://localhost:8080/",
          "height": 174
        },
        "outputId": "f45162ff-f87b-4b6e-a30a-dc66b848db3f"
      },
      "source": [
        "v[0] = 5            # 튜플은 조회만 가능하고 대체가 않된다"
      ],
      "execution_count": 40,
      "outputs": [
        {
          "output_type": "error",
          "ename": "TypeError",
          "evalue": "ignored",
          "traceback": [
            "\u001b[0;31m---------------------------------------------------------------------------\u001b[0m",
            "\u001b[0;31mTypeError\u001b[0m                                 Traceback (most recent call last)",
            "\u001b[0;32m<ipython-input-40-b63cfd5ceacc>\u001b[0m in \u001b[0;36m<module>\u001b[0;34m()\u001b[0m\n\u001b[0;32m----> 1\u001b[0;31m \u001b[0mv\u001b[0m\u001b[0;34m[\u001b[0m\u001b[0;36m0\u001b[0m\u001b[0;34m]\u001b[0m \u001b[0;34m=\u001b[0m \u001b[0;36m5\u001b[0m\u001b[0;34m\u001b[0m\u001b[0;34m\u001b[0m\u001b[0m\n\u001b[0m",
            "\u001b[0;31mTypeError\u001b[0m: 'tuple' object does not support item assignment"
          ]
        }
      ]
    },
    {
      "cell_type": "code",
      "metadata": {
        "id": "Gi_PyfB8dG4n"
      },
      "source": [
        "w = ([1, 2, 3], [3, 2, 1])"
      ],
      "execution_count": 41,
      "outputs": []
    },
    {
      "cell_type": "code",
      "metadata": {
        "id": "vo4jQX11dG4p",
        "colab": {
          "base_uri": "https://localhost:8080/"
        },
        "outputId": "c9bdcab1-3e6e-484a-aeff-47a24d83071a"
      },
      "source": [
        "print(w)"
      ],
      "execution_count": 42,
      "outputs": [
        {
          "output_type": "stream",
          "name": "stdout",
          "text": [
            "([1, 2, 3], [3, 2, 1])\n"
          ]
        }
      ]
    },
    {
      "cell_type": "code",
      "metadata": {
        "id": "wZjIEoZOdG4r"
      },
      "source": [
        "w[0][1] = 0               #튜플안의 리스트 요소는 대체 가능"
      ],
      "execution_count": 43,
      "outputs": []
    },
    {
      "cell_type": "code",
      "metadata": {
        "id": "os4geel2dG4v",
        "colab": {
          "base_uri": "https://localhost:8080/"
        },
        "outputId": "85aad6ce-19e8-4bd5-8900-c6dd0a132581"
      },
      "source": [
        "print(w)"
      ],
      "execution_count": 44,
      "outputs": [
        {
          "output_type": "stream",
          "name": "stdout",
          "text": [
            "([1, 0, 3], [3, 2, 1])\n"
          ]
        }
      ]
    },
    {
      "cell_type": "markdown",
      "source": [
        "### 4-4. 세트\n",
        "  - 집합연산에 사용되는 자료구조\n",
        "  - 원소의 중복을 허락하지 않음\n"
      ],
      "metadata": {
        "id": "R8TnY_8wPv0q"
      }
    },
    {
      "cell_type": "code",
      "source": [
        " a = set([0,0,0,1,2,3])\n",
        " print(a)"
      ],
      "metadata": {
        "id": "xNKpSINuQV1T",
        "outputId": "296070c1-f6a2-42ce-bded-3e4a73828917",
        "colab": {
          "base_uri": "https://localhost:8080/"
        }
      },
      "execution_count": 46,
      "outputs": [
        {
          "output_type": "stream",
          "name": "stdout",
          "text": [
            "{0, 1, 2, 3}\n"
          ]
        }
      ]
    },
    {
      "cell_type": "code",
      "source": [
        "b = set()\n",
        "b = {1,3,3,3,4,5,5,6}\n",
        "print(b)"
      ],
      "metadata": {
        "id": "Bt_yrA5KQgZx",
        "outputId": "ab54de40-4c67-4ac0-c4a0-8e8366a31ae6",
        "colab": {
          "base_uri": "https://localhost:8080/"
        }
      },
      "execution_count": 47,
      "outputs": [
        {
          "output_type": "stream",
          "name": "stdout",
          "text": [
            "{1, 3, 4, 5, 6}\n"
          ]
        }
      ]
    },
    {
      "cell_type": "code",
      "source": [
        "inter1 = a & b               # 교집합\n",
        "print(inter1)\n",
        "inter2 = a.intersection(b)\n",
        "print(inter2)"
      ],
      "metadata": {
        "id": "WYu9p9_LQqJs",
        "outputId": "686ad5ad-eff4-412c-952e-ca9287854df6",
        "colab": {
          "base_uri": "https://localhost:8080/"
        }
      },
      "execution_count": 49,
      "outputs": [
        {
          "output_type": "stream",
          "name": "stdout",
          "text": [
            "{1, 3}\n",
            "{1, 3}\n"
          ]
        }
      ]
    },
    {
      "cell_type": "code",
      "source": [
        "union1 = a | b                   # 합집한\n",
        "print(union1)\n",
        "union2 = a.union(b)\n",
        "print(union2)"
      ],
      "metadata": {
        "id": "rnXqH3wpQ70-",
        "outputId": "a9b45c0c-ed2a-4e4a-cb9f-a030658a37ed",
        "colab": {
          "base_uri": "https://localhost:8080/"
        }
      },
      "execution_count": 50,
      "outputs": [
        {
          "output_type": "stream",
          "name": "stdout",
          "text": [
            "{0, 1, 2, 3, 4, 5, 6}\n",
            "{0, 1, 2, 3, 4, 5, 6}\n"
          ]
        }
      ]
    },
    {
      "cell_type": "code",
      "source": [
        "sub1 = a - b\n",
        "print(sub1)\n",
        "sub2 = a.difference(b)\n",
        "print(sub2)"
      ],
      "metadata": {
        "id": "1zdikxtyRQ2w",
        "outputId": "e62b8fb9-3857-4293-cf07-3f68b646a3cd",
        "colab": {
          "base_uri": "https://localhost:8080/"
        }
      },
      "execution_count": null,
      "outputs": [
        {
          "output_type": "stream",
          "name": "stdout",
          "text": [
            "{0, 2}\n",
            "{0, 2}\n"
          ]
        }
      ]
    },
    {
      "cell_type": "code",
      "source": [
        "\n",
        "a.add(8)\n",
        "print(a)\n",
        "a.remove(8)\n",
        "print(a)\n",
        "a.discard(8) # 지우는 항목이 없어도 OK\n",
        "a.remove(8) # 지우는 항목이 없으면 에러"
      ],
      "metadata": {
        "id": "sGy1yzFhRwbz",
        "outputId": "1d028e2a-6ac5-4831-a629-30a1715dda81",
        "colab": {
          "base_uri": "https://localhost:8080/",
          "height": 244
        }
      },
      "execution_count": null,
      "outputs": [
        {
          "output_type": "stream",
          "name": "stdout",
          "text": [
            "{0, 1, 2, 3, 8}\n",
            "{0, 1, 2, 3}\n"
          ]
        },
        {
          "output_type": "error",
          "ename": "KeyError",
          "evalue": "ignored",
          "traceback": [
            "\u001b[0;31m---------------------------------------------------------------------------\u001b[0m",
            "\u001b[0;31mKeyError\u001b[0m                                  Traceback (most recent call last)",
            "\u001b[0;32m<ipython-input-21-d0b74e55d647>\u001b[0m in \u001b[0;36m<module>\u001b[0;34m()\u001b[0m\n\u001b[1;32m      5\u001b[0m \u001b[0mprint\u001b[0m\u001b[0;34m(\u001b[0m\u001b[0ma\u001b[0m\u001b[0;34m)\u001b[0m\u001b[0;34m\u001b[0m\u001b[0;34m\u001b[0m\u001b[0m\n\u001b[1;32m      6\u001b[0m \u001b[0ma\u001b[0m\u001b[0;34m.\u001b[0m\u001b[0mdiscard\u001b[0m\u001b[0;34m(\u001b[0m\u001b[0;36m8\u001b[0m\u001b[0;34m)\u001b[0m\u001b[0;34m\u001b[0m\u001b[0;34m\u001b[0m\u001b[0m\n\u001b[0;32m----> 7\u001b[0;31m \u001b[0ma\u001b[0m\u001b[0;34m.\u001b[0m\u001b[0mremove\u001b[0m\u001b[0;34m(\u001b[0m\u001b[0;36m8\u001b[0m\u001b[0;34m)\u001b[0m\u001b[0;34m\u001b[0m\u001b[0;34m\u001b[0m\u001b[0m\n\u001b[0m",
            "\u001b[0;31mKeyError\u001b[0m: 8"
          ]
        }
      ]
    },
    {
      "cell_type": "markdown",
      "metadata": {
        "id": "VygGc3agdG4x"
      },
      "source": [
        "## 5. 흐름 제어: if, for"
      ]
    },
    {
      "cell_type": "markdown",
      "metadata": {
        "id": "UYINmBkBdG4x"
      },
      "source": [
        "### 5-1. if\n",
        " - `if` 다음의 조건을 판단하여 참인 경우, 선택적으로 실행\n",
        " - 없거나 여러개의 elif 부가 있을 수 있고, else 는 선택적\n",
        " - `if ... elif ...` 로 switch, case 문 대체"
      ]
    },
    {
      "cell_type": "code",
      "metadata": {
        "id": "J4qWHAWOdG4x",
        "colab": {
          "base_uri": "https://localhost:8080/"
        },
        "outputId": "a2cc8e11-1e2d-477b-ad6a-db52bafc58b3"
      },
      "source": [
        "x = int(input(\"Please enter an integer: \"))"
      ],
      "execution_count": 52,
      "outputs": [
        {
          "name": "stdout",
          "output_type": "stream",
          "text": [
            "Please enter an integer: 12\n"
          ]
        }
      ]
    },
    {
      "cell_type": "code",
      "metadata": {
        "id": "_FZGcEREdG40",
        "colab": {
          "base_uri": "https://localhost:8080/"
        },
        "outputId": "35e7bfcf-94f7-4961-eb8f-bec2ef1c5d2b"
      },
      "source": [
        "if x < 0:\n",
        "    print('Negative')\n",
        "elif x == 0:\n",
        "    print('Zero')\n",
        "elif x == 1:\n",
        "    print('Single')\n",
        "else:\n",
        "    print('More')"
      ],
      "execution_count": 54,
      "outputs": [
        {
          "output_type": "stream",
          "name": "stdout",
          "text": [
            "More\n"
          ]
        }
      ]
    },
    {
      "cell_type": "markdown",
      "metadata": {
        "id": "-1MBhyRKdG42"
      },
      "source": [
        "### 5-2. for\n",
        "  - 시퀀스 (리스트나 문자열)의 항목들을 그 시퀀스에 들어있는 순서대로 순회하기 위해 사용"
      ]
    },
    {
      "cell_type": "code",
      "metadata": {
        "id": "KhEsXLz1dG43"
      },
      "source": [
        "words = ['cat', 'window', 'defenestrate']"
      ],
      "execution_count": 55,
      "outputs": []
    },
    {
      "cell_type": "code",
      "metadata": {
        "id": "bTcBmnQmdG45",
        "colab": {
          "base_uri": "https://localhost:8080/"
        },
        "outputId": "2773d39f-1d25-4f13-cd30-a95b47baa650"
      },
      "source": [
        "for w in words:\n",
        "    print(w, len(w))"
      ],
      "execution_count": 56,
      "outputs": [
        {
          "output_type": "stream",
          "name": "stdout",
          "text": [
            "cat 3\n",
            "window 6\n",
            "defenestrate 12\n"
          ]
        }
      ]
    },
    {
      "cell_type": "code",
      "metadata": {
        "id": "1oOZzKGudG47",
        "colab": {
          "base_uri": "https://localhost:8080/"
        },
        "outputId": "c54c8cc8-fa54-4827-c4e1-3ff061e829f0"
      },
      "source": [
        "for i, w in enumerate(words):\n",
        "    print(i, w)"
      ],
      "execution_count": 62,
      "outputs": [
        {
          "output_type": "stream",
          "name": "stdout",
          "text": [
            "0 cat\n",
            "1 window\n",
            "2 defenestrate\n"
          ]
        }
      ]
    },
    {
      "cell_type": "markdown",
      "metadata": {
        "id": "dDOXlgl-dG49"
      },
      "source": [
        "  - 숫자들의 시퀀스로 순회 `range()`사용, `range`는 리스트인 것처럼 동작하나 리스트는 아님 \n",
        "      - ex) `range(start, end, step)`"
      ]
    },
    {
      "cell_type": "code",
      "metadata": {
        "id": "xQT0_AW1dG49",
        "colab": {
          "base_uri": "https://localhost:8080/"
        },
        "outputId": "b1cea2e2-f51a-4769-e50f-c090d4f8e89a"
      },
      "source": [
        "for i in range(5):\n",
        "     print(i)"
      ],
      "execution_count": 63,
      "outputs": [
        {
          "output_type": "stream",
          "name": "stdout",
          "text": [
            "0\n",
            "1\n",
            "2\n",
            "3\n",
            "4\n"
          ]
        }
      ]
    },
    {
      "cell_type": "code",
      "metadata": {
        "id": "nJQNAjk8dG5A",
        "colab": {
          "base_uri": "https://localhost:8080/"
        },
        "outputId": "d06118d9-5b18-453d-c851-a441da74a216"
      },
      "source": [
        "for i in [0, 1, 2, 3, 4]:\n",
        "    print(i)"
      ],
      "execution_count": 64,
      "outputs": [
        {
          "output_type": "stream",
          "name": "stdout",
          "text": [
            "0\n",
            "1\n",
            "2\n",
            "3\n",
            "4\n"
          ]
        }
      ]
    },
    {
      "cell_type": "code",
      "metadata": {
        "id": "RCS_vLO5dG5C",
        "colab": {
          "base_uri": "https://localhost:8080/"
        },
        "outputId": "13cfa7ff-11e3-43ac-c44e-26e43e8e06e9"
      },
      "source": [
        "print(range(5))"
      ],
      "execution_count": 65,
      "outputs": [
        {
          "output_type": "stream",
          "name": "stdout",
          "text": [
            "range(0, 5)\n"
          ]
        }
      ]
    },
    {
      "cell_type": "code",
      "metadata": {
        "id": "hAKWM1b6dG5F",
        "colab": {
          "base_uri": "https://localhost:8080/"
        },
        "outputId": "d70c246f-95d0-49c4-ff16-2eee44b220d7"
      },
      "source": [
        "for i in range(0, 10, 3):\n",
        "     print(i)"
      ],
      "execution_count": 66,
      "outputs": [
        {
          "output_type": "stream",
          "name": "stdout",
          "text": [
            "0\n",
            "3\n",
            "6\n",
            "9\n"
          ]
        }
      ]
    },
    {
      "cell_type": "markdown",
      "metadata": {
        "id": "tp6F9J3cdG5G"
      },
      "source": [
        "## 6. 함수"
      ]
    },
    {
      "cell_type": "markdown",
      "metadata": {
        "id": "d8W_eu97dG5I"
      },
      "source": [
        "  - `def` 키워드로 함수 정의 시작, 함수 이름과 형식 매개변수 목록이 뒤따름, 함수 바디는 들여쓰기 된 다음줄에서 시작, 반환값은 `return` 다음 값\n",
        "  - 함수에서의 모든 변수 대입들은 값을 지역 심볼 테이블에 저장, 함수안 변수 참조 순서는 지역 심볼 테이블 -> 전역 심볼 테이블 -> 내장 이름 테이블\n",
        "  - 함수 인자: 위치 인자, 기본 인자 값, 키워드 인자값\n",
        "  - 하나이상의 값 `return` 가능 ex) `return a, b` : 반환 값은 `(a,b)`의 튜플 형식 "
      ]
    },
    {
      "cell_type": "code",
      "metadata": {
        "id": "vXsPiHt9dG5I"
      },
      "source": [
        "# 위치 인자 기본 인자\n",
        "def add(a, b=2):\n",
        "    c = a + b\n",
        "    return c"
      ],
      "execution_count": 67,
      "outputs": []
    },
    {
      "cell_type": "code",
      "metadata": {
        "id": "-Id12mKJdG5K",
        "colab": {
          "base_uri": "https://localhost:8080/"
        },
        "outputId": "e8bba8bd-9377-4768-a9cf-6265099e073a"
      },
      "source": [
        "print(add(2))"
      ],
      "execution_count": 68,
      "outputs": [
        {
          "output_type": "stream",
          "name": "stdout",
          "text": [
            "4\n"
          ]
        }
      ]
    },
    {
      "cell_type": "code",
      "metadata": {
        "id": "M29nQCHPdG5O",
        "colab": {
          "base_uri": "https://localhost:8080/"
        },
        "outputId": "e9704991-37dc-40c6-9107-5e95abdea01f"
      },
      "source": [
        "print(add(2,4))"
      ],
      "execution_count": 69,
      "outputs": [
        {
          "output_type": "stream",
          "name": "stdout",
          "text": [
            "6\n"
          ]
        }
      ]
    },
    {
      "cell_type": "code",
      "metadata": {
        "id": "9xaYZlmAdG5P",
        "colab": {
          "base_uri": "https://localhost:8080/"
        },
        "outputId": "ef3874e9-89ee-4e10-cc91-c1c044b5c9ee"
      },
      "source": [
        "print(add(2,b=4))"
      ],
      "execution_count": 70,
      "outputs": [
        {
          "output_type": "stream",
          "name": "stdout",
          "text": [
            "6\n"
          ]
        }
      ]
    },
    {
      "cell_type": "markdown",
      "metadata": {
        "id": "e6klAp6CdG5R"
      },
      "source": [
        "## 7. 기타"
      ]
    },
    {
      "cell_type": "markdown",
      "metadata": {
        "id": "t6MPSnnfdG5S"
      },
      "source": [
        "### with 구문\n",
        " - 특별한 컨테스트(리소스)에서 실행함을 나타나는데 사용\n",
        "     - ex) 파일 읽기 쓰기, DB 데이터 조회\n",
        " - 대표적으로 파일이나 소켓과 같은 특정한 리소스에 엑세스 하는 경우 해당 리소스를 열고, 리소스를 회수 반환\n",
        " - with 구문을 활용하면, 특정 블럭내의 동작으로 제한, 블록을 벗어나는 경우 컨텍스트(리소스)가 해제처리를 보장"
      ]
    },
    {
      "cell_type": "code",
      "metadata": {
        "id": "7cGjlemXdG5S"
      },
      "source": [
        "with open(\"test.txt\", 'w') as f:\n",
        "    f.write('지금 파이썬 연습중')"
      ],
      "execution_count": 71,
      "outputs": []
    },
    {
      "cell_type": "code",
      "metadata": {
        "id": "HZQN9DNEdG5U",
        "colab": {
          "base_uri": "https://localhost:8080/"
        },
        "outputId": "738fd226-4304-4839-8252-ab49d6a5e4ed"
      },
      "source": [
        "with open(\"test.txt\") as f:\n",
        "    data = f.read()\n",
        "    print(data)"
      ],
      "execution_count": 72,
      "outputs": [
        {
          "output_type": "stream",
          "name": "stdout",
          "text": [
            "지금 파이썬 연습중\n"
          ]
        }
      ]
    },
    {
      "cell_type": "code",
      "metadata": {
        "id": "VXJatE2vdG5X",
        "colab": {
          "base_uri": "https://localhost:8080/"
        },
        "outputId": "b4e31243-3bc4-414c-bd4f-4f5488ff8fb1"
      },
      "source": [
        "!ls"
      ],
      "execution_count": 73,
      "outputs": [
        {
          "output_type": "stream",
          "name": "stdout",
          "text": [
            "drive  sample_data  test.txt\n"
          ]
        }
      ]
    },
    {
      "cell_type": "code",
      "metadata": {
        "colab": {
          "base_uri": "https://localhost:8080/"
        },
        "id": "g0QzWV0794Qu",
        "outputId": "309c9d24-c939-4204-b1d6-8992534d7096"
      },
      "source": [
        "!pwd"
      ],
      "execution_count": 74,
      "outputs": [
        {
          "output_type": "stream",
          "name": "stdout",
          "text": [
            "/content\n"
          ]
        }
      ]
    },
    {
      "cell_type": "code",
      "metadata": {
        "id": "3r3a1SpF96wB"
      },
      "source": [
        ""
      ],
      "execution_count": null,
      "outputs": []
    }
  ]
}