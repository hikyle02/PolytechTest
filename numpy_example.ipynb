{
  "nbformat": 4,
  "nbformat_minor": 0,
  "metadata": {
    "colab": {
      "name": "numpy_example",
      "provenance": [],
      "collapsed_sections": [],
      "include_colab_link": true
    },
    "kernelspec": {
      "name": "python3",
      "display_name": "Python 3"
    }
  },
  "cells": [
    {
      "cell_type": "markdown",
      "metadata": {
        "id": "view-in-github",
        "colab_type": "text"
      },
      "source": [
        "<a href=\"https://colab.research.google.com/github/hikyle02/PolytechTest/blob/master/numpy_example.ipynb\" target=\"_parent\"><img src=\"https://colab.research.google.com/assets/colab-badge.svg\" alt=\"Open In Colab\"/></a>"
      ]
    },
    {
      "cell_type": "code",
      "metadata": {
        "id": "hIMhopxEtoXg",
        "colab": {
          "base_uri": "https://localhost:8080/"
        },
        "outputId": "79da1715-3043-4049-885e-c72f6ac52d9e"
      },
      "source": [
        "import numpy as np\n",
        "\n",
        "# ndarray basic\n",
        "a = np.array([1, 2, 3])   # Create a rank 1 array\n",
        "print(type(a))            # Prints \"<class 'numpy.ndarray'>\"\n",
        "print(a.shape)            # Prints \"(3,)\" dimension\n",
        "print(a[0], a[1], a[2])   # Prints \"1 2 3\"\n",
        "a[0] = 5                  # Change an element of the array\n",
        "print(a)                  # Prints \"[5, 2, 3]\"\n",
        "\n",
        "b = np.array([[1,2,3],[4,5,6]])    # Create a rank 2 array\n",
        "print(b.shape)                     # Prints \"(2, 3)\" dimension of array\n",
        "print(b[0, 0], b[0, 1], b[1, 0])   # Prints \"1 2 4\""
      ],
      "execution_count": 2,
      "outputs": [
        {
          "output_type": "stream",
          "name": "stdout",
          "text": [
            "<class 'numpy.ndarray'>\n",
            "(3,)\n",
            "1 2 3\n",
            "[5 2 3]\n",
            "(2, 3)\n",
            "1 2 4\n"
          ]
        }
      ]
    },
    {
      "cell_type": "code",
      "source": [
        "from google.colab import drive\n",
        "drive.mount('/content/drive')"
      ],
      "metadata": {
        "id": "cB5hNS6OV8hx",
        "outputId": "205707a8-f544-437c-fbd0-8d0aadbd7b6c",
        "colab": {
          "base_uri": "https://localhost:8080/"
        }
      },
      "execution_count": 1,
      "outputs": [
        {
          "output_type": "stream",
          "name": "stdout",
          "text": [
            "Mounted at /content/drive\n"
          ]
        }
      ]
    },
    {
      "cell_type": "code",
      "metadata": {
        "colab": {
          "base_uri": "https://localhost:8080/"
        },
        "id": "e1Bgpk3K0uWh",
        "outputId": "3e5cc7a5-ada4-438f-f054-a2a7e054cbc8"
      },
      "source": [
        "# ndarray 설정\n",
        "\n",
        "a = np.zeros((2,2))   # Create an array(2 by 2) of all zeros\n",
        "print(a)              # Prints \"[[ 0.  0.]\n",
        "                      #          [ 0.  0.]]\"\n",
        "\n",
        "b = np.ones((1,2))    # Create an array of all ones\n",
        "print(b)              # Prints \"[[ 1.  1.]]\"\n",
        "\n",
        "c = np.full((2,2), 7)  # Create a constant array(2 by 2) and input 7 into all array\n",
        "print(c)               # Prints \"[[ 7.  7.]\n",
        "                       #          [ 7.  7.]]\"\n",
        "\n",
        "d = np.eye(2)         # Create a 2x2 identity matrix\n",
        "print(d)              # Prints \"[[ 1.  0.]\n",
        "                      #          [ 0.  1.]]\"\n",
        "\n",
        "e = np.random.random((2,2))  # Create an array filled with random values\n",
        "print(e)                     # Might print \"[[ 0.91940167  0.08143941]\n",
        "                             #               [ 0.68744134  0.87236687]]\"\n",
        "\n",
        "f = np.empty((3,3)) # will show garbage data in memory\n",
        "print(f)"
      ],
      "execution_count": 4,
      "outputs": [
        {
          "output_type": "stream",
          "name": "stdout",
          "text": [
            "[[0. 0.]\n",
            " [0. 0.]]\n",
            "[[1. 1.]]\n",
            "[[7 7]\n",
            " [7 7]]\n",
            "[[1. 0.]\n",
            " [0. 1.]]\n",
            "[[0.68842543 0.44127579]\n",
            " [0.24207435 0.0527941 ]]\n",
            "[[1.69194006e-316 1.77863633e-322 0.00000000e+000]\n",
            " [0.00000000e+000 0.00000000e+000 9.96451285e-047]\n",
            " [1.77296590e+160 7.12059750e-091 2.10580693e-076]]\n"
          ]
        }
      ]
    },
    {
      "cell_type": "code",
      "metadata": {
        "colab": {
          "base_uri": "https://localhost:8080/"
        },
        "id": "Xrvn0LJ-231C",
        "outputId": "7b19c9bf-9bda-4f99-d775-d3b21459bf97"
      },
      "source": [
        "# indexing\n",
        "\n",
        "a = np.array([[1,2], [3, 4], [5, 6]])   # 3 by 2\n",
        "\n",
        "# An example of integer array indexing.\n",
        "# The returned array will have shape (3,) and\n",
        "print(a[[0, 1, 2], [0, 1, 0]])  # Prints \"[1 4 5]\"\n",
        "\n",
        "# The above example of integer array indexing is equivalent to this:\n",
        "print(np.array([a[0, 0], a[1, 1], a[2, 0]]))  # Prints \"[1 4 5]\" \n",
        "\n",
        "# When using integer array indexing, you can reuse the same\n",
        "# element from the source array:\n",
        "print(a[[0, 0], [1, 1]])  # Prints \"[2 2]\"\n",
        "\n",
        "# Equivalent to the previous integer array indexing example\n",
        "print(np.array([a[0, 1], a[0, 1]]))  # Prints \"[2 2]\""
      ],
      "execution_count": null,
      "outputs": [
        {
          "output_type": "stream",
          "name": "stdout",
          "text": [
            "[1 4 5]\n",
            "[1 4 5]\n",
            "[2 2]\n",
            "[2 2]\n"
          ]
        }
      ]
    },
    {
      "cell_type": "code",
      "metadata": {
        "colab": {
          "base_uri": "https://localhost:8080/"
        },
        "id": "-84tS1Yt6kuc",
        "outputId": "d2084a8d-4672-4fd4-976d-462b91bf1b20"
      },
      "source": [
        "# Broadcasting\n",
        "\n",
        "import numpy as np\n",
        "\n",
        "# We will add the vector v to each row of the matrix x,\n",
        "# storing the result in the matrix y\n",
        "x = np.array([[1,2,3], [4,5,6], [7,8,9], [10, 11, 12]])\n",
        "v = np.array([1, 0, 1])\n",
        "y = x + v  # Add v to each row of x using broadcasting\n",
        "print(y)  # Prints \"[[ 2  2  4]\n",
        "          #          [ 5  5  7]\n",
        "          #          [ 8  8 10]\n",
        "          #          [11 11 13]]\""
      ],
      "execution_count": 5,
      "outputs": [
        {
          "output_type": "stream",
          "name": "stdout",
          "text": [
            "[[ 2  2  4]\n",
            " [ 5  5  7]\n",
            " [ 8  8 10]\n",
            " [11 11 13]]\n"
          ]
        }
      ]
    },
    {
      "cell_type": "code",
      "metadata": {
        "colab": {
          "base_uri": "https://localhost:8080/"
        },
        "id": "e2j19jWM0eG6",
        "outputId": "0582b363-a96f-490c-c8af-10b454ea2988"
      },
      "source": [
        "# Math\n",
        "mat1 = np.ones((3,3))  # input 1 in all cell of array 3by3\n",
        "print(mat1)"
      ],
      "execution_count": 8,
      "outputs": [
        {
          "output_type": "stream",
          "name": "stdout",
          "text": [
            "[[1. 1. 1.]\n",
            " [1. 1. 1.]\n",
            " [1. 1. 1.]]\n"
          ]
        }
      ]
    },
    {
      "cell_type": "code",
      "metadata": {
        "id": "YRysw2RztpzX",
        "colab": {
          "base_uri": "https://localhost:8080/"
        },
        "outputId": "c1ca6612-97c6-441d-aede-64267ba364b3"
      },
      "source": [
        "cnt = 1\n",
        "mat2 = np.zeros((3,3))\n",
        "for i in range(3):\n",
        "  for j in range(3):\n",
        "    mat2[i,j] = mat1[i,j]*cnt\n",
        "    cnt = cnt + 1\n",
        "print(mat2)"
      ],
      "execution_count": 9,
      "outputs": [
        {
          "output_type": "stream",
          "name": "stdout",
          "text": [
            "[[1. 2. 3.]\n",
            " [4. 5. 6.]\n",
            " [7. 8. 9.]]\n"
          ]
        }
      ]
    },
    {
      "cell_type": "code",
      "metadata": {
        "id": "fDxqjO0UuMBP",
        "colab": {
          "base_uri": "https://localhost:8080/"
        },
        "outputId": "d454acbd-ac68-49d3-bb3d-f2da59233cbd"
      },
      "source": [
        "mat3 = (mat1 + mat2) * mat2 - mat1/mat2\n",
        "print(mat3)\n",
        "\n",
        "mat3_1 = np.subtract( np.multiply( np.add(mat1, mat2), mat2), np.divide(mat1,mat2) )\n",
        "print(mat3_1)"
      ],
      "execution_count": 10,
      "outputs": [
        {
          "output_type": "stream",
          "name": "stdout",
          "text": [
            "[[ 1.          5.5        11.66666667]\n",
            " [19.75       29.8        41.83333333]\n",
            " [55.85714286 71.875      89.88888889]]\n",
            "[[ 1.          5.5        11.66666667]\n",
            " [19.75       29.8        41.83333333]\n",
            " [55.85714286 71.875      89.88888889]]\n"
          ]
        }
      ]
    },
    {
      "cell_type": "code",
      "metadata": {
        "id": "s6VY6DHTulaK",
        "colab": {
          "base_uri": "https://localhost:8080/"
        },
        "outputId": "aed3a7f6-c7a5-4de5-ec07-cbab0bcbeab2"
      },
      "source": [
        "mat4 = np.dot(mat2, mat3)\n",
        "print(mat4)"
      ],
      "execution_count": 13,
      "outputs": [
        {
          "output_type": "stream",
          "name": "stdout",
          "text": [
            "[[ 208.07142857  280.725       365.        ]\n",
            " [ 437.89285714  602.25        795.16666667]\n",
            " [ 667.71428571  923.775      1225.33333333]]\n"
          ]
        }
      ]
    },
    {
      "cell_type": "code",
      "metadata": {
        "id": "e1_tVJ7nurcL",
        "colab": {
          "base_uri": "https://localhost:8080/"
        },
        "outputId": "87d94f7d-f67f-40ec-fae4-d700dc57338e"
      },
      "source": [
        "mat5 = np.matmul(mat2, mat3)  # matrix multiply\n",
        "print(mat5)"
      ],
      "execution_count": 12,
      "outputs": [
        {
          "output_type": "stream",
          "name": "stdout",
          "text": [
            "[[ 208.07142857  280.725       365.        ]\n",
            " [ 437.89285714  602.25        795.16666667]\n",
            " [ 667.71428571  923.775      1225.33333333]]\n"
          ]
        }
      ]
    },
    {
      "cell_type": "code",
      "metadata": {
        "id": "1LgST1Hr1BPF",
        "colab": {
          "base_uri": "https://localhost:8080/"
        },
        "outputId": "408b11f7-8391-4034-b92d-d45693b9c26d"
      },
      "source": [
        "vec = np.array([1,2,3])\n",
        "print(vec)"
      ],
      "execution_count": null,
      "outputs": [
        {
          "output_type": "stream",
          "name": "stdout",
          "text": [
            "[1 2 3]\n"
          ]
        }
      ]
    },
    {
      "cell_type": "code",
      "metadata": {
        "id": "uADGpgcw1wLD",
        "colab": {
          "base_uri": "https://localhost:8080/"
        },
        "outputId": "df058aa5-bc94-45e8-8e20-7938f7a3757b"
      },
      "source": [
        "mat6 = np.dot(mat2, vec)\n",
        "print(mat6)"
      ],
      "execution_count": null,
      "outputs": [
        {
          "output_type": "stream",
          "name": "stdout",
          "text": [
            "[14. 32. 50.]\n"
          ]
        }
      ]
    },
    {
      "cell_type": "code",
      "metadata": {
        "id": "nkUL0Rcw16oR",
        "colab": {
          "base_uri": "https://localhost:8080/"
        },
        "outputId": "b288c69f-9097-4eab-f64a-876b1917cc7f"
      },
      "source": [
        "mat7 = np.matmul(mat2, vec)\n",
        "print(mat7)"
      ],
      "execution_count": null,
      "outputs": [
        {
          "output_type": "stream",
          "name": "stdout",
          "text": [
            "[14. 32. 50.]\n"
          ]
        }
      ]
    },
    {
      "cell_type": "code",
      "metadata": {
        "id": "s_m33map2tXP"
      },
      "source": [
        ""
      ],
      "execution_count": null,
      "outputs": []
    }
  ]
}