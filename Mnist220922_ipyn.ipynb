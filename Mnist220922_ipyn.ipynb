{
  "nbformat": 4,
  "nbformat_minor": 0,
  "metadata": {
    "colab": {
      "provenance": [],
      "collapsed_sections": [],
      "mount_file_id": "1GEDbj-oNU6eYw4o03xXlVyiyBTDj6ioq",
      "authorship_tag": "ABX9TyMocsqGsrGvXhs3lnfn2b4F",
      "include_colab_link": true
    },
    "kernelspec": {
      "name": "python3",
      "display_name": "Python 3"
    },
    "language_info": {
      "name": "python"
    }
  },
  "cells": [
    {
      "cell_type": "markdown",
      "metadata": {
        "id": "view-in-github",
        "colab_type": "text"
      },
      "source": [
        "<a href=\"https://colab.research.google.com/github/hikyle02/PolytechTest/blob/master/Mnist220922_ipyn.ipynb\" target=\"_parent\"><img src=\"https://colab.research.google.com/assets/colab-badge.svg\" alt=\"Open In Colab\"/></a>"
      ]
    },
    {
      "cell_type": "code",
      "execution_count": 1,
      "metadata": {
        "id": "yLwBmn5uG5Ky",
        "colab": {
          "base_uri": "https://localhost:8080/",
          "height": 1000
        },
        "outputId": "5fa9e436-e5b5-4e7f-b26a-2b1571390257"
      },
      "outputs": [
        {
          "output_type": "stream",
          "name": "stdout",
          "text": [
            "Downloading data from https://storage.googleapis.com/tensorflow/tf-keras-datasets/mnist.npz\n",
            "11493376/11490434 [==============================] - 0s 0us/step\n",
            "11501568/11490434 [==============================] - 0s 0us/step\n",
            "Epoch 1/10\n",
            "469/469 [==============================] - 10s 18ms/step - loss: 0.2445 - accuracy: 0.9251\n",
            "Epoch 2/10\n",
            "469/469 [==============================] - 9s 19ms/step - loss: 0.1018 - accuracy: 0.9685\n",
            "Epoch 3/10\n",
            "469/469 [==============================] - 9s 18ms/step - loss: 0.0741 - accuracy: 0.9776\n",
            "Epoch 4/10\n",
            "469/469 [==============================] - 9s 18ms/step - loss: 0.0603 - accuracy: 0.9822\n",
            "Epoch 5/10\n",
            "469/469 [==============================] - 9s 18ms/step - loss: 0.0489 - accuracy: 0.9846\n",
            "Epoch 6/10\n",
            "469/469 [==============================] - 9s 18ms/step - loss: 0.0423 - accuracy: 0.9872\n",
            "Epoch 7/10\n",
            "469/469 [==============================] - 9s 19ms/step - loss: 0.0375 - accuracy: 0.9889\n",
            "Epoch 8/10\n",
            "469/469 [==============================] - 9s 18ms/step - loss: 0.0334 - accuracy: 0.9901\n",
            "Epoch 9/10\n",
            "469/469 [==============================] - 9s 19ms/step - loss: 0.0305 - accuracy: 0.9906\n",
            "Epoch 10/10\n",
            "469/469 [==============================] - 9s 19ms/step - loss: 0.0292 - accuracy: 0.9916\n",
            "313/313 [==============================] - 1s 3ms/step - loss: 0.0935 - accuracy: 0.9812\n",
            "정답율 test_acc:  0.9811999797821045 loss 0.09350048750638962\n",
            "{'loss': [0.2445061057806015, 0.10175029188394547, 0.07406456023454666, 0.06033902242779732, 0.04893261566758156, 0.04227377846837044, 0.03745388239622116, 0.03337184339761734, 0.0305277518928051, 0.029215017333626747], 'accuracy': [0.9251000285148621, 0.9684833288192749, 0.9775833487510681, 0.9822333455085754, 0.9846166372299194, 0.9871500134468079, 0.9889333248138428, 0.9901000261306763, 0.9905833601951599, 0.9916333556175232]}\n"
          ]
        },
        {
          "output_type": "display_data",
          "data": {
            "text/plain": [
              "<Figure size 432x288 with 1 Axes>"
            ],
            "image/png": "[encoded data removed]"
          },
          "metadata": {
            "needs_background": "light"
          }
        },
        {
          "output_type": "display_data",
          "data": {
            "text/plain": [
              "<Figure size 432x288 with 1 Axes>"
            ],
            "image/png": "[encoded data removed]"
          },
          "metadata": {
            "needs_background": "light"
          }
        }
      ],
      "source": [
        "##MNIST 데이터의 신경망 적용\n",
        "import keras\n",
        "from keras.datasets import mnist\n",
        "from keras import models\n",
        "from keras import layers\n",
        "import matplotlib.pyplot as plt\n",
        "#from keras.utils import to_categorical\n",
        "\n",
        "# MNIST 데이터셋 불러오기\n",
        "(train_images, train_labels), (test_images, test_labels) = mnist.load_data()\n",
        "\n",
        "# 이미지 데이터 준비하기 (모델에 맞는 크기로 바꾸고 0과 1사이로 스케일링)\n",
        "# train_images = train_images.reshape((60000, 28 * 28)) #테서모양 변환 : 2차원 -> 1차원\n",
        "# train_images = train_images.astype('float32') / 255 # float32 데이터형으로 변환하고 [0,255] 범위를 [0,1] 범위로 정규화\n",
        "# test_images = test_images.reshape((10000, 28 * 28))\n",
        "# test_images = test_images.astype('float32') / 255\n",
        "train_images = train_images.reshape((60000, 28 * 28)).astype('float32') / 255\n",
        "test_images = test_images.reshape((10000, 28 * 28)).astype('float32') / 255\n",
        "\n",
        "# 레이블을 범주형으로 인코딩\n",
        "train_labels = keras.utils.np_utils.to_categorical(train_labels) #레이블을 원핫 코드로 변환\n",
        "test_labels = keras.utils.np_utils.to_categorical(test_labels)\n",
        "\n",
        "# 모델 정의하기 (여기에서는 Sequential 클래스 사용)\n",
        "model = models.Sequential()\n",
        "# model.add(layers.Dense(512, activation='relu', input_shape=(28 * 28,)))\n",
        "# model.add(layers.Dense(10, activation='softmax'))\n",
        "model.add(layers.Dense(512, activation='relu', input_shape=(28 * 28,))) # 512: 은닉층 노드 개수,input_shape: 신경망의 입력층 노드 개수\n",
        "model.add(layers.Dropout(0.2))\n",
        "model.add(layers.Dense(512, activation='relu'))\n",
        "model.add(layers.Dropout(0.2))\n",
        "model.add(layers.Dense(10, activation='softmax'))  # 10: 출력층 노드 개수\n",
        "\n",
        "\n",
        "\n",
        "# 모델 컴파일 하기 (compile 함수로 학습 준비)\n",
        "model.compile(optimizer='rmsprop', # 또는 optimizer=Adam(learning_rate=0.001)\n",
        "                loss='categorical_crossentropy',  #또는 loss='mean_squared_error'\n",
        "                metrics=['accuracy'])\n",
        "\n",
        "# fit() 메서드로 모델 훈련 시키기\n",
        "# fit 함수로 실제 학습 수행(batch_size는 미니배치 크기, epochs는 최대 세대수, validation_data는 학습 도중에 사용할 검증 집합 설정)\n",
        "# 학습 도중에 발생한 정보를 hist 객체에 저장(시각화에 활용)\n",
        "hist=model.fit(train_images, train_labels,\n",
        "               epochs=10, batch_size=128)#, )\n",
        "               #verbose=1, validation_data=(test_images, test_labels))\n",
        "\n",
        "#모델 저장  **********\n",
        "model.save('trainedKerasModelMnist')\n",
        "\n",
        "# 테스트 데이터로 정확도 측정하기\n",
        "test_loss, test_acc = model.evaluate(test_images, test_labels)\n",
        "print('정답율 test_acc: ', test_acc, 'loss', test_loss)\n",
        "\n",
        "print(hist.history)\n",
        "\n",
        "plt.plot(hist.history['accuracy']) #매 epoch 마다 훈련의 정확도 \n",
        "\n",
        "plt.title(\"accuacy\")\n",
        "plt.legend(['train', 'test'], loc='upper left')\n",
        "plt.grid()\n",
        "plt.xlabel('Epoch')\n",
        "plt.ylabel('Accuracy')\n",
        "plt.show()\n",
        "\n",
        "plt.plot(hist.history['loss'])\n",
        "#plt.plot(hist.history['val_loss'])\n",
        "plt.title(\"loss\")\n",
        "plt.legend(['train', 'test'], loc='upper left')\n",
        "plt.show()\n",
        "\n",
        "#https://cyc1am3n.github.io/2018/11/02/introduction-to-keras.html"
      ]
    },
    {
      "cell_type": "code",
      "source": [
        "\n",
        "!pip install opencv-python\n",
        "\n",
        "from google.colab.patches import cv2_imshow"
      ],
      "metadata": {
        "colab": {
          "base_uri": "https://localhost:8080/"
        },
        "id": "toSMGocATO-M",
        "outputId": "a70b781a-f512-46b7-eea5-f8a0cdf16606"
      },
      "execution_count": 2,
      "outputs": [
        {
          "output_type": "stream",
          "name": "stdout",
          "text": [
            "Looking in indexes: https://pypi.org/simple, https://us-python.pkg.dev/colab-wheels/public/simple/\n",
            "Requirement already satisfied: opencv-python in /usr/local/lib/python3.7/dist-packages (4.6.0.66)\n",
            "Requirement already satisfied: numpy>=1.14.5 in /usr/local/lib/python3.7/dist-packages (from opencv-python) (1.21.6)\n"
          ]
        }
      ]
    },
    {
      "cell_type": "code",
      "source": [
        "#학습된 모델 불러오기 & 나의 숫자 predict.\n",
        "from keras.models import load_model\n",
        "model = load_model('trainedKerasModelMnist')\n",
        "print(model.summary())\n",
        "import cv2  #install opencv-python\n",
        "\n",
        "\n",
        "\n",
        "my_img = cv2.imread('/content/drive/MyDrive/Colab Notebooks/SAM.png', cv2.IMREAD_UNCHANGED) #이미지 읽어옴\n",
        "\n",
        "# #/content/drive/MyDrive/Colab Notebooks/3.png\n",
        "\n",
        "\n",
        "my_img = cv2.cvtColor(my_img, cv2.COLOR_BGR2GRAY) #흑백으로 색깔바꿈\n",
        "my_img = 255- my_img  #흑백 반전\n",
        "\n",
        "cv2_imshow(my_img)\n",
        "cv2.waitKey(0)\n",
        "cv2.destroyAllWindows()\n",
        "\n",
        "my_img = cv2.resize(my_img, (28,28)) #이미지 크기 변경 \n",
        "print(my_img.shape)\n",
        "import matplotlib.pyplot as plt\n",
        "plt.imshow(my_img,'gray')\n",
        "plt.show()\n",
        "\n",
        "#my_img = my_img.astype('float32') / 255.\n",
        "my_img = my_img.reshape((-1,28*28)) #.astype('float32') / 255\n",
        "\n",
        "print(\"my_img\", my_img.shape)\n",
        "\n",
        "y_prob = model.predict(my_img)\n",
        "\n",
        "print(\"y_prob\" , y_prob.shape)\n",
        "\n",
        "print(y_prob)\n",
        "\n",
        "pred = y_prob.argmax(axis=-1)\n",
        "\n",
        "\n",
        "\n",
        "print(\"The Answer is \", pred)"
      ],
      "metadata": {
        "colab": {
          "base_uri": "https://localhost:8080/",
          "height": 1000
        },
        "id": "wHEpuDYsIzFH",
        "outputId": "e004ec3a-cb5e-4ae3-fb92-8ceff4441025"
      },
      "execution_count": 3,
      "outputs": [
        {
          "output_type": "stream",
          "name": "stdout",
          "text": [
            "Model: \"sequential\"\n",
            "_________________________________________________________________\n",
            " Layer (type)                Output Shape              Param #   \n",
            "=================================================================\n",
            " dense (Dense)               (None, 512)               401920    \n",
            "                                                                 \n",
            " dropout (Dropout)           (None, 512)               0         \n",
            "                                                                 \n",
            " dense_1 (Dense)             (None, 512)               262656    \n",
            "                                                                 \n",
            " dropout_1 (Dropout)         (None, 512)               0         \n",
            "                                                                 \n",
            " dense_2 (Dense)             (None, 10)                5130      \n",
            "                                                                 \n",
            "=================================================================\n",
            "Total params: 669,706\n",
            "Trainable params: 669,706\n",
            "Non-trainable params: 0\n",
            "_________________________________________________________________\n",
            "None\n"
          ]
        },
        {
          "output_type": "display_data",
          "data": {
            "text/plain": [
              "<PIL.Image.Image image mode=L size=404x340 at 0x7F86F5BA0550>"
            ],
            "image/png": "[encoded data removed]"
          },
          "metadata": {}
        },
        {
          "output_type": "stream",
          "name": "stdout",
          "text": [
            "(28, 28)\n"
          ]
        },
        {
          "output_type": "display_data",
          "data": {
            "text/plain": [
              "<Figure size 432x288 with 1 Axes>"
            ],
            "image/png": "[encoded data removed]"
          },
          "metadata": {
            "needs_background": "light"
          }
        },
        {
          "output_type": "stream",
          "name": "stdout",
          "text": [
            "my_img (1, 784)\n",
            "y_prob (1, 10)\n",
            "[[0. 0. 0. 1. 0. 0. 0. 0. 0. 0.]]\n",
            "The Answer is  [3]\n"
          ]
        }
      ]
    },
    {
      "cell_type": "code",
      "source": [],
      "metadata": {
        "id": "YrMt_bUmVwdA"
      },
      "execution_count": null,
      "outputs": []
    },
    {
      "cell_type": "code",
      "source": [
        "#학습된 모델 불러오기 & 나의 숫자 predict.\n",
        "from keras.models import load_model\n",
        "model = load_model('trainedKerasModelMnist')\n",
        "print(model.summary())\n",
        "import cv2  #install opencv-python\n",
        "\n",
        "\n",
        "\n",
        "my_img = cv2.imread('/content/drive/MyDrive/Colab Notebooks/four.png', cv2.IMREAD_UNCHANGED) #이미지 읽어옴\n",
        "\n",
        "# #/content/drive/MyDrive/Colab Notebooks/3.png\n",
        "\n",
        "\n",
        "my_img = cv2.cvtColor(my_img, cv2.COLOR_BGR2GRAY) #흑백으로 색깔바꿈\n",
        "my_img = 255- my_img  #흑백 반전\n",
        "\n",
        "cv2_imshow(my_img)\n",
        "cv2.waitKey(0)\n",
        "cv2.destroyAllWindows()\n",
        "\n",
        "my_img = cv2.resize(my_img, (28,28)) #이미지 크기 변경 \n",
        "print(my_img.shape)\n",
        "import matplotlib.pyplot as plt\n",
        "plt.imshow(my_img,'gray')\n",
        "plt.show()\n",
        "\n",
        "#my_img = my_img.astype('float32') / 255.\n",
        "my_img = my_img.reshape((-1,28*28)) #.astype('float32') / 255\n",
        "\n",
        "print(\"my_img\", my_img.shape)\n",
        "\n",
        "y_prob = model.predict(my_img)\n",
        "\n",
        "print(\"y_prob\" , y_prob.shape)\n",
        "\n",
        "print(y_prob)\n",
        "\n",
        "pred = y_prob.argmax(axis=-1)\n",
        "\n",
        "\n",
        "\n",
        "print(\"The Answer is \", pred)"
      ],
      "metadata": {
        "colab": {
          "base_uri": "https://localhost:8080/",
          "height": 1000
        },
        "outputId": "2af447eb-be3a-4e7e-84f5-1705e2e555b6",
        "id": "7SV6enBBXTpw"
      },
      "execution_count": null,
      "outputs": [
        {
          "output_type": "stream",
          "name": "stdout",
          "text": [
            "Model: \"sequential\"\n",
            "_________________________________________________________________\n",
            " Layer (type)                Output Shape              Param #   \n",
            "=================================================================\n",
            " dense (Dense)               (None, 512)               401920    \n",
            "                                                                 \n",
            " dropout (Dropout)           (None, 512)               0         \n",
            "                                                                 \n",
            " dense_1 (Dense)             (None, 512)               262656    \n",
            "                                                                 \n",
            " dropout_1 (Dropout)         (None, 512)               0         \n",
            "                                                                 \n",
            " dense_2 (Dense)             (None, 10)                5130      \n",
            "                                                                 \n",
            "=================================================================\n",
            "Total params: 669,706\n",
            "Trainable params: 669,706\n",
            "Non-trainable params: 0\n",
            "_________________________________________________________________\n",
            "None\n"
          ]
        },
        {
          "output_type": "display_data",
          "data": {
            "text/plain": [
              "<PIL.Image.Image image mode=L size=441x410 at 0x7F1DB0D03790>"
            ],
            "image/png": "[encoded data removed]"
          },
          "metadata": {}
        },
        {
          "output_type": "stream",
          "name": "stdout",
          "text": [
            "(28, 28)\n"
          ]
        },
        {
          "output_type": "display_data",
          "data": {
            "text/plain": [
              "<Figure size 432x288 with 1 Axes>"
            ],
            "image/png": "[encoded data removed]"
          },
          "metadata": {
            "needs_background": "light"
          }
        },
        {
          "output_type": "stream",
          "name": "stdout",
          "text": [
            "my_img (1, 784)\n",
            "y_prob (1, 10)\n",
            "[[0. 0. 0. 0. 1. 0. 0. 0. 0. 0.]]\n",
            "The Answer is  [4]\n"
          ]
        }
      ]
    }
  ]
}