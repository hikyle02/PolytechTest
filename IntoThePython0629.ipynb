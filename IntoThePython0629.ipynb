{
  "nbformat": 4,
  "nbformat_minor": 0,
  "metadata": {
    "colab": {
      "provenance": [],
      "mount_file_id": "1Zk6TgU5w91JeTh4lXwXi6X0zQbcMC7yT",
      "authorship_tag": "ABX9TyPQuFnsOMvhs10B6dPwUR6G",
      "include_colab_link": true
    },
    "kernelspec": {
      "name": "python3",
      "display_name": "Python 3"
    },
    "language_info": {
      "name": "python"
    }
  },
  "cells": [
    {
      "cell_type": "markdown",
      "metadata": {
        "id": "view-in-github",
        "colab_type": "text"
      },
      "source": [
        "<a href=\"https://colab.research.google.com/github/hikyle02/PolytechTest/blob/master/IntoThePython0629.ipynb\" target=\"_parent\"><img src=\"https://colab.research.google.com/assets/colab-badge.svg\" alt=\"Open In Colab\"/></a>"
      ]
    },
    {
      "cell_type": "code",
      "execution_count": null,
      "metadata": {
        "colab": {
          "base_uri": "https://localhost:8080/"
        },
        "id": "AF6xNYVoQRAx",
        "outputId": "5584711a-5147-46f3-d0d8-0026d4e22d01"
      },
      "outputs": [
        {
          "output_type": "stream",
          "name": "stdout",
          "text": [
            "(<tf.Tensor: shape=(2,), dtype=int32, numpy=array([1, 2], dtype=int32)>, <tf.Tensor: shape=(), dtype=int32, numpy=0>)\n",
            "(<tf.Tensor: shape=(2,), dtype=int32, numpy=array([3, 4], dtype=int32)>, <tf.Tensor: shape=(), dtype=int32, numpy=1>)\n",
            "(<tf.Tensor: shape=(2,), dtype=int32, numpy=array([5, 6], dtype=int32)>, <tf.Tensor: shape=(), dtype=int32, numpy=0>)\n"
          ]
        }
      ],
      "source": [
        "import tensorflow as tf\n",
        "\n",
        "# 예제 데이터\n",
        "features = [[1, 2], [3, 4], [5, 6]]\n",
        "labels = [0, 1, 0]\n",
        "\n",
        "# 튜플을 사용하여 데이터셋 생성\n",
        "dataset = tf.data.Dataset.from_tensor_slices((features, labels))\n",
        "\n",
        "for element in dataset:\n",
        "    print(element)\n"
      ]
    },
    {
      "cell_type": "code",
      "source": [
        "def calculate_statistics(numbers):\n",
        "    mean = sum(numbers) / len(numbers)\n",
        "    variance = sum((x - mean) ** 2 for x in numbers) / len(numbers)\n",
        "    return mean, variance\n",
        "\n",
        "# 튜플로 반환된 값을 함수 인수로 사용\n",
        "numbers = [1, 2, 3, 4, 5]\n",
        "mean, variance = calculate_statistics(numbers)\n",
        "print(f\"Mean: {mean}, Variance: {variance}\")\n",
        "\n",
        "def print_statistics(statistics):\n",
        "    mean, variance = statistics\n",
        "    print(f\"Mean: {mean}, Variance: {variance}\")\n",
        "\n",
        "# 튜플을 인수로 전달\n",
        "print_statistics((mean, variance))\n"
      ],
      "metadata": {
        "colab": {
          "base_uri": "https://localhost:8080/"
        },
        "id": "cCKhCi-Maj1Y",
        "outputId": "d2e10529-10a1-4917-a406-9efea388be6d"
      },
      "execution_count": null,
      "outputs": [
        {
          "output_type": "stream",
          "name": "stdout",
          "text": [
            "Mean: 3.0, Variance: 2.0\n",
            "Mean: 3.0, Variance: 2.0\n"
          ]
        }
      ]
    },
    {
      "cell_type": "code",
      "source": [
        "# 딕셔너리 생성\n",
        "example_dict = {'name': 'Alice', 'age': 25, 'city': 'Seoul'}\n",
        "\n",
        "# items() 메서드 사용\n",
        "print(\"Items:\")\n",
        "for key, value in example_dict.items():\n",
        "    print(f\"Key: {key}, Value: {value}\")\n",
        "\n",
        "# keys() 메서드 사용\n",
        "print(\"\\nKeys:\")\n",
        "for key in example_dict.keys():\n",
        "    print(f\"Key: {key}\")\n",
        "\n",
        "# values() 메서드 사용\n",
        "print(\"\\nValues:\")\n",
        "for value in example_dict.values():\n",
        "    print(f\"Value: {value}\")\n"
      ],
      "metadata": {
        "colab": {
          "base_uri": "https://localhost:8080/"
        },
        "id": "7iwQ_zc0drlu",
        "outputId": "2ce5d46d-a9c3-4833-e19b-4031d8a6af6e"
      },
      "execution_count": null,
      "outputs": [
        {
          "output_type": "stream",
          "name": "stdout",
          "text": [
            "Items:\n",
            "Key: name, Value: Alice\n",
            "Key: age, Value: 25\n",
            "Key: city, Value: Seoul\n",
            "\n",
            "Keys:\n",
            "Key: name\n",
            "Key: age\n",
            "Key: city\n",
            "\n",
            "Values:\n",
            "Value: Alice\n",
            "Value: 25\n",
            "Value: Seoul\n"
          ]
        }
      ]
    },
    {
      "cell_type": "code",
      "source": [
        "# Mutable 예시 (리스트)\n",
        "mutable_list = [1, 2, 3]\n",
        "print(\"Original list:\", mutable_list)\n",
        "print(\"Original list id:\", id(mutable_list))\n",
        "\n",
        "mutable_list.append(4)\n",
        "print(\"Modified list:\", mutable_list)\n",
        "print(\"Modified list id:\", id(mutable_list))\n",
        "\n",
        "# Immutable 예시 (튜플)\n",
        "immutable_tuple = (1, 2, 3)\n",
        "print(\"\\nOriginal tuple:\", immutable_tuple)\n",
        "print(\"Original tuple id:\", id(immutable_tuple))\n",
        "\n",
        "try:\n",
        "    immutable_tuple[0] = 4  # 이 부분에서 TypeError가 발생합니다\n",
        "except TypeError as e:\n",
        "    print(\"Error:\", e)\n",
        "\n",
        "# 새로운 튜플 생성\n",
        "new_tuple = immutable_tuple + (4,)\n",
        "print(\"New tuple:\", new_tuple)\n",
        "print(\"New tuple id:\", id(new_tuple))"
      ],
      "metadata": {
        "colab": {
          "base_uri": "https://localhost:8080/"
        },
        "id": "H54REBjSdrdm",
        "outputId": "c75c1a48-b7b0-40b4-a592-84abdcb63c49"
      },
      "execution_count": null,
      "outputs": [
        {
          "output_type": "stream",
          "name": "stdout",
          "text": [
            "Original list: [1, 2, 3]\n",
            "Original list id: 132593467427584\n",
            "Modified list: [1, 2, 3, 4]\n",
            "Modified list id: 132593467427584\n",
            "\n",
            "Original tuple: (1, 2, 3)\n",
            "Original tuple id: 132593467582528\n",
            "Error: 'tuple' object does not support item assignment\n",
            "New tuple: (1, 2, 3, 4)\n",
            "New tuple id: 132595821557968\n"
          ]
        }
      ]
    },
    {
      "cell_type": "code",
      "source": [
        "# 리스트를 이용한 예시\n",
        "my_list = [1, 2, 3, 4, 5]\n",
        "for item in my_list:\n",
        "    print(item, end=' ')\n",
        "print()  # 출력: 1 2 3 4 5\n",
        "\n",
        "# 문자열을 이용한 예시\n",
        "my_string = \"Hello\"\n",
        "for char in my_string:\n",
        "    print(char, end=' ')\n",
        "print()  # 출력: H e l l o\n",
        "\n",
        "# range 객체를 이용한 예시\n",
        "for num in range(5):\n",
        "    print(num, end=' ')\n",
        "print()  # 출력: 0 1 2 3 4\n",
        "\n",
        "# 딕셔너리를 이용한 예시\n",
        "my_dict = {\"a\": 1, \"b\": 2, \"c\": 3}\n",
        "for key in my_dict:\n",
        "    print(f\"{key}: {my_dict[key]}\", end=' ')\n",
        "print()  # 출력: a: 1 b: 2 c: 3\n",
        "\n",
        "# iterable 객체를 list()로 변환\n",
        "print(list(\"Python\"))  # 출력: ['P', 'y', 't', 'h', 'o', 'n']\n",
        "\n",
        "# 사용자 정의 iterable 클래스 예시\n",
        "class CountDown:\n",
        "    def __init__(self, start):\n",
        "        self.start = start\n",
        "\n",
        "    def __iter__(self):\n",
        "        return self\n",
        "\n",
        "    def __next__(self):\n",
        "        if self.start <= 0:\n",
        "            raise StopIteration\n",
        "        self.start -= 1\n",
        "        return self.start + 1\n",
        "\n",
        "# 사용자 정의 iterable 사용\n",
        "for num in CountDown(5):\n",
        "    print(num, end=' ')\n",
        "print()  # 출력: 5 4 3 2 1"
      ],
      "metadata": {
        "colab": {
          "base_uri": "https://localhost:8080/"
        },
        "id": "kECad46JdraP",
        "outputId": "23b6a90f-d8c8-4302-9cf6-671ecce18673"
      },
      "execution_count": null,
      "outputs": [
        {
          "output_type": "stream",
          "name": "stdout",
          "text": [
            "1 2 3 4 5 \n",
            "H e l l o \n",
            "0 1 2 3 4 \n",
            "a: 1 b: 2 c: 3 \n",
            "['P', 'y', 't', 'h', 'o', 'n']\n",
            "5 4 3 2 1 \n"
          ]
        }
      ]
    },
    {
      "cell_type": "code",
      "source": [
        "import numpy as np\n",
        "from sklearn.preprocessing import StandardScaler\n",
        "\n",
        "# 가상의 데이터셋\n",
        "data = np.array([[1, 2], [3, 4], [5, 6]])\n",
        "\n",
        "# StandardScaler는 iterable을 입력으로 받습니다\n",
        "scaler = StandardScaler()\n",
        "scaled_data = scaler.fit_transform(data)\n",
        "\n",
        "print(scaled_data)"
      ],
      "metadata": {
        "colab": {
          "base_uri": "https://localhost:8080/"
        },
        "id": "wP8M-XypdrXP",
        "outputId": "f23728f4-1f50-4b74-f121-3753094dace8"
      },
      "execution_count": null,
      "outputs": [
        {
          "output_type": "stream",
          "name": "stdout",
          "text": [
            "[[-1.22474487 -1.22474487]\n",
            " [ 0.          0.        ]\n",
            " [ 1.22474487  1.22474487]]\n"
          ]
        }
      ]
    },
    {
      "cell_type": "code",
      "source": [
        "from sklearn.model_selection import KFold\n",
        "from sklearn.linear_model import LogisticRegression\n",
        "from sklearn.datasets import load_iris\n",
        "\n",
        "# 데이터 로드\n",
        "iris = load_iris()\n",
        "X, y = iris.data, iris.target\n",
        "\n",
        "# KFold는 iterable을 반환합니다\n",
        "kf = KFold(n_splits=5, shuffle=True, random_state=42)\n",
        "\n",
        "for fold, (train_index, val_index) in enumerate(kf.split(X), 1):\n",
        "    X_train, X_val = X[train_index], X[val_index]\n",
        "    y_train, y_val = y[train_index], y[val_index]\n",
        "\n",
        "    model = LogisticRegression()\n",
        "    model.fit(X_train, y_train)\n",
        "\n",
        "    val_score = model.score(X_val, y_val)\n",
        "    print(f\"Fold {fold} validation score: {val_score:.4f}\")\n"
      ],
      "metadata": {
        "colab": {
          "base_uri": "https://localhost:8080/"
        },
        "id": "e5p9-MohdrT-",
        "outputId": "7b4a5e4e-7e98-483f-9d7b-4e2b8d50b0b1"
      },
      "execution_count": null,
      "outputs": [
        {
          "output_type": "stream",
          "name": "stdout",
          "text": [
            "Fold 1 validation score: 1.0000\n",
            "Fold 2 validation score: 1.0000\n"
          ]
        },
        {
          "output_type": "stream",
          "name": "stderr",
          "text": [
            "/usr/local/lib/python3.10/dist-packages/sklearn/linear_model/_logistic.py:458: ConvergenceWarning: lbfgs failed to converge (status=1):\n",
            "STOP: TOTAL NO. of ITERATIONS REACHED LIMIT.\n",
            "\n",
            "Increase the number of iterations (max_iter) or scale the data as shown in:\n",
            "    https://scikit-learn.org/stable/modules/preprocessing.html\n",
            "Please also refer to the documentation for alternative solver options:\n",
            "    https://scikit-learn.org/stable/modules/linear_model.html#logistic-regression\n",
            "  n_iter_i = _check_optimize_result(\n",
            "/usr/local/lib/python3.10/dist-packages/sklearn/linear_model/_logistic.py:458: ConvergenceWarning: lbfgs failed to converge (status=1):\n",
            "STOP: TOTAL NO. of ITERATIONS REACHED LIMIT.\n",
            "\n",
            "Increase the number of iterations (max_iter) or scale the data as shown in:\n",
            "    https://scikit-learn.org/stable/modules/preprocessing.html\n",
            "Please also refer to the documentation for alternative solver options:\n",
            "    https://scikit-learn.org/stable/modules/linear_model.html#logistic-regression\n",
            "  n_iter_i = _check_optimize_result(\n"
          ]
        },
        {
          "output_type": "stream",
          "name": "stdout",
          "text": [
            "Fold 3 validation score: 0.9333\n",
            "Fold 4 validation score: 0.9667\n",
            "Fold 5 validation score: 0.9667\n"
          ]
        }
      ]
    },
    {
      "cell_type": "code",
      "source": [
        "from sklearn.model_selection import KFold\n",
        "from sklearn.linear_model import LogisticRegression\n",
        "from sklearn.datasets import load_iris\n",
        "from sklearn.preprocessing import StandardScaler\n",
        "\n",
        "# 데이터 로드 및 스케일링\n",
        "iris = load_iris()\n",
        "X, y = iris.data, iris.target\n",
        "scaler = StandardScaler()\n",
        "X_scaled = scaler.fit_transform(X)\n",
        "\n",
        "# KFold 설정\n",
        "# KFold는 iterable을 반환합니다\n",
        "kf = KFold(n_splits=5, shuffle=True, random_state=42)\n",
        "\n",
        "for fold, (train_index, val_index) in enumerate(kf.split(X_scaled), 1):\n",
        "    X_train, X_val = X_scaled[train_index], X_scaled[val_index]\n",
        "    y_train, y_val = y[train_index], y[val_index]\n",
        "\n",
        "    model = LogisticRegression(max_iter=1000, C=0.1)\n",
        "    model.fit(X_train, y_train)\n",
        "\n",
        "    val_score = model.score(X_val, y_val)\n",
        "    print(f\"Fold {fold} validation score: {val_score:.4f}\")"
      ],
      "metadata": {
        "colab": {
          "base_uri": "https://localhost:8080/"
        },
        "id": "M0CeaQH_iiTq",
        "outputId": "a4af6e5b-32dc-4dd5-a83d-55d2e991aa74"
      },
      "execution_count": null,
      "outputs": [
        {
          "output_type": "stream",
          "name": "stdout",
          "text": [
            "Fold 1 validation score: 0.9667\n",
            "Fold 2 validation score: 0.8667\n",
            "Fold 3 validation score: 0.9333\n",
            "Fold 4 validation score: 0.9000\n",
            "Fold 5 validation score: 0.9333\n"
          ]
        }
      ]
    },
    {
      "cell_type": "code",
      "source": [
        "# 예시 데이터\n",
        "data = ['cat', 'dog', 'bird', 'fish']\n",
        "\n",
        "# enumerate()를 사용하여 인덱스와 데이터를 동시에 출력\n",
        "for idx, value in enumerate(data):\n",
        "    print(f\"Index: {idx}, Value: {value}\")\n"
      ],
      "metadata": {
        "colab": {
          "base_uri": "https://localhost:8080/"
        },
        "id": "LT9SrnZ4onvM",
        "outputId": "b1c0f6c0-22b2-46e9-abe2-b155a6277ef6"
      },
      "execution_count": null,
      "outputs": [
        {
          "output_type": "stream",
          "name": "stdout",
          "text": [
            "Index: 0, Value: cat\n",
            "Index: 1, Value: dog\n",
            "Index: 2, Value: bird\n",
            "Index: 3, Value: fish\n"
          ]
        }
      ]
    },
    {
      "cell_type": "code",
      "source": [
        "# 가상의 학습 손실 값\n",
        "losses = [0.9, 0.7, 0.5, 0.3]\n",
        "\n",
        "# enumerate()를 사용하여 에포크와 손실 값을 출력\n",
        "for epoch, loss in enumerate(losses):\n",
        "    print(f\"Epoch: {epoch}, Loss: {loss}\")\n"
      ],
      "metadata": {
        "colab": {
          "base_uri": "https://localhost:8080/"
        },
        "id": "HVaCWDAUonsS",
        "outputId": "501d5e99-1a56-4c97-c6b0-a03e898ad45e"
      },
      "execution_count": null,
      "outputs": [
        {
          "output_type": "stream",
          "name": "stdout",
          "text": [
            "Epoch: 0, Loss: 0.9\n",
            "Epoch: 1, Loss: 0.7\n",
            "Epoch: 2, Loss: 0.5\n",
            "Epoch: 3, Loss: 0.3\n"
          ]
        }
      ]
    },
    {
      "cell_type": "code",
      "source": [
        "import re\n",
        "\n",
        "pattern = r'(\\w+) (\\w+)'\n",
        "text = \"Hello World\"\n",
        "\n",
        "match = re.search(pattern, text)\n",
        "\n",
        "if match:\n",
        "  print(match.group(1)) # 출 력: Hello\n",
        "  print(match.group(2)) # 출 력: World"
      ],
      "metadata": {
        "colab": {
          "base_uri": "https://localhost:8080/"
        },
        "id": "MI9SubcRonpL",
        "outputId": "f7453bab-8ed0-4541-b1fd-9901ac4d4911"
      },
      "execution_count": null,
      "outputs": [
        {
          "output_type": "stream",
          "name": "stdout",
          "text": [
            "Hello\n",
            "World\n"
          ]
        }
      ]
    },
    {
      "cell_type": "code",
      "source": [
        "pattern = r'\\d{3}-\\d{3}-\\d{4}'\n",
        "text = \"You can reach me at 123-456-7890 or 987-654-3210.\"\n",
        "matches = re.findall(pattern, text)\n",
        "print(matches) # 출 력: ['123-456-7890', '987-654-3210']"
      ],
      "metadata": {
        "colab": {
          "base_uri": "https://localhost:8080/"
        },
        "id": "LEsa0yHP27ce",
        "outputId": "ec73a68b-162c-45c1-d1b1-72ea89f1f8b4"
      },
      "execution_count": null,
      "outputs": [
        {
          "output_type": "stream",
          "name": "stdout",
          "text": [
            "['123-456-7890', '987-654-3210']\n"
          ]
        }
      ]
    },
    {
      "cell_type": "code",
      "source": [
        "pattern = r'<.*?>'\n",
        "text = \"<p>This is a <b>bold</b> paragraph.</p>\"\n",
        "clean_text = re.sub(pattern, '', text)\n",
        "print(clean_text) # 출 력: This is a bold paragraph.\n"
      ],
      "metadata": {
        "colab": {
          "base_uri": "https://localhost:8080/"
        },
        "id": "emlWGUtz3OCU",
        "outputId": "828f02f7-c1b8-4680-80a9-f7a8d69894c5"
      },
      "execution_count": null,
      "outputs": [
        {
          "output_type": "stream",
          "name": "stdout",
          "text": [
            "This is a bold paragraph.\n"
          ]
        }
      ]
    },
    {
      "cell_type": "code",
      "source": [
        "import re\n",
        "\n",
        "pattern_greedy = r'<.*>'\n",
        "text = \"<p>This is a <b>bold</b> paragraph.</p>\"\n",
        "clean_text_greedy = re.sub(pattern_greedy, '', text)\n",
        "print(clean_text_greedy)  # 출력:\n",
        "\n"
      ],
      "metadata": {
        "colab": {
          "base_uri": "https://localhost:8080/"
        },
        "id": "R2Y9za1d3N_d",
        "outputId": "a7b3b852-ec23-4fd0-dc19-15d43801571a"
      },
      "execution_count": null,
      "outputs": [
        {
          "output_type": "stream",
          "name": "stdout",
          "text": [
            "\n"
          ]
        }
      ]
    },
    {
      "cell_type": "code",
      "source": [
        "import re\n",
        "\n",
        "pattern_greedy = r'<.*>'\n",
        "text = \"<p>This is a <b>bold</b> paragraph.</p>\"\n",
        "clean_text_greedy = re.sub(pattern_greedy, '', text)\n",
        "print(clean_text_greedy)  # 출력:\n"
      ],
      "metadata": {
        "colab": {
          "base_uri": "https://localhost:8080/"
        },
        "id": "SZaho-hQ3N8t",
        "outputId": "546bf7e4-9970-45e0-f34c-105fa54b2700"
      },
      "execution_count": null,
      "outputs": [
        {
          "output_type": "stream",
          "name": "stdout",
          "text": [
            "\n"
          ]
        }
      ]
    },
    {
      "cell_type": "code",
      "source": [
        "import re\n",
        "\n",
        "pattern_nongreedy = r'<.*?>'\n",
        "text = \"<p>This is a <b>bold</b> paragraph.</p>\"\n",
        "clean_text_nongreedy = re.sub(pattern_nongreedy, '', text)\n",
        "print(clean_text_nongreedy)  # 출력: This is a bold paragraph.\n"
      ],
      "metadata": {
        "colab": {
          "base_uri": "https://localhost:8080/"
        },
        "id": "NCxFSgPQ3N5t",
        "outputId": "86aca488-6bfb-48f1-ecf9-b218d3ada775"
      },
      "execution_count": null,
      "outputs": [
        {
          "output_type": "stream",
          "name": "stdout",
          "text": [
            "This is a bold paragraph.\n"
          ]
        }
      ]
    },
    {
      "cell_type": "code",
      "source": [
        "pattern = r'^Hello'\n",
        "text1 = \"Hello World\"\n",
        "text2 = \"Hi there\"\n",
        "match1 = re.match(pattern, text1)\n",
        "match2 = re.match(pattern, text2)\n",
        "print(match1) # 출 력: <re.Match object; span=(0, 5), match='Hello'>\n",
        "print(match2) # 출 력: None"
      ],
      "metadata": {
        "colab": {
          "base_uri": "https://localhost:8080/"
        },
        "id": "atF-sZ9C3N28",
        "outputId": "a6d2631f-a0f4-4aba-80af-48100bb5e57c"
      },
      "execution_count": null,
      "outputs": [
        {
          "output_type": "stream",
          "name": "stdout",
          "text": [
            "<re.Match object; span=(0, 5), match='Hello'>\n",
            "None\n"
          ]
        }
      ]
    },
    {
      "cell_type": "code",
      "source": [
        "import re\n",
        "pattern = r'\\d+' # 숫 자 를 기 준 으 로 문 자 열 분 할\n",
        "text = \"Hello 123 World 456 Python 789\"\n",
        "splits = re.split(pattern, text)\n",
        "print(\"Splits:\", splits) # Splits: ['Hello ', ' World ', ' Python ', '']"
      ],
      "metadata": {
        "colab": {
          "base_uri": "https://localhost:8080/"
        },
        "id": "q9B0_nQs-F4Y",
        "outputId": "b7d1deed-2cc9-4a0e-af48-f5c296119dc5"
      },
      "execution_count": null,
      "outputs": [
        {
          "output_type": "stream",
          "name": "stdout",
          "text": [
            "Splits: ['Hello ', ' World ', ' Python ', '']\n"
          ]
        }
      ]
    },
    {
      "cell_type": "code",
      "source": [
        "import re\n",
        "pattern = r'\\d+' # 문 자 열 의 숫 자 를 'N'으 로 변 경\n",
        "text = \"Hello 123 World 456 Python 789\"\n",
        "new_text = re.sub(pattern, 'N', text)\n",
        "print(\"New text:\", new_text) # New text: Hello N World N Python N"
      ],
      "metadata": {
        "colab": {
          "base_uri": "https://localhost:8080/"
        },
        "id": "ETcWOMs2-F1g",
        "outputId": "a9193cb9-d325-4b82-897a-7dba8b271425"
      },
      "execution_count": null,
      "outputs": [
        {
          "output_type": "stream",
          "name": "stdout",
          "text": [
            "New text: Hello N World N Python N\n"
          ]
        }
      ]
    },
    {
      "cell_type": "code",
      "source": [
        "import re\n",
        "pattern = r'\\d+' # 문 자 열 에 포 함 된 모 든 숫 자 찾 기\n",
        "text = \"Hello 123 World 456 Python 789\"\n",
        "matches = re.finditer(pattern, text)\n",
        "for match in matches:\n",
        "  print(\"Match found:\", match.group())"
      ],
      "metadata": {
        "colab": {
          "base_uri": "https://localhost:8080/"
        },
        "id": "QmntQb0y-Fym",
        "outputId": "38607e27-252e-4a7e-aea0-a97e06be7902"
      },
      "execution_count": null,
      "outputs": [
        {
          "output_type": "stream",
          "name": "stdout",
          "text": [
            "Match found: 123\n",
            "Match found: 456\n",
            "Match found: 789\n"
          ]
        }
      ]
    },
    {
      "cell_type": "code",
      "source": [
        "import re\n",
        "pattern = r'\\d+' # 문 자 열 에 포 함 된 모 든 숫 자 찾 기\n",
        "text = \"Hello 123 World 456 Python 789\"\n",
        "matches = re.findall(pattern, text)\n",
        "print(\"Matches:\", matches) # Matches: ['123', '456', '789']"
      ],
      "metadata": {
        "colab": {
          "base_uri": "https://localhost:8080/"
        },
        "id": "UfBjeuEB-FqX",
        "outputId": "b8b66cd3-d8bc-4470-8896-d5b32016125e"
      },
      "execution_count": null,
      "outputs": [
        {
          "output_type": "stream",
          "name": "stdout",
          "text": [
            "Matches: ['123', '456', '789']\n"
          ]
        }
      ]
    },
    {
      "cell_type": "code",
      "source": [
        "import re\n",
        "pattern = r'\\d+' # 문 자 열 에 숫 자 가 포 함 되 어 있 는 지 확 인\n",
        "text = \"Hello 123 World 456\"\n",
        "search = re.search(pattern, text)\n",
        "if search:\n",
        "  print(\"Match found:\", search.group()) # Match found: 123\n",
        "else:\n",
        "  print(\"No match found\")"
      ],
      "metadata": {
        "colab": {
          "base_uri": "https://localhost:8080/"
        },
        "id": "zAwqai16-Fnd",
        "outputId": "488426de-d2b4-4454-fdff-98be0cb0c8fb"
      },
      "execution_count": null,
      "outputs": [
        {
          "output_type": "stream",
          "name": "stdout",
          "text": [
            "Match found: 123\n"
          ]
        }
      ]
    },
    {
      "cell_type": "code",
      "source": [
        "import re\n",
        "pattern = r'(\\w+) (\\w+)'\n",
        "text = \"Hello World\"\n",
        "match = re.match(pattern, text)\n",
        "if match:\n",
        "  print(\"Match found:\", match.group()) # Match found: Hello World\n",
        "  print(\"Groups:\", match.groups()) # Groups: ('Hello', 'World')\n",
        "  print(\"Start:\", match.start()) # Start: 0\n",
        "  print(\"End:\", match.end()) # End: 11\n",
        "  print(\"Span:\", match.span()) # Span:(0, 11)\n",
        "else:\n",
        "  print(\"No match found\")\n"
      ],
      "metadata": {
        "colab": {
          "base_uri": "https://localhost:8080/"
        },
        "id": "dQ2ZsfuB-Fkm",
        "outputId": "136756dd-16a8-4c5c-e966-e0c30ba112e1"
      },
      "execution_count": null,
      "outputs": [
        {
          "output_type": "stream",
          "name": "stdout",
          "text": [
            "Match found: Hello World\n",
            "Groups: ('Hello', 'World')\n",
            "Start: 0\n",
            "End: 11\n",
            "Span: (0, 11)\n"
          ]
        }
      ]
    },
    {
      "cell_type": "code",
      "source": [
        "enumerate()"
      ],
      "metadata": {
        "id": "VysoFXgpgi6O"
      },
      "execution_count": null,
      "outputs": []
    },
    {
      "cell_type": "code",
      "source": [
        "print()"
      ],
      "metadata": {
        "id": "FlUs5TUdgi3O"
      },
      "execution_count": null,
      "outputs": []
    },
    {
      "cell_type": "code",
      "source": [
        "a=10\n",
        "id(a)"
      ],
      "metadata": {
        "id": "JEIcoBQAgi0H",
        "colab": {
          "base_uri": "https://localhost:8080/"
        },
        "outputId": "c1e6ab89-6d0a-4268-ea69-688779660206"
      },
      "execution_count": null,
      "outputs": [
        {
          "output_type": "execute_result",
          "data": {
            "text/plain": [
              "137782988472848"
            ]
          },
          "metadata": {},
          "execution_count": 1
        }
      ]
    },
    {
      "cell_type": "code",
      "source": [
        "print(id(a))"
      ],
      "metadata": {
        "colab": {
          "base_uri": "https://localhost:8080/"
        },
        "id": "cTgKFBb7sG_x",
        "outputId": "4dfe22c7-7cd0-4a02-c58b-ac516e488b41"
      },
      "execution_count": null,
      "outputs": [
        {
          "output_type": "stream",
          "name": "stdout",
          "text": [
            "137782988472848\n"
          ]
        }
      ]
    },
    {
      "cell_type": "code",
      "source": [
        "help(print)"
      ],
      "metadata": {
        "colab": {
          "base_uri": "https://localhost:8080/"
        },
        "id": "CNGWMaCjsOir",
        "outputId": "a4284362-d0c8-4b9f-d029-6381660c4ed1"
      },
      "execution_count": null,
      "outputs": [
        {
          "output_type": "stream",
          "name": "stdout",
          "text": [
            "Help on built-in function print in module builtins:\n",
            "\n",
            "print(...)\n",
            "    print(value, ..., sep=' ', end='\\n', file=sys.stdout, flush=False)\n",
            "    \n",
            "    Prints the values to a stream, or to sys.stdout by default.\n",
            "    Optional keyword arguments:\n",
            "    file:  a file-like object (stream); defaults to the current sys.stdout.\n",
            "    sep:   string inserted between values, default a space.\n",
            "    end:   string appended after the last value, default a newline.\n",
            "    flush: whether to forcibly flush the stream.\n",
            "\n"
          ]
        }
      ]
    },
    {
      "cell_type": "code",
      "source": [
        "if 0+0:\n",
        "  print(\"true\")\n",
        "else:\n",
        "  print(\"False\")"
      ],
      "metadata": {
        "colab": {
          "base_uri": "https://localhost:8080/"
        },
        "id": "NLy6EMp8uGEm",
        "outputId": "46992618-5270-4811-c58d-ec3a12dfd9b8"
      },
      "execution_count": null,
      "outputs": [
        {
          "output_type": "stream",
          "name": "stdout",
          "text": [
            "False\n"
          ]
        }
      ]
    },
    {
      "cell_type": "code",
      "source": [
        "import numpy as np\n",
        "from sklearn.model_selection import train_test_split\n",
        "from sklearn.linear_model import LogisticRegression\n",
        "from sklearn.metrics import accuracy_score\n",
        "\n",
        "# 데이터 생성\n",
        "X = np.array([[1, 2], [2, 3], [3, 4], [4, 5]])\n",
        "y = np.array([0, 0, 1, 1])\n",
        "\n",
        "# 데이터 분할\n",
        "X_train, X_test, y_train, y_test = train_test_split(X, y, test_size=0.25)\n",
        "\n",
        "# 모델 생성 및 학습\n",
        "model = LogisticRegression()\n",
        "model.fit(X_train, y_train)\n",
        "\n",
        "# 예측 및 평가\n",
        "y_pred = model.predict(X_test)\n",
        "accuracy = accuracy_score(y_test, y_pred)\n",
        "print(f'Accuracy: {accuracy}')\n"
      ],
      "metadata": {
        "colab": {
          "base_uri": "https://localhost:8080/"
        },
        "id": "6NhgW0qiyqog",
        "outputId": "f374c262-59ac-409f-a78d-1cbc3c84ed62"
      },
      "execution_count": null,
      "outputs": [
        {
          "output_type": "stream",
          "name": "stdout",
          "text": [
            "Accuracy: 1.0\n"
          ]
        }
      ]
    },
    {
      "cell_type": "code",
      "source": [
        "import tensorflow as tf\n",
        "from tensorflow.keras.models import Sequential\n",
        "from tensorflow.keras.layers import Dense\n",
        "from sklearn.model_selection import train_test_split\n",
        "import numpy as np\n",
        "\n",
        "# 데이터 생성\n",
        "X = np.random.rand(100, 10)\n",
        "y = np.random.randint(2, size=100)\n",
        "\n",
        "# 데이터 분할\n",
        "X_train, X_test, y_train, y_test = train_test_split(X, y, test_size=0.2)\n",
        "\n",
        "# 모델 생성\n",
        "model = Sequential([\n",
        "    Dense(64, activation='relu', input_shape=(10,)),\n",
        "    Dense(1, activation='sigmoid')\n",
        "])\n",
        "\n",
        "# 모델 컴파일\n",
        "model.compile(optimizer='adam', loss='binary_crossentropy', metrics=['accuracy'])\n",
        "\n",
        "# 모델 학습\n",
        "model.fit(X_train, y_train, epochs=10, batch_size=32)\n",
        "\n",
        "# 모델 평가\n",
        "loss, accuracy = model.evaluate(X_test, y_test)\n",
        "print(f'Accuracy: {accuracy}')\n"
      ],
      "metadata": {
        "colab": {
          "base_uri": "https://localhost:8080/"
        },
        "id": "0HXHolzl17aR",
        "outputId": "bbfbe815-8381-49bb-fa06-275b71a639ec"
      },
      "execution_count": null,
      "outputs": [
        {
          "output_type": "stream",
          "name": "stdout",
          "text": [
            "Epoch 1/10\n",
            "3/3 [==============================] - 1s 9ms/step - loss: 0.7012 - accuracy: 0.5000\n",
            "Epoch 2/10\n",
            "3/3 [==============================] - 0s 6ms/step - loss: 0.6923 - accuracy: 0.5500\n",
            "Epoch 3/10\n",
            "3/3 [==============================] - 0s 7ms/step - loss: 0.6893 - accuracy: 0.5500\n",
            "Epoch 4/10\n",
            "3/3 [==============================] - 0s 5ms/step - loss: 0.6829 - accuracy: 0.5875\n",
            "Epoch 5/10\n",
            "3/3 [==============================] - 0s 6ms/step - loss: 0.6803 - accuracy: 0.6125\n",
            "Epoch 6/10\n",
            "3/3 [==============================] - 0s 5ms/step - loss: 0.6765 - accuracy: 0.5750\n",
            "Epoch 7/10\n",
            "3/3 [==============================] - 0s 6ms/step - loss: 0.6750 - accuracy: 0.5625\n",
            "Epoch 8/10\n",
            "3/3 [==============================] - 0s 5ms/step - loss: 0.6723 - accuracy: 0.5625\n",
            "Epoch 9/10\n",
            "3/3 [==============================] - 0s 5ms/step - loss: 0.6711 - accuracy: 0.5625\n",
            "Epoch 10/10\n",
            "3/3 [==============================] - 0s 6ms/step - loss: 0.6691 - accuracy: 0.5875\n",
            "1/1 [==============================] - 0s 212ms/step - loss: 0.7304 - accuracy: 0.5000\n",
            "Accuracy: 0.5\n"
          ]
        }
      ]
    },
    {
      "cell_type": "code",
      "source": [
        "a = 15/5"
      ],
      "metadata": {
        "id": "x8DQ-_5d17XQ"
      },
      "execution_count": null,
      "outputs": []
    },
    {
      "cell_type": "code",
      "source": [
        "type(a)"
      ],
      "metadata": {
        "colab": {
          "base_uri": "https://localhost:8080/"
        },
        "id": "6OMnlY9I17UR",
        "outputId": "c68e8ab8-4024-4d09-f1aa-eb767a26f866"
      },
      "execution_count": null,
      "outputs": [
        {
          "output_type": "execute_result",
          "data": {
            "text/plain": [
              "float"
            ]
          },
          "metadata": {},
          "execution_count": 9
        }
      ]
    },
    {
      "cell_type": "code",
      "source": [
        "b = 38//12\n",
        "type(b)"
      ],
      "metadata": {
        "colab": {
          "base_uri": "https://localhost:8080/"
        },
        "id": "44WJq8D_17OQ",
        "outputId": "c4350354-b42d-42b0-a1d0-c085d3301e87"
      },
      "execution_count": null,
      "outputs": [
        {
          "output_type": "execute_result",
          "data": {
            "text/plain": [
              "int"
            ]
          },
          "metadata": {},
          "execution_count": 10
        }
      ]
    },
    {
      "cell_type": "code",
      "source": [
        "c=35/7.0"
      ],
      "metadata": {
        "id": "8jPAtE6BBDpB"
      },
      "execution_count": null,
      "outputs": []
    },
    {
      "cell_type": "code",
      "source": [
        "type(c)"
      ],
      "metadata": {
        "colab": {
          "base_uri": "https://localhost:8080/"
        },
        "id": "I_RWMTrVBHJW",
        "outputId": "31e674bf-6c64-4003-b77d-95b3d5b9fa04"
      },
      "execution_count": null,
      "outputs": [
        {
          "output_type": "execute_result",
          "data": {
            "text/plain": [
              "float"
            ]
          },
          "metadata": {},
          "execution_count": 12
        }
      ]
    },
    {
      "cell_type": "code",
      "source": [
        "d=3.8/1.2\n",
        "\n",
        "print(d)"
      ],
      "metadata": {
        "colab": {
          "base_uri": "https://localhost:8080/"
        },
        "id": "bTKBHbGKBIkL",
        "outputId": "d11727f0-9507-4daa-b8e6-73a49819eeb2"
      },
      "execution_count": null,
      "outputs": [
        {
          "output_type": "stream",
          "name": "stdout",
          "text": [
            "3.1666666666666665\n"
          ]
        }
      ]
    },
    {
      "cell_type": "code",
      "source": [
        "e=3.8%1.2\n",
        "\n",
        "print(e)"
      ],
      "metadata": {
        "colab": {
          "base_uri": "https://localhost:8080/"
        },
        "id": "8N12TI0BBXrm",
        "outputId": "b1e4d11a-0c59-41f4-b420-93ae98bb48f7"
      },
      "execution_count": null,
      "outputs": [
        {
          "output_type": "stream",
          "name": "stdout",
          "text": [
            "0.19999999999999996\n"
          ]
        }
      ]
    },
    {
      "cell_type": "code",
      "source": [
        "# 불 리 언 값 입 력 받 기\n",
        "bool1 = bool(input(\"첫 번 째 불 리 언 값 을 입 력 하 세 요: \"))\n",
        "# 입 력 받 은 값 이 비 어 있 으 면 False로 변 환 됨\n",
        "bool2 = bool(input(\"두 번 째 불 리 언 값 을 입 력 하 세 요: \"))\n",
        "# AND 연 산 수 행 후 결 과 출 력\n",
        "result = bool1 and bool2\n",
        "print(\"AND 연 산 결 과:\", result)"
      ],
      "metadata": {
        "colab": {
          "base_uri": "https://localhost:8080/"
        },
        "id": "_Gv_aendCL0t",
        "outputId": "d4b438f7-1ba5-420f-dc3b-1e5899476076"
      },
      "execution_count": null,
      "outputs": [
        {
          "output_type": "stream",
          "name": "stdout",
          "text": [
            "첫 번 째 불 리 언 값 을 입 력 하 세 요: \n",
            "두 번 째 불 리 언 값 을 입 력 하 세 요: \n",
            "AND 연 산 결 과: False\n"
          ]
        }
      ]
    },
    {
      "cell_type": "code",
      "source": [
        "# 세 숫 자 입 력 받 기\n",
        "num1 = float(input(\"첫 번 째 숫 자 를 입 력 하 세 요: \"))\n",
        "num2 = float(input(\"두 번 째 숫 자 를 입 력 하 세 요: \"))\n",
        "num3 = float(input(\"세 번 째 숫 자 를 입 력 하 세 요: \"))\n",
        "# 가 장 큰 숫 자 비 교 후 출 력\n",
        "max_num = max(num1, num2, num3)\n",
        "print(\"가 장 큰 숫 자:\", max_num)\n"
      ],
      "metadata": {
        "colab": {
          "base_uri": "https://localhost:8080/"
        },
        "id": "ymtO8WOORmQn",
        "outputId": "b9829ad0-a88a-41fc-a382-046a4545d65e"
      },
      "execution_count": null,
      "outputs": [
        {
          "output_type": "stream",
          "name": "stdout",
          "text": [
            "첫 번 째 숫 자 를 입 력 하 세 요: 234\n",
            "두 번 째 숫 자 를 입 력 하 세 요: 32\n",
            "세 번 째 숫 자 를 입 력 하 세 요: 132\n",
            "가 장 큰 숫 자: 234.0\n"
          ]
        }
      ]
    },
    {
      "cell_type": "code",
      "source": [
        "import numpy as np\n",
        "\n",
        "# 데이터셋\n",
        "data = np.array([100, 200, 300, 400, 500], dtype=float)  # 데이터 타입을 float로 설정\n",
        "\n",
        "# 데이터 스케일링 (표준화)\n",
        "mean = np.mean(data)\n",
        "std = np.std(data)\n",
        "\n",
        "data -= mean  # data = data - mean\n",
        "data /= std   # data = data / std\n",
        "\n",
        "print(data_standardized)\n",
        "\n"
      ],
      "metadata": {
        "colab": {
          "base_uri": "https://localhost:8080/"
        },
        "id": "vSYIROhtSW6u",
        "outputId": "4f4f67ed-16ef-4b26-b988-5ecb0c35eeb0"
      },
      "execution_count": null,
      "outputs": [
        {
          "output_type": "stream",
          "name": "stdout",
          "text": [
            "[-1.41421356 -0.70710678  0.          0.70710678  1.41421356]\n"
          ]
        }
      ]
    },
    {
      "cell_type": "code",
      "source": [
        "# 실제 값과 예측 값\n",
        "actual = np.array([1.0, 2.0, 3.0])\n",
        "predicted = np.array([1.1, 1.9, 3.2])\n",
        "\n",
        "# MSE 계산\n",
        "mse = np.mean((actual - predicted) ** 2)\n",
        "print(mse)"
      ],
      "metadata": {
        "colab": {
          "base_uri": "https://localhost:8080/"
        },
        "id": "dHHSpYd8TaaK",
        "outputId": "cbc35e28-9c8b-4c1d-f8c8-8bc7a86e16d2"
      },
      "execution_count": null,
      "outputs": [
        {
          "output_type": "stream",
          "name": "stdout",
          "text": [
            "0.020000000000000035\n"
          ]
        }
      ]
    },
    {
      "cell_type": "code",
      "source": [
        "# 가중치 초기화\n",
        "\n",
        "weights = np.array([0.5, -0.5])\n",
        "\n",
        "learning_rate = 0.01\n",
        "\n",
        "gradient = np.array([0.1, -0.2])\n",
        "\n",
        "# 가중치 업데이트\n",
        "\n",
        "weights -= learning_rate*gradient # weights = weights - learning_rate  gradient\n",
        "\n",
        "print(weights)"
      ],
      "metadata": {
        "colab": {
          "base_uri": "https://localhost:8080/"
        },
        "id": "eMVZ0V6zU8Xs",
        "outputId": "967afa1e-75ee-44f0-c469-eb5a7d510243"
      },
      "execution_count": null,
      "outputs": [
        {
          "output_type": "stream",
          "name": "stdout",
          "text": [
            "[ 0.499 -0.498]\n"
          ]
        }
      ]
    },
    {
      "cell_type": "code",
      "source": [
        "# 입력값\n",
        "\n",
        "inputs = np.array([-1.0, 2.0, -0.5, 3.0])\n",
        "\n",
        "# ReLU 활성화 함수 적용\n",
        "\n",
        "inputs = np.maximum(0, inputs)\n",
        "\n",
        "print(inputs)"
      ],
      "metadata": {
        "colab": {
          "base_uri": "https://localhost:8080/"
        },
        "id": "8u-4v3v3VBIc",
        "outputId": "56b91128-9370-4fcd-eba3-11ec94d940a5"
      },
      "execution_count": null,
      "outputs": [
        {
          "output_type": "stream",
          "name": "stdout",
          "text": [
            "[0. 2. 0. 3.]\n"
          ]
        }
      ]
    },
    {
      "cell_type": "code",
      "source": [
        "# 배치 데이터\n",
        "\n",
        "batch = np.array([[1, 2, 3], [4, 5, 6], [7, 8, 9]])\n",
        "\n",
        "# 배치 정규화\n",
        "\n",
        "batch_mean = np.mean(batch, axis=0)\n",
        "\n",
        "batch_var = np.var(batch, axis=0)\n",
        "\n",
        "batch -= batch_mean # batch = batch - batch_mean\n",
        "\n",
        "batch /= np.sqrt(batch_var + 1e-8) # batch = batch / np.sqrt(batch_var + 1e-8)\n",
        "\n",
        "print(batch)"
      ],
      "metadata": {
        "colab": {
          "base_uri": "https://localhost:8080/",
          "height": 219
        },
        "id": "EDq8acJOV5B6",
        "outputId": "73ab8371-db13-4c8d-bf38-1a57400e1532"
      },
      "execution_count": null,
      "outputs": [
        {
          "output_type": "error",
          "ename": "UFuncTypeError",
          "evalue": "Cannot cast ufunc 'subtract' output from dtype('float64') to dtype('int64') with casting rule 'same_kind'",
          "traceback": [
            "\u001b[0;31m---------------------------------------------------------------------------\u001b[0m",
            "\u001b[0;31mUFuncTypeError\u001b[0m                            Traceback (most recent call last)",
            "\u001b[0;32m<ipython-input-35-27ae3f0f8cdc>\u001b[0m in \u001b[0;36m<cell line: 11>\u001b[0;34m()\u001b[0m\n\u001b[1;32m      9\u001b[0m \u001b[0mbatch_var\u001b[0m \u001b[0;34m=\u001b[0m \u001b[0mnp\u001b[0m\u001b[0;34m.\u001b[0m\u001b[0mvar\u001b[0m\u001b[0;34m(\u001b[0m\u001b[0mbatch\u001b[0m\u001b[0;34m,\u001b[0m \u001b[0maxis\u001b[0m\u001b[0;34m=\u001b[0m\u001b[0;36m0\u001b[0m\u001b[0;34m)\u001b[0m\u001b[0;34m\u001b[0m\u001b[0;34m\u001b[0m\u001b[0m\n\u001b[1;32m     10\u001b[0m \u001b[0;34m\u001b[0m\u001b[0m\n\u001b[0;32m---> 11\u001b[0;31m \u001b[0mbatch\u001b[0m \u001b[0;34m-=\u001b[0m \u001b[0mbatch_mean\u001b[0m \u001b[0;31m# batch = batch - batch_mean\u001b[0m\u001b[0;34m\u001b[0m\u001b[0;34m\u001b[0m\u001b[0m\n\u001b[0m\u001b[1;32m     12\u001b[0m \u001b[0;34m\u001b[0m\u001b[0m\n\u001b[1;32m     13\u001b[0m \u001b[0mbatch\u001b[0m \u001b[0;34m/=\u001b[0m \u001b[0mnp\u001b[0m\u001b[0;34m.\u001b[0m\u001b[0msqrt\u001b[0m\u001b[0;34m(\u001b[0m\u001b[0mbatch_var\u001b[0m \u001b[0;34m+\u001b[0m \u001b[0;36m1e-8\u001b[0m\u001b[0;34m)\u001b[0m \u001b[0;31m# batch = batch / np.sqrt(batch_var + 1e-8)\u001b[0m\u001b[0;34m\u001b[0m\u001b[0;34m\u001b[0m\u001b[0m\n",
            "\u001b[0;31mUFuncTypeError\u001b[0m: Cannot cast ufunc 'subtract' output from dtype('float64') to dtype('int64') with casting rule 'same_kind'"
          ]
        }
      ]
    },
    {
      "cell_type": "code",
      "source": [
        "import numpy as np\n",
        "\n",
        "# 예측값과 실제값\n",
        "y_true = np.array([3, -0, 2, 7])\n",
        "y_pred = np.array([2.5, 0, 2, 8])\n",
        "\n",
        "# 샘플 수\n",
        "n = len(y_true)\n",
        "\n",
        "# MAE (Mean Absolute Error)\n",
        "mae = sum(abs(y_true - y_pred)) / n\n",
        "print(f\"MAE: {mae}\")\n",
        "\n",
        "# MSE (Mean Squared Error)\n",
        "mse = sum((y_true - y_pred) ** 2) / n\n",
        "print(f\"MSE: {mse}\")\n",
        "\n",
        "# RMSE (Root Mean Squared Error)\n",
        "rmse = (sum((y_true - y_pred) ** 2) / n) ** 0.5\n",
        "print(f\"RMSE: {rmse}\")\n",
        "\n",
        "# RMSLE (Root Mean Squared Logarithmic Error)\n",
        "# 로그를 계산할 때 Log(0)이 발생하지 않도록 1을 더함\n",
        "log_true = np.log(y_true + 1)\n",
        "log_pred = np.log(y_pred + 1)\n",
        "rmsle = (sum((log_true - log_pred) ** 2) / n) ** 0.5\n",
        "print(f\"RMSLE: {rmsle}\")\n"
      ],
      "metadata": {
        "colab": {
          "base_uri": "https://localhost:8080/"
        },
        "id": "sZPYS1xgV8xb",
        "outputId": "ded1cc5a-f629-46d6-deee-249738d18f9a"
      },
      "execution_count": null,
      "outputs": [
        {
          "output_type": "stream",
          "name": "stdout",
          "text": [
            "MAE: 0.375\n",
            "MSE: 0.3125\n",
            "RMSE: 0.5590169943749475\n",
            "RMSLE: 0.08902735015807975\n"
          ]
        }
      ]
    },
    {
      "cell_type": "code",
      "source": [
        "# 왼 쪽 정 렬\n",
        "print(\"{:<10}\".format(\"Alice\"))\n",
        "# 가 운 데 정 렬\n",
        "print(\"{:^10}\".format(\"Alice\"))\n",
        "# 오 른 쪽 정 렬\n",
        "print(\"{:>10}\".format(\"Alice\"))\n",
        "#Alice\n",
        "# Alice\n",
        "# Alice"
      ],
      "metadata": {
        "colab": {
          "base_uri": "https://localhost:8080/"
        },
        "id": "TPB2Ay3-aUvF",
        "outputId": "c5f5b7c0-fd8b-42dc-9de5-ca03ccc5b472"
      },
      "execution_count": null,
      "outputs": [
        {
          "output_type": "stream",
          "name": "stdout",
          "text": [
            "Alice     \n",
            "  Alice   \n",
            "     Alice\n"
          ]
        }
      ]
    },
    {
      "cell_type": "code",
      "source": [
        "from datetime import datetime\n",
        "now = datetime.now()\n",
        "print(\"The current time is {:%Y-%m-%d %H:%M}.\".format(now))"
      ],
      "metadata": {
        "colab": {
          "base_uri": "https://localhost:8080/"
        },
        "id": "3II-pJPXaUsM",
        "outputId": "5dd292cd-cc1b-4076-ca08-d22c8c03295f"
      },
      "execution_count": null,
      "outputs": [
        {
          "output_type": "stream",
          "name": "stdout",
          "text": [
            "The current time is 2024-06-29 09:54.\n"
          ]
        }
      ]
    },
    {
      "cell_type": "code",
      "source": [
        "name = \"Luten\"\n",
        "age = 34\n",
        "\n",
        "print(\"My name is {0} and I am {1} years old. Nice to meet you, {0}.\".format(name,age))\n"
      ],
      "metadata": {
        "colab": {
          "base_uri": "https://localhost:8080/"
        },
        "id": "7VY2wmVSaUpO",
        "outputId": "bbd46449-3b32-4022-d468-4f9f8a4edf76"
      },
      "execution_count": null,
      "outputs": [
        {
          "output_type": "stream",
          "name": "stdout",
          "text": [
            "My name is Luten and I am 34 years old. Nice to meet you, Luten.\n"
          ]
        }
      ]
    },
    {
      "cell_type": "code",
      "source": [
        "print(\"%10s\" % \"test\")  # 10칸 너비의 우측 정렬\n",
        "print(\"%-10s\" % \"test\")  # 10칸 너비의 좌측 정렬"
      ],
      "metadata": {
        "colab": {
          "base_uri": "https://localhost:8080/"
        },
        "id": "b6HnsUnbaUml",
        "outputId": "44501acd-54fb-48ee-84a6-3cb414547ecb"
      },
      "execution_count": null,
      "outputs": [
        {
          "output_type": "stream",
          "name": "stdout",
          "text": [
            "      test\n",
            "test      \n"
          ]
        }
      ]
    },
    {
      "cell_type": "code",
      "source": [
        "print(\"%05d\" % 42)  # 5자리 정수, 앞을 0으로 채움\n",
        "print(\"%.2f\" % 3.14159)  # 소수점 둘째 자리까지"
      ],
      "metadata": {
        "colab": {
          "base_uri": "https://localhost:8080/"
        },
        "id": "JVzR7WYEaUgs",
        "outputId": "b27fad1c-58b4-4c44-dad3-9138c04c23dc"
      },
      "execution_count": null,
      "outputs": [
        {
          "output_type": "stream",
          "name": "stdout",
          "text": [
            "00042\n",
            "3.14\n"
          ]
        }
      ]
    },
    {
      "cell_type": "code",
      "source": [
        "data = {\"name\": \"Bob\", \"age\": 25}\n",
        "print(\"%(name)s is %(age)d years old.\" % data)"
      ],
      "metadata": {
        "colab": {
          "base_uri": "https://localhost:8080/"
        },
        "id": "Y3qB0_s4aUd3",
        "outputId": "d888815b-518f-4c23-ae79-5856e5608a91"
      },
      "execution_count": null,
      "outputs": [
        {
          "output_type": "stream",
          "name": "stdout",
          "text": [
            "Bob is 25 years old.\n"
          ]
        }
      ]
    },
    {
      "cell_type": "code",
      "source": [
        "TP = 50\n",
        "TN = 30\n",
        "FN = 10\n",
        "FP = 10\n",
        "\n",
        "Accuracy = (TP + TN) / (TP + FN + FP + TN)\n",
        "print(f\"Accuracy: {Accuracy:.2f}\")"
      ],
      "metadata": {
        "colab": {
          "base_uri": "https://localhost:8080/"
        },
        "id": "ua2CblMzk_QP",
        "outputId": "ffa826fe-2866-4da6-d9a9-bcfc3addd952"
      },
      "execution_count": null,
      "outputs": [
        {
          "output_type": "stream",
          "name": "stdout",
          "text": [
            "Accuracy: 0.80\n"
          ]
        }
      ]
    },
    {
      "cell_type": "code",
      "source": [
        "for a in range(0,3):\n",
        "  for b in range(1,3):\n",
        "    if a==b:\n",
        "      break\n",
        "    print(a,b)\n"
      ],
      "metadata": {
        "colab": {
          "base_uri": "https://localhost:8080/"
        },
        "id": "3ru0Qe-Ek_NR",
        "outputId": "bccf157b-7721-4d24-fb08-c4125edd5152"
      },
      "execution_count": null,
      "outputs": [
        {
          "output_type": "stream",
          "name": "stdout",
          "text": [
            "0 1\n",
            "0 2\n",
            "2 1\n"
          ]
        }
      ]
    },
    {
      "cell_type": "code",
      "source": [
        "data = [15, 20, 35, 40, 50]\n",
        "min_val = min(data)\n",
        "max_val = max(data)\n",
        "\n",
        "normalized_data = []\n",
        "for value in data:\n",
        "    normalized_value = (value - min_val) / (max_val - min_val)\n",
        "    normalized_data.append(normalized_value)\n",
        "\n",
        "print(normalized_data)\n"
      ],
      "metadata": {
        "colab": {
          "base_uri": "https://localhost:8080/"
        },
        "id": "0Mrm-_LIk_Kb",
        "outputId": "e09fdd7b-342c-4b0f-ee95-1b1c7e38ada7"
      },
      "execution_count": null,
      "outputs": [
        {
          "output_type": "stream",
          "name": "stdout",
          "text": [
            "[0.0, 0.14285714285714285, 0.5714285714285714, 0.7142857142857143, 1.0]\n"
          ]
        }
      ]
    },
    {
      "cell_type": "code",
      "source": [
        "from sklearn.model_selection import KFold\n",
        "import numpy as np\n",
        "\n",
        "data = np.array([1, 2, 3, 4, 5, 6, 7, 8, 9, 10])\n",
        "kf = KFold(n_splits=5)\n",
        "\n",
        "for train_index, test_index in kf.split(data):\n",
        "    train_data, test_data = data[train_index], data[test_index]\n",
        "    print(\"Train:\", train_data, \"Test:\", test_data)\n"
      ],
      "metadata": {
        "colab": {
          "base_uri": "https://localhost:8080/"
        },
        "id": "rDNNveqok_Hg",
        "outputId": "3e0e1cdd-2049-44e6-faf2-77ebbc3221b3"
      },
      "execution_count": null,
      "outputs": [
        {
          "output_type": "stream",
          "name": "stdout",
          "text": [
            "Train: [ 3  4  5  6  7  8  9 10] Test: [1 2]\n",
            "Train: [ 1  2  5  6  7  8  9 10] Test: [3 4]\n",
            "Train: [ 1  2  3  4  7  8  9 10] Test: [5 6]\n",
            "Train: [ 1  2  3  4  5  6  9 10] Test: [7 8]\n",
            "Train: [1 2 3 4 5 6 7 8] Test: [ 9 10]\n"
          ]
        }
      ]
    },
    {
      "cell_type": "code",
      "source": [
        "import numpy as np\n",
        "\n",
        "# 가상의 데이터와 모델 초기화\n",
        "data = np.array([[0.1, 0.2], [0.2, 0.3], [0.3, 0.4], [0.4, 0.5]])\n",
        "labels = np.array([0, 1, 0, 1])\n",
        "weights = np.random.rand(2)\n",
        "learning_rate = 0.01\n",
        "\n",
        "# 간단한 학습 과정\n",
        "for epoch in range(100):\n",
        "    for x, y in zip(data, labels):\n",
        "        prediction = np.dot(x, weights)\n",
        "        error = prediction - y\n",
        "        weights -= learning_rate * error * x\n",
        "\n",
        "print(\"Final weights:\", weights)\n"
      ],
      "metadata": {
        "colab": {
          "base_uri": "https://localhost:8080/"
        },
        "id": "ZAE8Kbymk_Eo",
        "outputId": "a8ba1cc2-d7c9-4b82-cf80-58f13805e22f"
      },
      "execution_count": null,
      "outputs": [
        {
          "output_type": "stream",
          "name": "stdout",
          "text": [
            "Final weights: [0.47814057 0.85441119]\n"
          ]
        }
      ]
    },
    {
      "cell_type": "code",
      "source": [
        "from sklearn.metrics import accuracy_score, precision_score, recall_score\n",
        "\n",
        "true_labels = [0, 1, 1, 0, 1]\n",
        "predictions = [0, 1, 0, 0, 1]\n",
        "\n",
        "metrics = {\n",
        "    \"Accuracy\": accuracy_score,\n",
        "    \"Precision\": precision_score,\n",
        "    \"Recall\": recall_score\n",
        "}\n",
        "\n",
        "for metric_name, metric_func in metrics.items():\n",
        "    score = metric_func(true_labels, predictions)\n",
        "    print(f\"{metric_name}: {score}\")\n"
      ],
      "metadata": {
        "colab": {
          "base_uri": "https://localhost:8080/"
        },
        "id": "Ps4O3BB1xHXm",
        "outputId": "b183ecbd-f947-4b6c-fc3e-da73a6795d66"
      },
      "execution_count": null,
      "outputs": [
        {
          "output_type": "stream",
          "name": "stdout",
          "text": [
            "Accuracy: 0.8\n",
            "Precision: 1.0\n",
            "Recall: 0.6666666666666666\n"
          ]
        }
      ]
    },
    {
      "cell_type": "code",
      "source": [
        "# 가상의 모델 예측 함수\n",
        "def predict(x):\n",
        "    return 1 if np.dot(x, weights) > 0.5 else 0\n",
        "\n",
        "test_data = np.array([[0.1, 0.2], [0.3, 0.4], [0.5, 0.6]])\n",
        "predictions = []\n",
        "\n",
        "for sample in test_data:\n",
        "    prediction = predict(sample)\n",
        "    predictions.append(prediction)\n",
        "\n",
        "print(\"Predictions:\", predictions)\n",
        "\n"
      ],
      "metadata": {
        "colab": {
          "base_uri": "https://localhost:8080/"
        },
        "id": "X4omkeI8xHVB",
        "outputId": "162293b1-1d78-4eb7-beaa-05c9a6fde802"
      },
      "execution_count": null,
      "outputs": [
        {
          "output_type": "stream",
          "name": "stdout",
          "text": [
            "Predictions: [0, 0, 1]\n"
          ]
        }
      ]
    },
    {
      "cell_type": "code",
      "source": [
        "for i in range(1, 11):\n",
        "  if i % 2 == 0:\n",
        "    print('@', end=' ')\n",
        "  else:\n",
        "    print('*', end=' ')"
      ],
      "metadata": {
        "colab": {
          "base_uri": "https://localhost:8080/"
        },
        "id": "9mORjXAixHSC",
        "outputId": "45921cd1-7da1-4e60-f741-873d33701b8e"
      },
      "execution_count": null,
      "outputs": [
        {
          "output_type": "stream",
          "name": "stdout",
          "text": [
            "* @ * @ * @ * @ * @ "
          ]
        }
      ]
    },
    {
      "cell_type": "code",
      "source": [
        "# 숫 자 입 력 받 기\n",
        "num = int(input(\"피 라 미 드 의 높 이(층 수)를 입 력 하 세 요: \"))\n",
        "# 피 라 미 드 출 력\n",
        "for i in range(1, num + 1):\n",
        "  print(\" \" * (num - i) + \"*\" * (2*i - 1))\n"
      ],
      "metadata": {
        "colab": {
          "base_uri": "https://localhost:8080/"
        },
        "id": "k2EQPVx3xHPA",
        "outputId": "55f59505-b065-4a70-c797-a871187c0b34"
      },
      "execution_count": null,
      "outputs": [
        {
          "output_type": "stream",
          "name": "stdout",
          "text": [
            "피 라 미 드 의 높 이(층 수)를 입 력 하 세 요: 10\n",
            "         *\n",
            "        ***\n",
            "       *****\n",
            "      *******\n",
            "     *********\n",
            "    ***********\n",
            "   *************\n",
            "  ***************\n",
            " *****************\n",
            "*******************\n"
          ]
        }
      ]
    },
    {
      "cell_type": "code",
      "source": [
        "# 숫 자 입 력 받 기\n",
        "num = int(input(\"숫 자 를 입 력 하 세 요: \"))\n",
        "# 계 단 식 별 찍 기 출 력\n",
        "for i in range(1, num + 1):\n",
        "  print(\"*\" * i)"
      ],
      "metadata": {
        "colab": {
          "base_uri": "https://localhost:8080/"
        },
        "id": "fcNy4DR4xHMS",
        "outputId": "efc5bf97-c682-4219-f324-3d9b2eb38d69"
      },
      "execution_count": null,
      "outputs": [
        {
          "output_type": "stream",
          "name": "stdout",
          "text": [
            "숫 자 를 입 력 하 세 요: 15\n",
            "*\n",
            "**\n",
            "***\n",
            "****\n",
            "*****\n",
            "******\n",
            "*******\n",
            "********\n",
            "*********\n",
            "**********\n",
            "***********\n",
            "************\n",
            "*************\n",
            "**************\n",
            "***************\n"
          ]
        }
      ]
    },
    {
      "cell_type": "code",
      "source": [
        "learning_rate = 0.01\n",
        "\n",
        "def update_learning_rate(epoch):\n",
        "  if epoch > 5:\n",
        "    learning_rate = 0.001\n",
        "\n",
        "for epoch in range(10):\n",
        "  update_learning_rate(epoch)\n",
        "\n",
        "print(learning_rate)"
      ],
      "metadata": {
        "colab": {
          "base_uri": "https://localhost:8080/"
        },
        "id": "ft7bqucY4Ges",
        "outputId": "4b2b7934-0394-484b-9713-6c36c5ca7c9d"
      },
      "execution_count": null,
      "outputs": [
        {
          "output_type": "stream",
          "name": "stdout",
          "text": [
            "0.01\n"
          ]
        }
      ]
    },
    {
      "cell_type": "code",
      "source": [
        "def outer(num):\n",
        "    def inner(data):\n",
        "        return num * data\n",
        "    return inner\n",
        "\n",
        "# 사용 예시\n",
        "temp = outer(10)\n",
        "result = temp(5)\n",
        "print(result)  # 출력: 50\n",
        "\n",
        "# 함수형 API 스타일로 직접 호출\n",
        "direct_result = outer(10)(5)\n",
        "print(direct_result)  # 출력: 50"
      ],
      "metadata": {
        "colab": {
          "base_uri": "https://localhost:8080/"
        },
        "id": "m_FFCvGd4GbV",
        "outputId": "05f9486a-ead8-431f-b26c-9e13fad6c9fc"
      },
      "execution_count": null,
      "outputs": [
        {
          "output_type": "stream",
          "name": "stdout",
          "text": [
            "50\n",
            "50\n"
          ]
        }
      ]
    },
    {
      "cell_type": "code",
      "source": [
        "def multiplier(n):\n",
        "    def multiply(x):\n",
        "        return n * x\n",
        "    return multiply\n",
        "\n",
        "# 사용 예시\n",
        "double = multiplier(2)\n",
        "triple = multiplier(3)\n",
        "\n",
        "print(double(5))  # 출력: 10\n",
        "print(triple(5))  # 출력: 15"
      ],
      "metadata": {
        "colab": {
          "base_uri": "https://localhost:8080/"
        },
        "id": "AIaTcRfJ4GYV",
        "outputId": "1896644c-9075-4c5f-9ec8-e4f2dd6606ab"
      },
      "execution_count": null,
      "outputs": [
        {
          "output_type": "stream",
          "name": "stdout",
          "text": [
            "10\n",
            "15\n"
          ]
        }
      ]
    },
    {
      "cell_type": "code",
      "source": [
        "import numpy as np\n",
        "\n",
        "def create_activation_function(function_type):\n",
        "    def relu(x):\n",
        "        return np.maximum(0, x)\n",
        "\n",
        "    def leaky_relu(x, alpha=0.01):\n",
        "        return np.where(x > 0, x, alpha * x)\n",
        "\n",
        "    def sigmoid(x):\n",
        "        return 1 / (1 + np.exp(-x))\n",
        "\n",
        "    if function_type == 'relu':\n",
        "        return relu\n",
        "    elif function_type == 'leaky_relu':\n",
        "        return leaky_relu\n",
        "    elif function_type == 'sigmoid':\n",
        "        return sigmoid\n",
        "    else:\n",
        "        raise ValueError(\"Unknown activation function type\")\n",
        "\n",
        "# 사용 예시\n",
        "relu_activation = create_activation_function('relu')\n",
        "leaky_relu_activation = create_activation_function('leaky_relu')\n",
        "sigmoid_activation = create_activation_function('sigmoid')\n",
        "\n",
        "# 테스트\n",
        "x = np.array([-2, -1, 0, 1, 2])\n",
        "print(\"ReLU:\", relu_activation(x))\n",
        "print(\"Leaky ReLU:\", leaky_relu_activation(x))\n",
        "print(\"Sigmoid:\", sigmoid_activation(x))\n"
      ],
      "metadata": {
        "colab": {
          "base_uri": "https://localhost:8080/"
        },
        "id": "PNhtAjLD4GU-",
        "outputId": "3df83744-ca84-46ad-b54a-79d464ce17f0"
      },
      "execution_count": null,
      "outputs": [
        {
          "output_type": "stream",
          "name": "stdout",
          "text": [
            "ReLU: [0 0 0 1 2]\n",
            "Leaky ReLU: [-0.02 -0.01  0.    1.    2.  ]\n",
            "Sigmoid: [0.11920292 0.26894142 0.5        0.73105858 0.88079708]\n"
          ]
        }
      ]
    },
    {
      "cell_type": "code",
      "source": [
        "def counter():\n",
        "    count = 0\n",
        "    def increment():\n",
        "        nonlocal count\n",
        "        count += 1\n",
        "        return count\n",
        "    return increment\n",
        "\n",
        "# 사용 예시\n",
        "counter1 = counter()\n",
        "counter2 = counter()\n",
        "\n",
        "print(counter1())  # 출력: 1\n",
        "print(counter1())  # 출력: 2\n",
        "print(counter2())  # 출력: 1\n",
        "print(counter1())  # 출력: 3"
      ],
      "metadata": {
        "colab": {
          "base_uri": "https://localhost:8080/"
        },
        "id": "4sWhMN0tCohm",
        "outputId": "c58372d1-f078-48c9-ca91-80204d894433"
      },
      "execution_count": null,
      "outputs": [
        {
          "output_type": "stream",
          "name": "stdout",
          "text": [
            "1\n",
            "2\n",
            "1\n",
            "3\n"
          ]
        }
      ]
    },
    {
      "cell_type": "code",
      "source": [
        "def multiplier(n):\n",
        "    def multiply(x):\n",
        "        return n * x\n",
        "    return multiply\n",
        "\n",
        "# 사용 예시\n",
        "double = multiplier(2)\n",
        "triple = multiplier(3)\n",
        "\n",
        "print(double(5))  # 출력: 10\n",
        "print(triple(5))  # 출력: 15"
      ],
      "metadata": {
        "colab": {
          "base_uri": "https://localhost:8080/"
        },
        "id": "96hKIqdlDYdf",
        "outputId": "e208258a-994c-4a35-c939-d3cfc58b7db9"
      },
      "execution_count": null,
      "outputs": [
        {
          "output_type": "stream",
          "name": "stdout",
          "text": [
            "10\n",
            "15\n"
          ]
        }
      ]
    },
    {
      "cell_type": "code",
      "source": [
        "import time\n",
        "\n",
        "def timer_decorator(func):\n",
        "    def wrapper(*args, **kwargs):\n",
        "        start_time = time.time()\n",
        "        result = func(*args, **kwargs)\n",
        "        end_time = time.time()\n",
        "        print(f\"{func.__name__} 함수 실행 시간: {end_time - start_time:.5f}초\")\n",
        "        return result\n",
        "    return wrapper\n",
        "\n",
        "@timer_decorator\n",
        "def slow_function(n):\n",
        "    time.sleep(n)\n",
        "    return f\"{n}초 동안 실행됨\"\n",
        "\n",
        "# 사용\n",
        "print(slow_function(2))"
      ],
      "metadata": {
        "colab": {
          "base_uri": "https://localhost:8080/"
        },
        "id": "tcFbEJ0dGYZR",
        "outputId": "e1f22fbb-1e6b-4843-b42f-fec4affa4091"
      },
      "execution_count": null,
      "outputs": [
        {
          "output_type": "stream",
          "name": "stdout",
          "text": [
            "slow_function 함수 실행 시간: 2.00121초\n",
            "2초 동안 실행됨\n"
          ]
        }
      ]
    },
    {
      "cell_type": "code",
      "source": [
        "def func2():\n",
        "  local_var=200\n",
        "  print(local_var)\n",
        "\n",
        "func2()"
      ],
      "metadata": {
        "colab": {
          "base_uri": "https://localhost:8080/"
        },
        "id": "D2fJ9kSjHxj-",
        "outputId": "54005c62-552f-4780-d768-298747a73b34"
      },
      "execution_count": null,
      "outputs": [
        {
          "output_type": "stream",
          "name": "stdout",
          "text": [
            "200\n"
          ]
        }
      ]
    },
    {
      "cell_type": "code",
      "source": [
        "func2()"
      ],
      "metadata": {
        "colab": {
          "base_uri": "https://localhost:8080/"
        },
        "id": "eVqUz_08HxhC",
        "outputId": "88f5ccbb-fef9-4d8b-83e0-9b416caeeb9f"
      },
      "execution_count": null,
      "outputs": [
        {
          "output_type": "stream",
          "name": "stdout",
          "text": [
            "200\n"
          ]
        }
      ]
    },
    {
      "cell_type": "code",
      "source": [
        "print(local_var)"
      ],
      "metadata": {
        "colab": {
          "base_uri": "https://localhost:8080/",
          "height": 147
        },
        "id": "XWUG-JuWHxan",
        "outputId": "26774e73-d334-47b2-caef-358115b48ff7"
      },
      "execution_count": null,
      "outputs": [
        {
          "output_type": "error",
          "ename": "NameError",
          "evalue": "name 'local_var' is not defined",
          "traceback": [
            "\u001b[0;31m---------------------------------------------------------------------------\u001b[0m",
            "\u001b[0;31mNameError\u001b[0m                                 Traceback (most recent call last)",
            "\u001b[0;32m<ipython-input-16-3bfff76e6cd3>\u001b[0m in \u001b[0;36m<cell line: 1>\u001b[0;34m()\u001b[0m\n\u001b[0;32m----> 1\u001b[0;31m \u001b[0mprint\u001b[0m\u001b[0;34m(\u001b[0m\u001b[0mlocal_var\u001b[0m\u001b[0;34m)\u001b[0m\u001b[0;34m\u001b[0m\u001b[0;34m\u001b[0m\u001b[0m\n\u001b[0m",
            "\u001b[0;31mNameError\u001b[0m: name 'local_var' is not defined"
          ]
        }
      ]
    },
    {
      "cell_type": "code",
      "source": [
        "def modify_list_elements(lst):\n",
        "    print(f\"함수 내 리스트 주소값 (변경 전): {id(lst)}\")\n",
        "    lst[0] = 99\n",
        "    print(f\"함수 내 리스트 주소값 (변경 후): {id(lst)}\")\n",
        "\n",
        "my_list = [1, 2, 3]\n",
        "print(f\"함수 호출 전 리스트 주소값: {id(my_list)}\")\n",
        "modify_list_elements(my_list)\n",
        "print(f\"함수 호출 후 리스트 주소값: {id(my_list)}\")\n",
        "print(my_list)\n"
      ],
      "metadata": {
        "colab": {
          "base_uri": "https://localhost:8080/"
        },
        "id": "szDk3rgFHxXo",
        "outputId": "552f8d0c-18ec-4eb8-e571-c22ddd91fad9"
      },
      "execution_count": null,
      "outputs": [
        {
          "output_type": "stream",
          "name": "stdout",
          "text": [
            "함수 호출 전 리스트 주소값: 136803054825920\n",
            "함수 내 리스트 주소값 (변경 전): 136803054825920\n",
            "함수 내 리스트 주소값 (변경 후): 136803054825920\n",
            "함수 호출 후 리스트 주소값: 136803054825920\n",
            "[99, 2, 3]\n"
          ]
        }
      ]
    },
    {
      "cell_type": "code",
      "source": [
        "def reassign_list(lst):\n",
        "    print(f\"함수 내 리스트 주소값 (재할당 전): {id(lst)}\")\n",
        "    lst = [4, 5, 6]\n",
        "    print(f\"함수 내 리스트 주소값 (재할당 후): {id(lst)}\")\n",
        "\n",
        "my_list = [1, 2, 3]\n",
        "print(f\"함수 호출 전 리스트 주소값: {id(my_list)}\")\n",
        "reassign_list(my_list)\n",
        "print(f\"함수 호출 후 리스트 주소값: {id(my_list)}\")\n",
        "print(my_list)\n"
      ],
      "metadata": {
        "colab": {
          "base_uri": "https://localhost:8080/"
        },
        "id": "J1EdEoPBLv-s",
        "outputId": "36bd7ba3-3523-4dde-dce3-5ed13d841c75"
      },
      "execution_count": null,
      "outputs": [
        {
          "output_type": "stream",
          "name": "stdout",
          "text": [
            "함수 호출 전 리스트 주소값: 136803070444864\n",
            "함수 내 리스트 주소값 (재할당 전): 136803070444864\n",
            "함수 내 리스트 주소값 (재할당 후): 136803054991360\n",
            "함수 호출 후 리스트 주소값: 136803070444864\n",
            "[1, 2, 3]\n"
          ]
        }
      ]
    },
    {
      "cell_type": "code",
      "source": [
        "def make_url(ip, port=80):\n",
        "  return \"http://{}:{}\".format(ip, port)"
      ],
      "metadata": {
        "id": "tMRt4u9_Twu0"
      },
      "execution_count": null,
      "outputs": []
    },
    {
      "cell_type": "code",
      "source": [
        "make_url(\"localhost\")"
      ],
      "metadata": {
        "colab": {
          "base_uri": "https://localhost:8080/",
          "height": 35
        },
        "id": "-jOsI7W-T5Fy",
        "outputId": "5f07c47d-0140-4213-9b51-0ecdb9ec8a30"
      },
      "execution_count": null,
      "outputs": [
        {
          "output_type": "execute_result",
          "data": {
            "text/plain": [
              "'http://localhost:80'"
            ],
            "application/vnd.google.colaboratory.intrinsic+json": {
              "type": "string"
            }
          },
          "metadata": {},
          "execution_count": 22
        }
      ]
    },
    {
      "cell_type": "code",
      "source": [
        "def func4(a, L=None):\n",
        "  if L is None:\n",
        "    L=[]\n",
        "  L.append(a)\n",
        "  return L\n",
        "\n",
        "func4()"
      ],
      "metadata": {
        "colab": {
          "base_uri": "https://localhost:8080/",
          "height": 184
        },
        "id": "RpgsHUhbT9rz",
        "outputId": "0b47a2a3-0561-4aa1-90de-824a5a3749c3"
      },
      "execution_count": null,
      "outputs": [
        {
          "output_type": "error",
          "ename": "TypeError",
          "evalue": "func4() missing 1 required positional argument: 'a'",
          "traceback": [
            "\u001b[0;31m---------------------------------------------------------------------------\u001b[0m",
            "\u001b[0;31mTypeError\u001b[0m                                 Traceback (most recent call last)",
            "\u001b[0;32m<ipython-input-28-e4ce6091dd7f>\u001b[0m in \u001b[0;36m<cell line: 7>\u001b[0;34m()\u001b[0m\n\u001b[1;32m      5\u001b[0m   \u001b[0;32mreturn\u001b[0m \u001b[0mL\u001b[0m\u001b[0;34m\u001b[0m\u001b[0;34m\u001b[0m\u001b[0m\n\u001b[1;32m      6\u001b[0m \u001b[0;34m\u001b[0m\u001b[0m\n\u001b[0;32m----> 7\u001b[0;31m \u001b[0mfunc4\u001b[0m\u001b[0;34m(\u001b[0m\u001b[0;34m)\u001b[0m\u001b[0;34m\u001b[0m\u001b[0;34m\u001b[0m\u001b[0m\n\u001b[0m",
            "\u001b[0;31mTypeError\u001b[0m: func4() missing 1 required positional argument: 'a'"
          ]
        }
      ]
    },
    {
      "cell_type": "code",
      "source": [
        "func4(a=40)"
      ],
      "metadata": {
        "colab": {
          "base_uri": "https://localhost:8080/"
        },
        "id": "UYi_0_iQVRgp",
        "outputId": "03040108-bf9b-4609-a3da-a0290d6308f6"
      },
      "execution_count": null,
      "outputs": [
        {
          "output_type": "execute_result",
          "data": {
            "text/plain": [
              "[40]"
            ]
          },
          "metadata": {},
          "execution_count": 26
        }
      ]
    },
    {
      "cell_type": "code",
      "source": [
        "funct4()"
      ],
      "metadata": {
        "colab": {
          "base_uri": "https://localhost:8080/",
          "height": 147
        },
        "id": "ZE7242RNVUC5",
        "outputId": "7a709aee-c212-410f-9f50-a6a4b2e84501"
      },
      "execution_count": null,
      "outputs": [
        {
          "output_type": "error",
          "ename": "NameError",
          "evalue": "name 'funct4' is not defined",
          "traceback": [
            "\u001b[0;31m---------------------------------------------------------------------------\u001b[0m",
            "\u001b[0;31mNameError\u001b[0m                                 Traceback (most recent call last)",
            "\u001b[0;32m<ipython-input-27-c30c0cc9e1d4>\u001b[0m in \u001b[0;36m<cell line: 1>\u001b[0;34m()\u001b[0m\n\u001b[0;32m----> 1\u001b[0;31m \u001b[0mfunct4\u001b[0m\u001b[0;34m(\u001b[0m\u001b[0;34m)\u001b[0m\u001b[0;34m\u001b[0m\u001b[0;34m\u001b[0m\u001b[0m\n\u001b[0m",
            "\u001b[0;31mNameError\u001b[0m: name 'funct4' is not defined"
          ]
        }
      ]
    },
    {
      "cell_type": "code",
      "source": [
        "def display_info(name, age, country):\n",
        "    print(f\"Name: {name}\")\n",
        "    print(f\"Age: {age}\")\n",
        "    print(f\"Country: {country}\")\n",
        "\n",
        "# 튜플 정의\n",
        "info = (\"Alice\", 30, \"USA\")\n",
        "\n",
        "# 튜플 언패킹을 사용하여 함수 호출\n",
        "display_info(*info)\n"
      ],
      "metadata": {
        "colab": {
          "base_uri": "https://localhost:8080/"
        },
        "id": "ECzLxbVMVaNb",
        "outputId": "f11cf127-46ce-4813-e98b-6473cc462b59"
      },
      "execution_count": null,
      "outputs": [
        {
          "output_type": "stream",
          "name": "stdout",
          "text": [
            "Name: Alice\n",
            "Age: 30\n",
            "Country: USA\n"
          ]
        }
      ]
    },
    {
      "cell_type": "code",
      "source": [
        "def display_info(name, age, country):\n",
        "    print(f\"Name: {name}\")\n",
        "    print(f\"Age: {age}\")\n",
        "    print(f\"Country: {country}\")\n",
        "\n",
        "# 딕셔너리 정의\n",
        "info = {\"name\": \"Alice\", \"age\": 30, \"country\": \"USA\"}\n",
        "\n",
        "# 딕셔너리 언패킹을 사용하여 함수 호출\n",
        "display_info(**info)\n"
      ],
      "metadata": {
        "colab": {
          "base_uri": "https://localhost:8080/"
        },
        "id": "HkZyTOq4a-zQ",
        "outputId": "5717ec50-7128-4296-a844-a1c5ab323798"
      },
      "execution_count": null,
      "outputs": [
        {
          "output_type": "stream",
          "name": "stdout",
          "text": [
            "Name: Alice\n",
            "Age: 30\n",
            "Country: USA\n"
          ]
        }
      ]
    },
    {
      "cell_type": "code",
      "source": [
        "import tensorflow as tf\n",
        "from tensorflow.keras.datasets import mnist\n",
        "from tensorflow.keras.models import Sequential\n",
        "from tensorflow.keras.layers import Dense, Conv2D, Flatten, MaxPooling2D\n",
        "from tensorflow.keras.utils import to_categorical\n",
        "\n",
        "# 데이터 로드 및 전처리\n",
        "(X_train, y_train), (X_test, y_test) = mnist.load_data()\n",
        "X_train = X_train.reshape(-1, 28, 28, 1).astype('float32') / 255\n",
        "X_test = X_test.reshape(-1, 28, 28, 1).astype('float32') / 255\n",
        "y_train = to_categorical(y_train)\n",
        "y_test = to_categorical(y_test)\n",
        "\n",
        "# 모델 생성\n",
        "model = Sequential([\n",
        "    Conv2D(32, kernel_size=(3, 3), activation='relu', input_shape=(28, 28, 1)),\n",
        "    MaxPooling2D(pool_size=(2, 2)),\n",
        "    Flatten(),\n",
        "    Dense(128, activation='relu'),\n",
        "    Dense(10, activation='softmax')\n",
        "])\n",
        "\n",
        "# 모델 컴파일\n",
        "model.compile(optimizer='adam', loss='categorical_crossentropy', metrics=['accuracy'])\n",
        "\n",
        "# 모델 학습\n",
        "model.fit(X_train, y_train, epochs=5, batch_size=32, verbose=1, validation_data=(X_test, y_test))\n",
        "\n",
        "# 평가\n",
        "loss, accuracy = model.evaluate(X_test, y_test)\n",
        "print(f\"테스트 정확도: {accuracy * 100:.2f}%\")\n"
      ],
      "metadata": {
        "colab": {
          "base_uri": "https://localhost:8080/"
        },
        "id": "5Nslwi9LO7uf",
        "outputId": "7da45a6d-6fb5-400a-edec-c71bf08b91a3"
      },
      "execution_count": null,
      "outputs": [
        {
          "output_type": "stream",
          "name": "stdout",
          "text": [
            "Downloading data from https://storage.googleapis.com/tensorflow/tf-keras-datasets/mnist.npz\n",
            "11490434/11490434 [==============================] - 0s 0us/step\n",
            "Epoch 1/5\n",
            "1875/1875 [==============================] - 72s 36ms/step - loss: 0.1540 - accuracy: 0.9551 - val_loss: 0.0646 - val_accuracy: 0.9787\n",
            "Epoch 2/5\n",
            "1875/1875 [==============================] - 70s 37ms/step - loss: 0.0536 - accuracy: 0.9837 - val_loss: 0.0488 - val_accuracy: 0.9835\n",
            "Epoch 3/5\n",
            "1875/1875 [==============================] - 51s 27ms/step - loss: 0.0353 - accuracy: 0.9887 - val_loss: 0.0447 - val_accuracy: 0.9843\n",
            "Epoch 4/5\n",
            "1875/1875 [==============================] - 53s 28ms/step - loss: 0.0240 - accuracy: 0.9921 - val_loss: 0.0550 - val_accuracy: 0.9832\n",
            "Epoch 5/5\n",
            "1875/1875 [==============================] - 52s 28ms/step - loss: 0.0163 - accuracy: 0.9948 - val_loss: 0.0459 - val_accuracy: 0.9860\n",
            "313/313 [==============================] - 4s 12ms/step - loss: 0.0459 - accuracy: 0.9860\n",
            "테스트 정확도: 98.60%\n"
          ]
        }
      ]
    },
    {
      "cell_type": "code",
      "source": [
        "import numpy as np\n",
        "from sklearn.cluster import KMeans\n",
        "\n",
        "# 데이터 생성\n",
        "X = np.array([[1, 2], [1, 4], [1, 0],\n",
        "              [4, 2], [4, 4], [4, 0]])\n",
        "\n",
        "# 모델 생성 및 학습\n",
        "kmeans = KMeans(n_clusters=2, random_state=0)\n",
        "kmeans.fit(X)\n",
        "\n",
        "# 클러스터 센터 출력\n",
        "print(kmeans.cluster_centers_)  # 출력: [[1. 2.] [4. 2.]]\n"
      ],
      "metadata": {
        "colab": {
          "base_uri": "https://localhost:8080/"
        },
        "id": "7guLt_FfPJ_w",
        "outputId": "5b333c88-e055-4d0d-bfa7-56a33fe61387"
      },
      "execution_count": null,
      "outputs": [
        {
          "output_type": "stream",
          "name": "stdout",
          "text": [
            "[[1. 2.]\n",
            " [4. 2.]]\n"
          ]
        },
        {
          "output_type": "stream",
          "name": "stderr",
          "text": [
            "/usr/local/lib/python3.10/dist-packages/sklearn/cluster/_kmeans.py:870: FutureWarning: The default value of `n_init` will change from 10 to 'auto' in 1.4. Set the value of `n_init` explicitly to suppress the warning\n",
            "  warnings.warn(\n"
          ]
        }
      ]
    },
    {
      "cell_type": "code",
      "source": [
        "import numpy as np\n",
        "from tensorflow.keras.models import Sequential\n",
        "from tensorflow.keras.layers import Dense\n",
        "\n",
        "# 데이터 생성\n",
        "X = np.array([[1], [2], [3], [4], [5]])\n",
        "y = np.array([1, 3, 5, 7, 9])\n",
        "\n",
        "# 모델 생성\n",
        "model = Sequential()\n",
        "model.add(Dense(1, input_dim=1, activation='linear'))\n",
        "\n",
        "# 모델 컴파일\n",
        "model.compile(optimizer='adam', loss='mse')\n",
        "\n",
        "# 모델 학습\n",
        "model.fit(X, y, epochs=100, verbose=0)\n",
        "\n",
        "# 예측\n",
        "predictions = model.predict(np.array([[6], [7]]))\n",
        "print(predictions)  # 출력: [[11.] [13.]]\n"
      ],
      "metadata": {
        "colab": {
          "base_uri": "https://localhost:8080/"
        },
        "id": "LzZGXMUhPWn_",
        "outputId": "b340112f-57eb-4b21-d03d-6993e3b8df54"
      },
      "execution_count": null,
      "outputs": [
        {
          "output_type": "stream",
          "name": "stdout",
          "text": [
            "1/1 [==============================] - 0s 114ms/step\n",
            "[[-5.7967834]\n",
            " [-6.779442 ]]\n"
          ]
        }
      ]
    },
    {
      "cell_type": "code",
      "source": [
        "import numpy as np\n",
        "from sklearn.linear_model import LogisticRegression\n",
        "\n",
        "# 데이터 생성\n",
        "X = np.array([[1], [2], [3], [4], [5]])\n",
        "y = np.array([0, 0, 0, 1, 1])\n",
        "\n",
        "# 모델 생성 및 학습\n",
        "model = LogisticRegression()\n",
        "model.fit(X, y)\n",
        "\n",
        "# 예측\n",
        "predictions = model.predict(np.array([[1.5], [3.5]]))\n",
        "print(predictions)  # 출력: [0 0]\n"
      ],
      "metadata": {
        "colab": {
          "base_uri": "https://localhost:8080/"
        },
        "id": "ZC-zXzcIPX0v",
        "outputId": "cb8da0fc-434d-4f51-e654-e7b8df5d9aab"
      },
      "execution_count": null,
      "outputs": [
        {
          "output_type": "stream",
          "name": "stdout",
          "text": [
            "[0 0]\n"
          ]
        }
      ]
    },
    {
      "cell_type": "code",
      "source": [
        "import numpy as np\n",
        "from sklearn.linear_model import LinearRegression\n",
        "\n",
        "# 데이터 생성\n",
        "X = np.array([[1], [2], [3], [4], [5]])\n",
        "y = np.array([1, 3, 5, 7, 9])\n",
        "\n",
        "# 모델 생성 및 학습\n",
        "model = LinearRegression()\n",
        "model.fit(X, y)\n",
        "\n",
        "# 예측\n",
        "predictions = model.predict(np.array([[6], [7]]))\n",
        "print(predictions)  # 출력: [11. 13.]\n"
      ],
      "metadata": {
        "colab": {
          "base_uri": "https://localhost:8080/"
        },
        "id": "-SixAyIzPXk8",
        "outputId": "2b581554-1d0b-45e7-de12-c34d22770745"
      },
      "execution_count": null,
      "outputs": [
        {
          "output_type": "stream",
          "name": "stdout",
          "text": [
            "[11. 13.]\n"
          ]
        }
      ]
    },
    {
      "cell_type": "code",
      "source": [
        "coordinates = [(x, y, z) for x in range(3) for y in range(3) for z in range(3)]\n",
        "for coord in coordinates:\n",
        "    print(coord)\n",
        "# 출력:\n",
        "# (0, 0, 0)\n",
        "# (0, 0, 1)\n",
        "# (0, 0, 2)\n",
        "# ...\n",
        "# (2, 2, 0)\n",
        "# (2, 2, 1)\n",
        "# (2, 2, 2)\n"
      ],
      "metadata": {
        "colab": {
          "base_uri": "https://localhost:8080/"
        },
        "id": "9LJatUq_PXh3",
        "outputId": "a23a1521-6c79-4a53-95d5-0d12e0e19223"
      },
      "execution_count": null,
      "outputs": [
        {
          "output_type": "stream",
          "name": "stdout",
          "text": [
            "(0, 0, 0)\n",
            "(0, 0, 1)\n",
            "(0, 0, 2)\n",
            "(0, 1, 0)\n",
            "(0, 1, 1)\n",
            "(0, 1, 2)\n",
            "(0, 2, 0)\n",
            "(0, 2, 1)\n",
            "(0, 2, 2)\n",
            "(1, 0, 0)\n",
            "(1, 0, 1)\n",
            "(1, 0, 2)\n",
            "(1, 1, 0)\n",
            "(1, 1, 1)\n",
            "(1, 1, 2)\n",
            "(1, 2, 0)\n",
            "(1, 2, 1)\n",
            "(1, 2, 2)\n",
            "(2, 0, 0)\n",
            "(2, 0, 1)\n",
            "(2, 0, 2)\n",
            "(2, 1, 0)\n",
            "(2, 1, 1)\n",
            "(2, 1, 2)\n",
            "(2, 2, 0)\n",
            "(2, 2, 1)\n",
            "(2, 2, 2)\n"
          ]
        }
      ]
    },
    {
      "cell_type": "code",
      "source": [
        "import random\n",
        "import string\n",
        "\n",
        "def generate_password(length):\n",
        "    characters = string.ascii_letters + string.digits + string.punctuation\n",
        "    password = ''.join(random.choice(characters) for _ in range(length))\n",
        "    return password\n",
        "\n",
        "password = generate_password(12)\n",
        "print(password)  # 예: aB3$dE5!hJ1@\n"
      ],
      "metadata": {
        "colab": {
          "base_uri": "https://localhost:8080/"
        },
        "id": "R593AU-TSsRT",
        "outputId": "ef335a7f-f684-45d8-fe74-244868df5de1"
      },
      "execution_count": null,
      "outputs": [
        {
          "output_type": "stream",
          "name": "stdout",
          "text": [
            "T!,b{*QCOtL[\n"
          ]
        }
      ]
    },
    {
      "cell_type": "code",
      "source": [
        "n = 5\n",
        "matrix = [[(i+j) % 2 for j in range(n)] for i in range(n)]\n",
        "for row in matrix:\n",
        "    print(row)\n",
        "# 출력:\n",
        "# [0, 1, 0, 1, 0]\n",
        "# [1, 0, 1, 0, 1]\n",
        "# [0, 1, 0, 1, 0]\n",
        "# [1, 0, 1, 0, 1]\n",
        "# [0, 1, 0, 1, 0]\n"
      ],
      "metadata": {
        "colab": {
          "base_uri": "https://localhost:8080/"
        },
        "id": "fR_q6RSVTDGH",
        "outputId": "1e96b877-b07c-4989-fcbc-0e48f51369bd"
      },
      "execution_count": null,
      "outputs": [
        {
          "output_type": "stream",
          "name": "stdout",
          "text": [
            "[0, 1, 0, 1, 0]\n",
            "[1, 0, 1, 0, 1]\n",
            "[0, 1, 0, 1, 0]\n",
            "[1, 0, 1, 0, 1]\n",
            "[0, 1, 0, 1, 0]\n"
          ]
        }
      ]
    },
    {
      "cell_type": "code",
      "source": [
        "def rotate_matrix(matrix):\n",
        "    n = len(matrix)\n",
        "    rotated = [[0] * n for _ in range(n)]\n",
        "\n",
        "    for i in range(n):\n",
        "        for j in range(n):\n",
        "            rotated[j][n - 1 - i] = matrix[i][j]\n",
        "\n",
        "    return rotated\n",
        "\n",
        "# 3x3 행렬 생성\n",
        "matrix = [\n",
        "    [1, 2, 3],\n",
        "    [4, 5, 6],\n",
        "    [7, 8, 9]\n",
        "]\n",
        "\n",
        "rotated_matrix = rotate_matrix(matrix)\n",
        "for row in rotated_matrix:\n",
        "    print(row)\n",
        "# 출력:\n",
        "# [7, 4, 1]\n",
        "# [8, 5, 2]\n",
        "# [9, 6, 3]\n"
      ],
      "metadata": {
        "colab": {
          "base_uri": "https://localhost:8080/"
        },
        "id": "xyR6qD3jTDDH",
        "outputId": "cafb3703-b847-441c-845e-932b20dd6e4c"
      },
      "execution_count": null,
      "outputs": [
        {
          "output_type": "stream",
          "name": "stdout",
          "text": [
            "[7, 4, 1]\n",
            "[8, 5, 2]\n",
            "[9, 6, 3]\n"
          ]
        }
      ]
    },
    {
      "cell_type": "code",
      "source": [
        "# 3x3 행렬 생성\n",
        "matrix = [\n",
        "    [1, 2, 3],\n",
        "    [4, 5, 6],\n",
        "    [7, 8, 9]\n",
        "]\n",
        "\n",
        "# 행렬의 모든 요소 합 구하기\n",
        "total_sum = 0\n",
        "for row in matrix:\n",
        "    for element in row:\n",
        "        total_sum += element\n",
        "\n",
        "print(total_sum)  # 출력: 45\n"
      ],
      "metadata": {
        "colab": {
          "base_uri": "https://localhost:8080/"
        },
        "id": "bAGOuk6gTDAQ",
        "outputId": "90963f78-e2a6-4631-ddca-50e9723ca4dc"
      },
      "execution_count": null,
      "outputs": [
        {
          "output_type": "stream",
          "name": "stdout",
          "text": [
            "45\n"
          ]
        }
      ]
    },
    {
      "cell_type": "code",
      "source": [
        "# 2x2 행렬 생성\n",
        "matrix = [\n",
        "    [1, 2],\n",
        "    [3, 4]\n",
        "]\n",
        "\n",
        "# 행렬 출력\n",
        "for row in matrix:\n",
        "    print(row)\n",
        "# 출력:\n",
        "# [1, 2]\n",
        "# [3, 4]\n"
      ],
      "metadata": {
        "colab": {
          "base_uri": "https://localhost:8080/"
        },
        "id": "aRTl0cvoTC8-",
        "outputId": "e33b1da8-80f7-4c1d-f35c-6331f4fe678a"
      },
      "execution_count": null,
      "outputs": [
        {
          "output_type": "stream",
          "name": "stdout",
          "text": [
            "[1, 2]\n",
            "[3, 4]\n"
          ]
        }
      ]
    },
    {
      "cell_type": "code",
      "source": [
        "# 예시 시계열 데이터\n",
        "time_series = np.array([1, 2, 3, 4, 5, 6, 7, 8, 9, 10])\n",
        "\n",
        "# 과거 3개의 데이터를 입력으로 사용하고, 다음 데이터를 타겟으로 설정\n",
        "n_steps = 3\n",
        "X, y = [], []\n",
        "\n",
        "for i in range(len(time_series) - n_steps):\n",
        "    X.append(time_series[i:i+n_steps])\n",
        "    y.append(time_series[i+n_steps])\n",
        "\n",
        "X = np.array(X)\n",
        "y = np.array(y)\n",
        "\n",
        "print(\"입력 데이터:\\n\", X)\n",
        "print(\"타겟:\\n\", y)\n"
      ],
      "metadata": {
        "colab": {
          "base_uri": "https://localhost:8080/"
        },
        "id": "OmgSURT9TC6I",
        "outputId": "c7f78290-d8b5-4558-e3d8-8c3ff25c57f8"
      },
      "execution_count": null,
      "outputs": [
        {
          "output_type": "stream",
          "name": "stdout",
          "text": [
            "입력 데이터:\n",
            " [[1 2 3]\n",
            " [2 3 4]\n",
            " [3 4 5]\n",
            " [4 5 6]\n",
            " [5 6 7]\n",
            " [6 7 8]\n",
            " [7 8 9]]\n",
            "타겟:\n",
            " [ 4  5  6  7  8  9 10]\n"
          ]
        }
      ]
    },
    {
      "cell_type": "code",
      "source": [
        "import numpy as np\n",
        "from sklearn.feature_extraction.text import CountVectorizer\n",
        "\n",
        "# 예시 텍스트 데이터\n",
        "documents = [\"the cat is on the table\", \"the dog is in the house\", \"the cat and the dog are friends\"]\n",
        "\n",
        "# 단어 빈도 계산\n",
        "vectorizer = CountVectorizer()\n",
        "word_counts = vectorizer.fit_transform(documents).toarray()\n",
        "word_list = vectorizer.get_feature_names_out()\n",
        "\n",
        "# 단어 빈도수 계산\n",
        "tf = word_counts / np.sum(word_counts, axis=1, keepdims=True)\n",
        "idf = np.log(len(documents) / (np.sum(word_counts > 0, axis=0) + 1))\n",
        "\n",
        "# TF-IDF 계산\n",
        "tfidf = [[tf_val * idf_val for tf_val, idf_val in zip(doc_tf, idf)] for doc_tf in tf]\n",
        "\n",
        "print(\"TF-IDF 값:\\n\", tfidf)\n"
      ],
      "metadata": {
        "colab": {
          "base_uri": "https://localhost:8080/"
        },
        "id": "597e2u4BTC3h",
        "outputId": "67f52143-4792-4c6d-c292-9de4498b0829"
      },
      "execution_count": null,
      "outputs": [
        {
          "output_type": "stream",
          "name": "stdout",
          "text": [
            "TF-IDF 값:\n",
            " [[0.0, 0.0, 0.0, 0.0, 0.0, 0.0, 0.0, 0.0, 0.06757751801802739, 0.06757751801802739, -0.09589402415059363], [0.0, 0.0, 0.0, 0.0, 0.0, 0.06757751801802739, 0.06757751801802739, 0.0, 0.0, 0.0, -0.09589402415059363], [0.05792358687259491, 0.05792358687259491, 0.0, 0.0, 0.05792358687259491, 0.0, 0.0, 0.0, 0.0, 0.0, -0.08219487784336597]]\n"
          ]
        }
      ]
    },
    {
      "cell_type": "code",
      "source": [
        "import pandas as pd\n",
        "\n",
        "# 예시 데이터프레임\n",
        "df = pd.DataFrame({\n",
        "    'feature1': [1, 2, 3, 4, 5],\n",
        "    'feature2': [6, 7, 8, 9, 10],\n",
        "    'label': [0, 1, 0, 1, 0]\n",
        "})\n",
        "\n",
        "# feature1과 feature2를 추출\n",
        "features = df[['feature1', 'feature2']]\n",
        "labels = df['label']\n",
        "\n",
        "print(\"특징:\\n\", features)\n",
        "print(\"레이블:\\n\", labels)"
      ],
      "metadata": {
        "colab": {
          "base_uri": "https://localhost:8080/"
        },
        "id": "vgQBj6mQTC0u",
        "outputId": "ee9eb470-ad98-4a4f-a04f-9d5e2c50c9ce"
      },
      "execution_count": null,
      "outputs": [
        {
          "output_type": "stream",
          "name": "stdout",
          "text": [
            "특징:\n",
            "    feature1  feature2\n",
            "0         1         6\n",
            "1         2         7\n",
            "2         3         8\n",
            "3         4         9\n",
            "4         5        10\n",
            "레이블:\n",
            " 0    0\n",
            "1    1\n",
            "2    0\n",
            "3    1\n",
            "4    0\n",
            "Name: label, dtype: int64\n"
          ]
        }
      ]
    },
    {
      "cell_type": "code",
      "source": [
        "data = [10, 20, 30, 40, 50]\n",
        "min_val, max_val = min(data), max(data)\n",
        "scaled_data = [(x - min_val) / (max_val - min_val) for x in data]\n",
        "print(scaled_data)\n"
      ],
      "metadata": {
        "colab": {
          "base_uri": "https://localhost:8080/"
        },
        "id": "01dziMQ-TCyG",
        "outputId": "ae64d891-dd7a-4bfb-90ab-26ea8bd600cb"
      },
      "execution_count": null,
      "outputs": [
        {
          "output_type": "stream",
          "name": "stdout",
          "text": [
            "[0.0, 0.25, 0.5, 0.75, 1.0]\n"
          ]
        }
      ]
    },
    {
      "cell_type": "code",
      "source": [
        "data = [1, 2, None, 4, None, 6]\n",
        "filled_data = [x if x is not None else 0 for x in data]\n",
        "print(filled_data)\n"
      ],
      "metadata": {
        "colab": {
          "base_uri": "https://localhost:8080/"
        },
        "id": "Zitb1P5Fz4nk",
        "outputId": "187aa4c3-eea6-422d-d74b-1900eed2e30c"
      },
      "execution_count": null,
      "outputs": [
        {
          "output_type": "stream",
          "name": "stdout",
          "text": [
            "[1, 2, 0, 4, 0, 6]\n"
          ]
        }
      ]
    },
    {
      "cell_type": "code",
      "source": [
        "from sklearn.model_selection import KFold\n",
        "import numpy as np\n",
        "\n",
        "# 데이터셋\n",
        "data = np.array([\n",
        "    [1, 2],\n",
        "    [3, 4],\n",
        "    [5, 6],\n",
        "    [7, 8]\n",
        "])\n",
        "labels = np.array([0, 1, 0, 1])\n",
        "\n",
        "# K-겹 교차 검증 설정\n",
        "kf = KFold(n_splits=2)\n",
        "\n",
        "for train_index, test_index in kf.split(data):\n",
        "    # 훈련 및 테스트 데이터 복사\n",
        "    X_train, X_test = data[train_index].copy(), data[test_index].copy()\n",
        "    y_train, y_test = labels[train_index].copy(), labels[test_index].copy()\n",
        "\n",
        "    print(\"훈련 데이터:\\n\", X_train)\n",
        "    print(\"테스트 데이터:\\n\", X_test)\n"
      ],
      "metadata": {
        "colab": {
          "base_uri": "https://localhost:8080/"
        },
        "id": "9hNSyTtd0Pms",
        "outputId": "7b690f42-407a-471b-9787-09a664baa2ca"
      },
      "execution_count": null,
      "outputs": [
        {
          "output_type": "stream",
          "name": "stdout",
          "text": [
            "훈련 데이터:\n",
            " [[5 6]\n",
            " [7 8]]\n",
            "테스트 데이터:\n",
            " [[1 2]\n",
            " [3 4]]\n",
            "훈련 데이터:\n",
            " [[1 2]\n",
            " [3 4]]\n",
            "테스트 데이터:\n",
            " [[5 6]\n",
            " [7 8]]\n"
          ]
        }
      ]
    },
    {
      "cell_type": "code",
      "source": [
        "import numpy as np\n",
        "\n",
        "# 원본 데이터셋\n",
        "data = np.array([\n",
        "    [1, 2],\n",
        "    [3, 4],\n",
        "    [5, 6]\n",
        "])\n",
        "\n",
        "# 데이터 복사 및 타입 변환\n",
        "augmented_data = data.astype(np.float64).copy()\n",
        "\n",
        "# 데이터 증강 (예: 각 행에 무작위 노이즈 추가)\n",
        "noise = np.random.normal(0, 1, data.shape)\n",
        "augmented_data += noise\n",
        "\n",
        "# 데이터 타입 및 형식 확인\n",
        "print(\"원본 데이터셋의 데이터 타입:\", data.dtype)\n",
        "print(\"증강된 데이터셋의 데이터 타입:\", augmented_data.dtype)\n",
        "print(\"원본 데이터셋의 형식:\", data.shape)\n",
        "print(\"증강된 데이터셋의 형식:\", augmented_data.shape)\n",
        "\n",
        "print(\"원본 데이터셋:\\n\", data)\n",
        "print(\"증강된 데이터셋:\\n\", augmented_data)\n"
      ],
      "metadata": {
        "colab": {
          "base_uri": "https://localhost:8080/"
        },
        "id": "awSEGHrl0Pjd",
        "outputId": "27343e4d-6d21-41d5-b3d2-803495a60e6d"
      },
      "execution_count": null,
      "outputs": [
        {
          "output_type": "stream",
          "name": "stdout",
          "text": [
            "원본 데이터셋의 데이터 타입: int64\n",
            "증강된 데이터셋의 데이터 타입: float64\n",
            "원본 데이터셋의 형식: (3, 2)\n",
            "증강된 데이터셋의 형식: (3, 2)\n",
            "원본 데이터셋:\n",
            " [[1 2]\n",
            " [3 4]\n",
            " [5 6]]\n",
            "증강된 데이터셋:\n",
            " [[1.79564735 3.20413694]\n",
            " [2.76654356 2.88582232]\n",
            " [5.84484049 6.0671068 ]]\n"
          ]
        }
      ]
    },
    {
      "cell_type": "code",
      "source": [
        "import numpy as np\n",
        "\n",
        "# 원본 데이터셋\n",
        "data = np.array([\n",
        "    [1, 2, 3],\n",
        "    [4, 5, 6],\n",
        "    [7, 8, 9]\n",
        "])\n",
        "\n",
        "# 데이터셋 복사\n",
        "processed_data = data.copy()\n",
        "\n",
        "# 전처리 작업 (예: 모든 값을 2배로 증가)\n",
        "processed_data = processed_data * 2\n",
        "\n",
        "print(\"원본 데이터셋:\\n\", data)\n",
        "print(\"전처리된 데이터셋:\\n\", processed_data)\n",
        "\n"
      ],
      "metadata": {
        "colab": {
          "base_uri": "https://localhost:8080/"
        },
        "id": "qTvY2ZNK0PhF",
        "outputId": "cae8781f-c9b4-4720-9237-c8b7f0c5b62c"
      },
      "execution_count": null,
      "outputs": [
        {
          "output_type": "stream",
          "name": "stdout",
          "text": [
            "원본 데이터셋:\n",
            " [[1 2 3]\n",
            " [4 5 6]\n",
            " [7 8 9]]\n",
            "전처리된 데이터셋:\n",
            " [[ 2  4  6]\n",
            " [ 8 10 12]\n",
            " [14 16 18]]\n"
          ]
        }
      ]
    },
    {
      "cell_type": "code",
      "source": [
        "categories = ['apple', 'banana', 'apple', 'cherry']\n",
        "unique_categories = list(set(categories))\n",
        "one_hot_encoded = [[1 if category == unique else 0 for unique in unique_categories] for category in categories]\n",
        "print(one_hot_encoded)\n",
        "\n"
      ],
      "metadata": {
        "colab": {
          "base_uri": "https://localhost:8080/"
        },
        "id": "hajHLaXX0PeN",
        "outputId": "b94d444a-66f7-4c28-aa2f-387153d29538"
      },
      "execution_count": null,
      "outputs": [
        {
          "output_type": "stream",
          "name": "stdout",
          "text": [
            "[[0, 1, 0], [1, 0, 0], [0, 1, 0], [0, 0, 1]]\n"
          ]
        }
      ]
    },
    {
      "cell_type": "code",
      "source": [
        "import numpy as np\n",
        "\n",
        "# 예시 데이터셋 (10개의 샘플, 각 샘플은 2개의 특징을 가짐)\n",
        "data = np.array([\n",
        "    [1, 2],\n",
        "    [3, 4],\n",
        "    [5, 6],\n",
        "    [7, 8],\n",
        "    [9, 10],\n",
        "    [11, 12],\n",
        "    [13, 14],\n",
        "    [15, 16],\n",
        "    [17, 18],\n",
        "    [19, 20]\n",
        "])\n",
        "\n",
        "# 80%는 훈련 세트, 20%는 테스트 세트로 분할\n",
        "train_data = data[:8]\n",
        "test_data = data[8:]\n",
        "\n",
        "print(\"훈련 세트:\\n\", train_data)\n",
        "print(\"테스트 세트:\\n\", test_data)\n",
        "\n",
        "# 데이터셋 복사\n",
        "processed_data = data.copy()\n",
        "\n",
        "# 전처리 작업 (예: 모든 값을 2배로 증가)\n",
        "processed_data = processed_data * 2\n",
        "\n",
        "print(\"원본 데이터셋:\\n\", data)\n",
        "print(\"전처리된 데이터셋:\\n\", processed_data)"
      ],
      "metadata": {
        "colab": {
          "base_uri": "https://localhost:8080/"
        },
        "id": "2ZN8T7mY0PbA",
        "outputId": "9d8ecb00-889a-4466-92c9-451f5de63168"
      },
      "execution_count": null,
      "outputs": [
        {
          "output_type": "stream",
          "name": "stdout",
          "text": [
            "훈련 세트:\n",
            " [[ 1  2]\n",
            " [ 3  4]\n",
            " [ 5  6]\n",
            " [ 7  8]\n",
            " [ 9 10]\n",
            " [11 12]\n",
            " [13 14]\n",
            " [15 16]]\n",
            "테스트 세트:\n",
            " [[17 18]\n",
            " [19 20]]\n",
            "원본 데이터셋:\n",
            " [[ 1  2]\n",
            " [ 3  4]\n",
            " [ 5  6]\n",
            " [ 7  8]\n",
            " [ 9 10]\n",
            " [11 12]\n",
            " [13 14]\n",
            " [15 16]\n",
            " [17 18]\n",
            " [19 20]]\n",
            "전처리된 데이터셋:\n",
            " [[ 2  4]\n",
            " [ 6  8]\n",
            " [10 12]\n",
            " [14 16]\n",
            " [18 20]\n",
            " [22 24]\n",
            " [26 28]\n",
            " [30 32]\n",
            " [34 36]\n",
            " [38 40]]\n"
          ]
        }
      ]
    },
    {
      "cell_type": "code",
      "source": [
        "from sklearn.ensemble import RandomForestClassifier\n",
        "from sklearn.datasets import load_iris\n",
        "\n",
        "# 아이리스 데이터셋 로드\n",
        "iris = load_iris()\n",
        "X, y = iris.data, iris.target\n",
        "\n",
        "# 랜덤 포레스트 모델 훈련\n",
        "model = RandomForestClassifier(n_estimators=100)\n",
        "model.fit(X, y)\n",
        "\n",
        "# 특성 중요도 추출\n",
        "feature_importances = model.feature_importances_\n",
        "feature_names = iris.feature_names\n",
        "\n",
        "# 특성 중요도를 기준으로 정렬\n",
        "sorted_features = sorted(zip(feature_importances, feature_names), reverse=True)\n",
        "\n",
        "print(\"특성 중요도 순위:\")\n",
        "for importance, name in sorted_features:\n",
        "    print(f\"{name}: {importance:.4f}\")\n"
      ],
      "metadata": {
        "colab": {
          "base_uri": "https://localhost:8080/"
        },
        "id": "l_GLITho0PYH",
        "outputId": "1bb5b400-4a81-4fac-d10a-140a6139762b"
      },
      "execution_count": null,
      "outputs": [
        {
          "output_type": "stream",
          "name": "stdout",
          "text": [
            "특성 중요도 순위:\n",
            "petal length (cm): 0.4492\n",
            "petal width (cm): 0.4367\n",
            "sepal length (cm): 0.0898\n",
            "sepal width (cm): 0.0243\n"
          ]
        }
      ]
    },
    {
      "cell_type": "code",
      "source": [
        "from sklearn.linear_model import LogisticRegression\n",
        "import numpy as np\n",
        "\n",
        "# 예시 데이터\n",
        "X = np.array([[1, 2], [3, 4], [5, 6]])\n",
        "y = np.array([0, 1, 0])\n",
        "\n",
        "# 로지스틱 회귀 모델 훈련\n",
        "model = LogisticRegression()\n",
        "model.fit(X, y)\n",
        "\n",
        "# 새로운 데이터에 대한 예측 확률 계산\n",
        "new_data = np.array([[2, 3]])\n",
        "proba = model.predict_proba(new_data)[0]\n",
        "\n",
        "# 예측 확률을 기준으로 클래스 정렬\n",
        "sorted_proba = sorted(zip(model.classes_, proba), key=lambda x: x[1], reverse=True)\n",
        "\n",
        "print(\"예측 확률 순위:\")\n",
        "for cls, prob in sorted_proba:\n",
        "    print(f\"클래스 {cls}: {prob:.4f}\")\n"
      ],
      "metadata": {
        "colab": {
          "base_uri": "https://localhost:8080/"
        },
        "id": "PguIfXAd0PVQ",
        "outputId": "ef6cadde-a879-4d86-ae21-cff22840e6a9"
      },
      "execution_count": null,
      "outputs": [
        {
          "output_type": "stream",
          "name": "stdout",
          "text": [
            "예측 확률 순위:\n",
            "클래스 0: 0.6667\n",
            "클래스 1: 0.3333\n"
          ]
        }
      ]
    },
    {
      "cell_type": "code",
      "source": [
        "from sklearn.model_selection import cross_val_score\n",
        "from sklearn.tree import DecisionTreeClassifier\n",
        "from sklearn.datasets import load_wine\n",
        "import numpy as np\n",
        "\n",
        "# 와인 데이터셋 로드\n",
        "wine = load_wine()\n",
        "X, y = wine.data, wine.target\n",
        "\n",
        "# 결정 트리 모델 생성\n",
        "model = DecisionTreeClassifier()\n",
        "\n",
        "# 5-겹 교차 검증 점수 계산\n",
        "cv_scores = cross_val_score(model, X, y, cv=5)\n",
        "\n",
        "# 교차 검증 점수를 정렬\n",
        "sorted_cv_scores = sorted(cv_scores, reverse=True)\n",
        "\n",
        "print(\"교차 검증 점수 (내림차순):\")\n",
        "for i, score in enumerate(sorted_cv_scores):\n",
        "    print(f\"Fold {i+1}: {score:.4f}\")\n"
      ],
      "metadata": {
        "colab": {
          "base_uri": "https://localhost:8080/"
        },
        "id": "NRmLCmVA3ykk",
        "outputId": "ed5a83f1-1c37-476b-cab5-0b79556e07a3"
      },
      "execution_count": null,
      "outputs": [
        {
          "output_type": "stream",
          "name": "stdout",
          "text": [
            "교차 검증 점수 (내림차순):\n",
            "Fold 1: 0.9444\n",
            "Fold 2: 0.9444\n",
            "Fold 3: 0.9143\n",
            "Fold 4: 0.8571\n",
            "Fold 5: 0.8056\n"
          ]
        }
      ]
    },
    {
      "cell_type": "code",
      "source": [
        "a=10\n",
        "print(a)"
      ],
      "metadata": {
        "colab": {
          "base_uri": "https://localhost:8080/"
        },
        "id": "M3hiftW73yh2",
        "outputId": "3d17e43f-03a9-493f-985f-7baf2002516b"
      },
      "execution_count": null,
      "outputs": [
        {
          "output_type": "stream",
          "name": "stdout",
          "text": [
            "10\n"
          ]
        }
      ]
    },
    {
      "cell_type": "code",
      "source": [
        "10=a"
      ],
      "metadata": {
        "colab": {
          "base_uri": "https://localhost:8080/",
          "height": 110
        },
        "id": "PAONRZjD3ye3",
        "outputId": "43ba52df-5b24-4f9d-e601-334de267b190"
      },
      "execution_count": null,
      "outputs": [
        {
          "output_type": "error",
          "ename": "SyntaxError",
          "evalue": "cannot assign to literal here. Maybe you meant '==' instead of '='? (<ipython-input-2-eec0abb80e33>, line 1)",
          "traceback": [
            "\u001b[0;36m  File \u001b[0;32m\"<ipython-input-2-eec0abb80e33>\"\u001b[0;36m, line \u001b[0;32m1\u001b[0m\n\u001b[0;31m    10=a\u001b[0m\n\u001b[0m    ^\u001b[0m\n\u001b[0;31mSyntaxError\u001b[0m\u001b[0;31m:\u001b[0m cannot assign to literal here. Maybe you meant '==' instead of '='?\n"
          ]
        }
      ]
    },
    {
      "cell_type": "code",
      "source": [
        "int a = 10"
      ],
      "metadata": {
        "colab": {
          "base_uri": "https://localhost:8080/",
          "height": 110
        },
        "id": "tbYCjMsg3yb4",
        "outputId": "66f85a8f-12de-4787-e1ab-e88f35c24f83"
      },
      "execution_count": null,
      "outputs": [
        {
          "output_type": "error",
          "ename": "SyntaxError",
          "evalue": "invalid syntax (<ipython-input-3-392d75864529>, line 1)",
          "traceback": [
            "\u001b[0;36m  File \u001b[0;32m\"<ipython-input-3-392d75864529>\"\u001b[0;36m, line \u001b[0;32m1\u001b[0m\n\u001b[0;31m    int a = 10\u001b[0m\n\u001b[0m        ^\u001b[0m\n\u001b[0;31mSyntaxError\u001b[0m\u001b[0;31m:\u001b[0m invalid syntax\n"
          ]
        }
      ]
    },
    {
      "cell_type": "code",
      "source": [
        "x=100\n",
        "print(x)"
      ],
      "metadata": {
        "colab": {
          "base_uri": "https://localhost:8080/"
        },
        "id": "hgbHHb3b3yY_",
        "outputId": "af6263d7-cdfb-4775-ada5-50bfb0a76ea9"
      },
      "execution_count": null,
      "outputs": [
        {
          "output_type": "stream",
          "name": "stdout",
          "text": [
            "100\n"
          ]
        }
      ]
    },
    {
      "cell_type": "code",
      "source": [
        "print(id(x))"
      ],
      "metadata": {
        "colab": {
          "base_uri": "https://localhost:8080/"
        },
        "id": "OT7zC5ZxAVGC",
        "outputId": "2988c3f0-742e-48a8-9f07-d9f368ec19e3"
      },
      "execution_count": null,
      "outputs": [
        {
          "output_type": "stream",
          "name": "stdout",
          "text": [
            "132861328280912\n"
          ]
        }
      ]
    },
    {
      "cell_type": "code",
      "source": [
        "a, b = 10, 20\n",
        "print(a+b)"
      ],
      "metadata": {
        "colab": {
          "base_uri": "https://localhost:8080/"
        },
        "id": "YPJyjU3tAXDB",
        "outputId": "f0e4db5d-fe14-47c8-c901-6911414fa541"
      },
      "execution_count": null,
      "outputs": [
        {
          "output_type": "stream",
          "name": "stdout",
          "text": [
            "30\n"
          ]
        }
      ]
    },
    {
      "cell_type": "code",
      "source": [
        "a, b = 10,20\n",
        "a, b = b, a+b"
      ],
      "metadata": {
        "id": "yhN33C7NAeOC"
      },
      "execution_count": null,
      "outputs": []
    },
    {
      "cell_type": "code",
      "source": [
        "a, b"
      ],
      "metadata": {
        "colab": {
          "base_uri": "https://localhost:8080/"
        },
        "id": "_e7trnOKAp-L",
        "outputId": "4161229d-4b02-40eb-eb61-d4103bdce490"
      },
      "execution_count": null,
      "outputs": [
        {
          "output_type": "execute_result",
          "data": {
            "text/plain": [
              "(20, 30)"
            ]
          },
          "metadata": {},
          "execution_count": 8
        }
      ]
    },
    {
      "cell_type": "code",
      "source": [
        "a, b =10,20\n",
        "a=b\n",
        "b= a+b"
      ],
      "metadata": {
        "id": "V9v2O1NsArHZ"
      },
      "execution_count": null,
      "outputs": []
    },
    {
      "cell_type": "code",
      "source": [
        "a, b"
      ],
      "metadata": {
        "colab": {
          "base_uri": "https://localhost:8080/"
        },
        "id": "-0ZmBGSBBJUg",
        "outputId": "c6a544a4-766f-440f-d40b-192e7788dec6"
      },
      "execution_count": null,
      "outputs": [
        {
          "output_type": "execute_result",
          "data": {
            "text/plain": [
              "(20, 40)"
            ]
          },
          "metadata": {},
          "execution_count": 10
        }
      ]
    },
    {
      "cell_type": "code",
      "source": [
        "help(print)"
      ],
      "metadata": {
        "colab": {
          "base_uri": "https://localhost:8080/"
        },
        "id": "eIFEIQgSBKqp",
        "outputId": "df29e453-5a6d-4fb1-e102-863bd94e2812"
      },
      "execution_count": null,
      "outputs": [
        {
          "output_type": "stream",
          "name": "stdout",
          "text": [
            "Help on built-in function print in module builtins:\n",
            "\n",
            "print(...)\n",
            "    print(value, ..., sep=' ', end='\\n', file=sys.stdout, flush=False)\n",
            "    \n",
            "    Prints the values to a stream, or to sys.stdout by default.\n",
            "    Optional keyword arguments:\n",
            "    file:  a file-like object (stream); defaults to the current sys.stdout.\n",
            "    sep:   string inserted between values, default a space.\n",
            "    end:   string appended after the last value, default a newline.\n",
            "    flush: whether to forcibly flush the stream.\n",
            "\n"
          ]
        }
      ]
    },
    {
      "cell_type": "code",
      "source": [
        "print(\"Hello\", \"world\", sep=\"-\")"
      ],
      "metadata": {
        "colab": {
          "base_uri": "https://localhost:8080/"
        },
        "id": "-RdxnKrnB3qI",
        "outputId": "57ed613a-107d-4f12-c106-1e399d5b7d90"
      },
      "execution_count": null,
      "outputs": [
        {
          "output_type": "stream",
          "name": "stdout",
          "text": [
            "Hello-world\n"
          ]
        }
      ]
    },
    {
      "cell_type": "code",
      "source": [
        "with open(\"output.txt\", \"w\") as f:\n",
        "  print(\"Hello, file!\", file=f)"
      ],
      "metadata": {
        "id": "XIhmJov7CILg"
      },
      "execution_count": null,
      "outputs": []
    },
    {
      "cell_type": "code",
      "source": [
        "/content/output.txt"
      ],
      "metadata": {
        "id": "KkEnQ9f6CSRn"
      },
      "execution_count": null,
      "outputs": []
    },
    {
      "cell_type": "code",
      "source": [
        "name = '홍길동'\n",
        "age=20\n",
        "\n",
        "print(name, '님의 나이는 ', age, ' 입니다', sep='')"
      ],
      "metadata": {
        "colab": {
          "base_uri": "https://localhost:8080/"
        },
        "id": "gdUvYoJuE0kL",
        "outputId": "ed0e7df9-d157-4b97-b877-0ea59ab5464d"
      },
      "execution_count": null,
      "outputs": [
        {
          "output_type": "stream",
          "name": "stdout",
          "text": [
            "홍길동님의 나이는 20 입니다\n"
          ]
        }
      ]
    },
    {
      "cell_type": "code",
      "source": [
        "int('FACE', 16)"
      ],
      "metadata": {
        "colab": {
          "base_uri": "https://localhost:8080/"
        },
        "id": "Z_B58cLeE0hC",
        "outputId": "e67dcd3f-c0c0-4907-b7d2-c716d2f58e7c"
      },
      "execution_count": null,
      "outputs": [
        {
          "output_type": "execute_result",
          "data": {
            "text/plain": [
              "64206"
            ]
          },
          "metadata": {},
          "execution_count": 17
        }
      ]
    },
    {
      "cell_type": "code",
      "source": [
        "int('FACE', 10)"
      ],
      "metadata": {
        "colab": {
          "base_uri": "https://localhost:8080/",
          "height": 147
        },
        "id": "-Lx_9ww4E0dr",
        "outputId": "d17e0880-e73a-4977-b1b5-680a2aad21be"
      },
      "execution_count": null,
      "outputs": [
        {
          "output_type": "error",
          "ename": "ValueError",
          "evalue": "invalid literal for int() with base 10: 'FACE'",
          "traceback": [
            "\u001b[0;31m---------------------------------------------------------------------------\u001b[0m",
            "\u001b[0;31mValueError\u001b[0m                                Traceback (most recent call last)",
            "\u001b[0;32m<ipython-input-18-c9eee3e2ee03>\u001b[0m in \u001b[0;36m<cell line: 1>\u001b[0;34m()\u001b[0m\n\u001b[0;32m----> 1\u001b[0;31m \u001b[0mint\u001b[0m\u001b[0;34m(\u001b[0m\u001b[0;34m'FACE'\u001b[0m\u001b[0;34m,\u001b[0m \u001b[0;36m10\u001b[0m\u001b[0;34m)\u001b[0m\u001b[0;34m\u001b[0m\u001b[0;34m\u001b[0m\u001b[0m\n\u001b[0m",
            "\u001b[0;31mValueError\u001b[0m: invalid literal for int() with base 10: 'FACE'"
          ]
        }
      ]
    },
    {
      "cell_type": "code",
      "source": [
        "first_number = int(input(\"첫번쨰 숫자 : \"))\n",
        "\n",
        "second_number = int(input(\"두번쨰 숫자 : \"))\n",
        "\n",
        "print(first_number + second_number)"
      ],
      "metadata": {
        "colab": {
          "base_uri": "https://localhost:8080/"
        },
        "id": "Q17Qt0fvF6UV",
        "outputId": "0011f4b4-e104-45a8-e2f1-851fe7672b64"
      },
      "execution_count": null,
      "outputs": [
        {
          "output_type": "stream",
          "name": "stdout",
          "text": [
            "첫번쨰 숫자 : 10\n",
            "두번쨰 숫자 : 20\n",
            "30\n"
          ]
        }
      ]
    },
    {
      "cell_type": "code",
      "source": [
        "print(\"Hello\\nWorld\")"
      ],
      "metadata": {
        "colab": {
          "base_uri": "https://localhost:8080/"
        },
        "id": "Ffko8ZvDG8B1",
        "outputId": "1d58b3a1-4056-4042-d009-f8622a219c33"
      },
      "execution_count": null,
      "outputs": [
        {
          "output_type": "stream",
          "name": "stdout",
          "text": [
            "Hello\n",
            "World\n"
          ]
        }
      ]
    },
    {
      "cell_type": "code",
      "source": [
        "S=\"Today fine\"\n",
        "\n",
        "S[a:n]"
      ],
      "metadata": {
        "id": "WHAGYbxGHivd"
      },
      "execution_count": null,
      "outputs": []
    },
    {
      "cell_type": "code",
      "source": [
        "import numpy as np\n",
        "from sklearn.model_selection import train_test_split\n",
        "from sklearn.linear_model import LogisticRegression\n",
        "from sklearn.metrics import accuracy_score\n",
        "\n",
        "# 데이터 생성\n",
        "X = np.array([[1, 2], [2, 3], [3, 4], [4, 5]])\n",
        "y = np.array([0, 0, 1, 1])\n",
        "\n",
        "# 데이터 분할\n",
        "X_train, X_test, y_train, y_test = train_test_split(X, y, test_size=0.25)\n",
        "\n",
        "# 모델 생성 및 학습\n",
        "model = LogisticRegression()\n",
        "model.fit(X_train, y_train)\n",
        "\n",
        "# 예측 및 평가\n",
        "y_pred = model.predict(X_test)\n",
        "accuracy = accuracy_score(y_test, y_pred)\n",
        "print(f'Accuracy: {accuracy}')"
      ],
      "metadata": {
        "colab": {
          "base_uri": "https://localhost:8080/"
        },
        "id": "WXyUwrplLdwv",
        "outputId": "ca744646-994a-49e0-c3c5-a473376abcaa"
      },
      "execution_count": null,
      "outputs": [
        {
          "output_type": "stream",
          "name": "stdout",
          "text": [
            "Accuracy: 0.0\n"
          ]
        }
      ]
    },
    {
      "cell_type": "code",
      "source": [
        "import tensorflow as tf\n",
        "from tensorflow.keras.models import Sequential\n",
        "from tensorflow.keras.layers import Dense\n",
        "from sklearn.model_selection import train_test_split\n",
        "import numpy as np\n",
        "\n",
        "# 데이터 생성\n",
        "X = np.random.rand(100, 10)\n",
        "y = np.random.randint(2, size=100)\n",
        "\n",
        "# 데이터 분할\n",
        "X_train, X_test, y_train, y_test = train_test_split(X, y, test_size=0.2)\n",
        "\n",
        "# 모델 생성\n",
        "model = Sequential([\n",
        "    Dense(64, activation='relu', input_shape=(10,)),\n",
        "    Dense(1, activation='sigmoid')\n",
        "])\n",
        "\n",
        "# 모델 컴파일\n",
        "model.compile(optimizer='adam', loss='binary_crossentropy', metrics=['accuracy'])\n",
        "\n",
        "# 모델 학습\n",
        "model.fit(X_train, y_train, epochs=10, batch_size=32)\n",
        "\n",
        "# 모델 평가\n",
        "loss, accuracy = model.evaluate(X_test, y_test)\n",
        "print(f'Accuracy: {accuracy}')\n"
      ],
      "metadata": {
        "colab": {
          "base_uri": "https://localhost:8080/"
        },
        "id": "7PwJ1gnBL1wz",
        "outputId": "e2910682-320e-43a7-de2c-83f844bd06b7"
      },
      "execution_count": null,
      "outputs": [
        {
          "output_type": "stream",
          "name": "stdout",
          "text": [
            "Epoch 1/10\n",
            "3/3 [==============================] - 1s 6ms/step - loss: 0.7560 - accuracy: 0.4875\n",
            "Epoch 2/10\n",
            "3/3 [==============================] - 0s 4ms/step - loss: 0.7379 - accuracy: 0.4875\n",
            "Epoch 3/10\n",
            "3/3 [==============================] - 0s 3ms/step - loss: 0.7211 - accuracy: 0.4875\n",
            "Epoch 4/10\n",
            "3/3 [==============================] - 0s 4ms/step - loss: 0.7104 - accuracy: 0.5000\n",
            "Epoch 5/10\n",
            "3/3 [==============================] - 0s 4ms/step - loss: 0.7031 - accuracy: 0.5125\n",
            "Epoch 6/10\n",
            "3/3 [==============================] - 0s 5ms/step - loss: 0.6961 - accuracy: 0.5250\n",
            "Epoch 7/10\n",
            "3/3 [==============================] - 0s 4ms/step - loss: 0.6932 - accuracy: 0.5500\n",
            "Epoch 8/10\n",
            "3/3 [==============================] - 0s 3ms/step - loss: 0.6893 - accuracy: 0.5125\n",
            "Epoch 9/10\n",
            "3/3 [==============================] - 0s 3ms/step - loss: 0.6866 - accuracy: 0.5000\n",
            "Epoch 10/10\n",
            "3/3 [==============================] - 0s 3ms/step - loss: 0.6857 - accuracy: 0.4875\n",
            "1/1 [==============================] - 0s 136ms/step - loss: 0.7101 - accuracy: 0.4500\n",
            "Accuracy: 0.44999998807907104\n"
          ]
        }
      ]
    },
    {
      "cell_type": "code",
      "source": [
        "import pandas as pd\n",
        "\n",
        "# 가상의 데이터프레임 생성\n",
        "data = {\n",
        "    'feature1': [1, 2, 3, 4, 5],\n",
        "    'feature2': [10, 20, 30, 40, 50],\n",
        "    'feature3': [100, 200, 300, 400, 500]\n",
        "}\n",
        "df = pd.DataFrame(data)\n",
        "\n",
        "# 각 컬럼의 요약 통계 계산\n",
        "summary_stats = df.describe()\n",
        "\n",
        "# 요약 통계 출력\n",
        "for column in df.columns:\n",
        "    mean = summary_stats.at['mean', column]\n",
        "    std = summary_stats.at['std', column]\n",
        "    min_val = summary_stats.at['min', column]\n",
        "    max_val = summary_stats.at['max', column]\n",
        "    formatted_string = \"Feature: {}, Mean: {:.2f}, Std: {:.2f}, Min: {:.2f}, Max: {:.2f}\".format(\n",
        "        column, mean, std, min_val, max_val)\n",
        "    print(formatted_string)\n"
      ],
      "metadata": {
        "colab": {
          "base_uri": "https://localhost:8080/"
        },
        "id": "MMs6sDZdbHGC",
        "outputId": "638bd078-6b01-427e-f37f-5bdf4eec010f"
      },
      "execution_count": null,
      "outputs": [
        {
          "output_type": "stream",
          "name": "stdout",
          "text": [
            "Feature: feature1, Mean: 3.00, Std: 1.58, Min: 1.00, Max: 5.00\n",
            "Feature: feature2, Mean: 30.00, Std: 15.81, Min: 10.00, Max: 50.00\n",
            "Feature: feature3, Mean: 300.00, Std: 158.11, Min: 100.00, Max: 500.00\n"
          ]
        }
      ]
    },
    {
      "cell_type": "code",
      "source": [
        "from sklearn.metrics import accuracy_score, precision_score, recall_score, f1_score\n",
        "\n",
        "# 가상의 실제 값과 예측 값\n",
        "y_true = [0, 1, 1, 0, 1, 0, 1, 1]\n",
        "y_pred = [0, 0, 1, 0, 1, 1, 1, 1]\n",
        "\n",
        "# 평가 지표 계산\n",
        "accuracy = accuracy_score(y_true, y_pred)\n",
        "precision = precision_score(y_true, y_pred)\n",
        "recall = recall_score(y_true, y_pred)\n",
        "f1 = f1_score(y_true, y_pred)\n",
        "\n",
        "# 평가 결과 포맷팅 및 출력\n",
        "formatted_string = (\"Accuracy: {:.2f}, Precision: {:.2f}, Recall: {:.2f}, F1 Score: {:.2f}\"\n",
        "                    .format(accuracy, precision, recall, f1))\n",
        "print(formatted_string)\n"
      ],
      "metadata": {
        "colab": {
          "base_uri": "https://localhost:8080/"
        },
        "id": "5T5W-3EjbHDH",
        "outputId": "fea2bd6a-10c5-4bca-b61e-1423bb1d41c3"
      },
      "execution_count": null,
      "outputs": [
        {
          "output_type": "stream",
          "name": "stdout",
          "text": [
            "Accuracy: 0.75, Precision: 0.80, Recall: 0.80, F1 Score: 0.80\n"
          ]
        }
      ]
    },
    {
      "cell_type": "code",
      "source": [
        "import pandas as pd\n",
        "from collections import Counter\n",
        "\n",
        "# 가상의 데이터프레임 생성\n",
        "data = {\n",
        "    'feature1': [1, 2, 3, 4, 5, 6, 7, 8, 9, 10],\n",
        "    'feature2': [10, 20, 30, 40, 50, 60, 70, 80, 90, 100],\n",
        "    'label': [0, 0, 1, 1, 1, 0, 0, 0, 1, 1]\n",
        "}\n",
        "df = pd.DataFrame(data)\n",
        "\n",
        "# 클래스 비율 계산\n",
        "class_counts = Counter(df['label'])\n",
        "total_count = len(df)\n",
        "\n",
        "# 클래스 비율 출력\n",
        "for class_label, count in class_counts.items():\n",
        "    percentage = (count / total_count) * 100\n",
        "    print(f\"Class {class_label}: {count} samples ({percentage:.2f}%)\")\n"
      ],
      "metadata": {
        "colab": {
          "base_uri": "https://localhost:8080/"
        },
        "id": "21UgItCjbHAP",
        "outputId": "7de9eee5-023d-4a2d-d0df-b9ddf2a9e731"
      },
      "execution_count": null,
      "outputs": [
        {
          "output_type": "stream",
          "name": "stdout",
          "text": [
            "Class 0: 5 samples (50.00%)\n",
            "Class 1: 5 samples (50.00%)\n"
          ]
        }
      ]
    },
    {
      "cell_type": "code",
      "source": [
        "from sklearn.model_selection import cross_val_score\n",
        "from sklearn.ensemble import RandomForestClassifier\n",
        "from sklearn.datasets import load_iris\n",
        "\n",
        "# 데이터셋 로드\n",
        "iris = load_iris()\n",
        "X, y = iris.data, iris.target\n",
        "\n",
        "# 모델 정의\n",
        "model = RandomForestClassifier(n_estimators=100, random_state=42)\n",
        "\n",
        "# 교차 검증 수행\n",
        "scores = cross_val_score(model, X, y, cv=5)\n",
        "\n",
        "# 각 폴드의 결과 출력\n",
        "for fold_idx, score in enumerate(scores, 1):\n",
        "    print(f\"Fold {fold_idx}: Accuracy = {score:.4f}\")\n",
        "\n",
        "# 평균 성능 출력\n",
        "mean_score = scores.mean()\n",
        "print(f\"Mean Accuracy: {mean_score:.4f}\")\n"
      ],
      "metadata": {
        "colab": {
          "base_uri": "https://localhost:8080/"
        },
        "id": "OX1hZTaUbG9V",
        "outputId": "207a3170-5a83-44fa-d593-e2bea0900f36"
      },
      "execution_count": null,
      "outputs": [
        {
          "output_type": "stream",
          "name": "stdout",
          "text": [
            "Fold 1: Accuracy = 0.9667\n",
            "Fold 2: Accuracy = 0.9667\n",
            "Fold 3: Accuracy = 0.9333\n",
            "Fold 4: Accuracy = 0.9667\n",
            "Fold 5: Accuracy = 1.0000\n",
            "Mean Accuracy: 0.9667\n"
          ]
        }
      ]
    },
    {
      "cell_type": "code",
      "source": [
        "import numpy as np\n",
        "\n",
        "arr1 = np.array([1,2,3,4,5])\n",
        "\n",
        "print(arr1)"
      ],
      "metadata": {
        "id": "iGjmwZFmbG6V",
        "colab": {
          "base_uri": "https://localhost:8080/"
        },
        "outputId": "90852368-005d-447b-98e1-066d173f4603"
      },
      "execution_count": null,
      "outputs": [
        {
          "output_type": "stream",
          "name": "stdout",
          "text": [
            "[1 2 3 4 5]\n"
          ]
        }
      ]
    },
    {
      "cell_type": "code",
      "source": [
        "# 1. 튜플 생성 및 타입 확인\n",
        "single_tuple = (3,)\n",
        "print(type(single_tuple))  # 출력: <class 'tuple'>\n",
        "\n",
        "# 일반 괄호와의 차이\n",
        "not_tuple = (3)\n",
        "print(type(not_tuple))  # 출력: <class 'int'>\n",
        "\n",
        "# 2. 튜플 언패킹\n",
        "a, = (3,)\n",
        "print(a)  # 출력: 3\n",
        "\n",
        "# 3. 함수에서 단일 요소 튜플 반환\n",
        "def get_single_item():\n",
        "    return (3,)\n",
        "\n",
        "result = get_single_item()\n",
        "print(result)  # 출력: (3,)\n",
        "\n",
        "# 4. 튜플 연산\n",
        "single_tuple = (3,)\n",
        "expanded_tuple = single_tuple * 3\n",
        "print(expanded_tuple)  # 출력: (3, 3, 3)\n",
        "\n",
        "# 5. 집합(set)에서의 사용\n",
        "unique_items = {(1,), (2,), (3,)}\n",
        "print(unique_items)  # 출력: {(1,), (2,), (3,)}"
      ],
      "metadata": {
        "id": "fHfZH83GbG1F",
        "colab": {
          "base_uri": "https://localhost:8080/"
        },
        "outputId": "3a089220-95fc-4db0-b872-f5302628fafb"
      },
      "execution_count": null,
      "outputs": [
        {
          "output_type": "stream",
          "name": "stdout",
          "text": [
            "<class 'tuple'>\n",
            "<class 'int'>\n",
            "3\n",
            "(3,)\n",
            "(3, 3, 3)\n",
            "{(1,), (2,), (3,)}\n"
          ]
        }
      ]
    },
    {
      "cell_type": "code",
      "source": [
        "import numpy as np\n",
        "zeros = np.zeros((3,3))\n",
        "print(zeros)"
      ],
      "metadata": {
        "id": "nH1G_lZ1bGyH",
        "colab": {
          "base_uri": "https://localhost:8080/"
        },
        "outputId": "26194a75-8e56-4c98-8355-b3369f973db2"
      },
      "execution_count": null,
      "outputs": [
        {
          "output_type": "stream",
          "name": "stdout",
          "text": [
            "[[0. 0. 0.]\n",
            " [0. 0. 0.]\n",
            " [0. 0. 0.]]\n"
          ]
        }
      ]
    },
    {
      "cell_type": "code",
      "source": [
        "zeros"
      ],
      "metadata": {
        "id": "f_J4ohBZbGvJ",
        "colab": {
          "base_uri": "https://localhost:8080/"
        },
        "outputId": "209a93da-46c5-4055-8f55-704ce18e4ec3"
      },
      "execution_count": null,
      "outputs": [
        {
          "output_type": "execute_result",
          "data": {
            "text/plain": [
              "array([[0., 0., 0.],\n",
              "       [0., 0., 0.],\n",
              "       [0., 0., 0.]])"
            ]
          },
          "metadata": {},
          "execution_count": 3
        }
      ]
    },
    {
      "cell_type": "code",
      "source": [
        "import numpy as np\n",
        "\n",
        "data = np.array([10,20,30,40,50])\n",
        "data -= np.min(data)\n",
        "data /= np.max(data)\n",
        "\n",
        "print(\"정규화된 데이터 : \", data)"
      ],
      "metadata": {
        "id": "9JcBqrehbGsO",
        "colab": {
          "base_uri": "https://localhost:8080/",
          "height": 243
        },
        "outputId": "2ea4681a-2a9e-4354-87af-6b611936a22d"
      },
      "execution_count": null,
      "outputs": [
        {
          "output_type": "error",
          "ename": "UFuncTypeError",
          "evalue": "Cannot cast ufunc 'divide' output from dtype('float64') to dtype('int64') with casting rule 'same_kind'",
          "traceback": [
            "\u001b[0;31m---------------------------------------------------------------------------\u001b[0m",
            "\u001b[0;31mUFuncTypeError\u001b[0m                            Traceback (most recent call last)",
            "\u001b[0;32m<ipython-input-1-8027161d661f>\u001b[0m in \u001b[0;36m<cell line: 5>\u001b[0;34m()\u001b[0m\n\u001b[1;32m      3\u001b[0m \u001b[0mdata\u001b[0m \u001b[0;34m=\u001b[0m \u001b[0mnp\u001b[0m\u001b[0;34m.\u001b[0m\u001b[0marray\u001b[0m\u001b[0;34m(\u001b[0m\u001b[0;34m[\u001b[0m\u001b[0;36m10\u001b[0m\u001b[0;34m,\u001b[0m\u001b[0;36m20\u001b[0m\u001b[0;34m,\u001b[0m\u001b[0;36m30\u001b[0m\u001b[0;34m,\u001b[0m\u001b[0;36m40\u001b[0m\u001b[0;34m,\u001b[0m\u001b[0;36m50\u001b[0m\u001b[0;34m]\u001b[0m\u001b[0;34m)\u001b[0m\u001b[0;34m\u001b[0m\u001b[0;34m\u001b[0m\u001b[0m\n\u001b[1;32m      4\u001b[0m \u001b[0mdata\u001b[0m \u001b[0;34m-=\u001b[0m \u001b[0mnp\u001b[0m\u001b[0;34m.\u001b[0m\u001b[0mmin\u001b[0m\u001b[0;34m(\u001b[0m\u001b[0mdata\u001b[0m\u001b[0;34m)\u001b[0m\u001b[0;34m\u001b[0m\u001b[0;34m\u001b[0m\u001b[0m\n\u001b[0;32m----> 5\u001b[0;31m \u001b[0mdata\u001b[0m \u001b[0;34m/=\u001b[0m \u001b[0mnp\u001b[0m\u001b[0;34m.\u001b[0m\u001b[0mmax\u001b[0m\u001b[0;34m(\u001b[0m\u001b[0mdata\u001b[0m\u001b[0;34m)\u001b[0m\u001b[0;34m\u001b[0m\u001b[0;34m\u001b[0m\u001b[0m\n\u001b[0m\u001b[1;32m      6\u001b[0m \u001b[0;34m\u001b[0m\u001b[0m\n\u001b[1;32m      7\u001b[0m \u001b[0mprint\u001b[0m\u001b[0;34m(\u001b[0m\u001b[0;34m\"정규화된 데이터 : \"\u001b[0m\u001b[0;34m,\u001b[0m \u001b[0mdata\u001b[0m\u001b[0;34m)\u001b[0m\u001b[0;34m\u001b[0m\u001b[0;34m\u001b[0m\u001b[0m\n",
            "\u001b[0;31mUFuncTypeError\u001b[0m: Cannot cast ufunc 'divide' output from dtype('float64') to dtype('int64') with casting rule 'same_kind'"
          ]
        }
      ]
    },
    {
      "cell_type": "code",
      "source": [
        "#6 두 불리언 값에 대해 AND 연산 수행 후 결과 출력\n",
        "bool1 = bool(input(\"첫 번째 불리언 값 입력:\"))\n",
        "bool2 = bool(input(\"두 번째 불리언 값 입력:\"))\n",
        "\n",
        "result = bool1 & bool2\n",
        "print(\"and연산 결과:\", result)"
      ],
      "metadata": {
        "colab": {
          "base_uri": "https://localhost:8080/"
        },
        "id": "Rt5F9vl_K8wi",
        "outputId": "858e8793-81e0-464f-c94c-54b168bcdf02"
      },
      "execution_count": null,
      "outputs": [
        {
          "output_type": "stream",
          "name": "stdout",
          "text": [
            "첫 번째 불리언 값 입력:False\n",
            "두 번째 불리언 값 입력:False\n",
            "and연산 결과: True\n"
          ]
        }
      ]
    },
    {
      "cell_type": "code",
      "source": [
        "bool1"
      ],
      "metadata": {
        "colab": {
          "base_uri": "https://localhost:8080/"
        },
        "id": "CgUXajlHNVx8",
        "outputId": "b3124b6c-b0d0-4d05-d840-327071704b73"
      },
      "execution_count": null,
      "outputs": [
        {
          "output_type": "execute_result",
          "data": {
            "text/plain": [
              "True"
            ]
          },
          "metadata": {},
          "execution_count": 18
        }
      ]
    },
    {
      "cell_type": "code",
      "source": [
        "bool2"
      ],
      "metadata": {
        "colab": {
          "base_uri": "https://localhost:8080/"
        },
        "id": "Rc91EhhZNVvA",
        "outputId": "f784a610-093c-42ef-8b28-f33deba7e08a"
      },
      "execution_count": null,
      "outputs": [
        {
          "output_type": "execute_result",
          "data": {
            "text/plain": [
              "True"
            ]
          },
          "metadata": {},
          "execution_count": 19
        }
      ]
    },
    {
      "cell_type": "code",
      "source": [
        "bool()"
      ],
      "metadata": {
        "colab": {
          "base_uri": "https://localhost:8080/"
        },
        "id": "LOER0YahLvdF",
        "outputId": "a225bc47-8379-4706-f88c-d561c347bd94"
      },
      "execution_count": null,
      "outputs": [
        {
          "output_type": "execute_result",
          "data": {
            "text/plain": [
              "False"
            ]
          },
          "metadata": {},
          "execution_count": 17
        }
      ]
    },
    {
      "cell_type": "code",
      "source": [
        "bool(0)"
      ],
      "metadata": {
        "colab": {
          "base_uri": "https://localhost:8080/"
        },
        "id": "mpP37HXTMXJd",
        "outputId": "a587d2a3-c3e4-4fc6-bc70-737b65a70c19"
      },
      "execution_count": null,
      "outputs": [
        {
          "output_type": "execute_result",
          "data": {
            "text/plain": [
              "False"
            ]
          },
          "metadata": {},
          "execution_count": 7
        }
      ]
    },
    {
      "cell_type": "code",
      "source": [
        "bool(False)"
      ],
      "metadata": {
        "colab": {
          "base_uri": "https://localhost:8080/"
        },
        "id": "ptCfG4hmMYlV",
        "outputId": "10c8d948-ce92-4e0e-bf46-ad1f999532e3"
      },
      "execution_count": null,
      "outputs": [
        {
          "output_type": "execute_result",
          "data": {
            "text/plain": [
              "False"
            ]
          },
          "metadata": {},
          "execution_count": 9
        }
      ]
    },
    {
      "cell_type": "code",
      "source": [
        "bool(1)"
      ],
      "metadata": {
        "colab": {
          "base_uri": "https://localhost:8080/"
        },
        "id": "3B0FzCnKMbC1",
        "outputId": "35e2b13a-ab08-431d-d8f6-0fd14d32c26e"
      },
      "execution_count": null,
      "outputs": [
        {
          "output_type": "execute_result",
          "data": {
            "text/plain": [
              "True"
            ]
          },
          "metadata": {},
          "execution_count": 10
        }
      ]
    },
    {
      "cell_type": "code",
      "source": [
        "bool('1')"
      ],
      "metadata": {
        "colab": {
          "base_uri": "https://localhost:8080/"
        },
        "id": "npmixuBCMglU",
        "outputId": "aace5432-7e70-42b1-b32a-54c9b2358164"
      },
      "execution_count": null,
      "outputs": [
        {
          "output_type": "execute_result",
          "data": {
            "text/plain": [
              "True"
            ]
          },
          "metadata": {},
          "execution_count": 11
        }
      ]
    },
    {
      "cell_type": "code",
      "source": [
        "bool(False)&bool(False)"
      ],
      "metadata": {
        "colab": {
          "base_uri": "https://localhost:8080/"
        },
        "id": "FfpsI8n9MiOf",
        "outputId": "09bb8ec0-fbd2-42bf-c88b-17feb48a0a22"
      },
      "execution_count": null,
      "outputs": [
        {
          "output_type": "execute_result",
          "data": {
            "text/plain": [
              "False"
            ]
          },
          "metadata": {},
          "execution_count": 13
        }
      ]
    },
    {
      "cell_type": "code",
      "source": [
        "bool(False)|bool(False)\n"
      ],
      "metadata": {
        "colab": {
          "base_uri": "https://localhost:8080/"
        },
        "id": "lrtHqgD9NAE1",
        "outputId": "1ab54bdd-a608-43f0-9253-d034efccb509"
      },
      "execution_count": null,
      "outputs": [
        {
          "output_type": "execute_result",
          "data": {
            "text/plain": [
              "False"
            ]
          },
          "metadata": {},
          "execution_count": 15
        }
      ]
    },
    {
      "cell_type": "code",
      "source": [
        "def print_args(*args):\n",
        "    for arg in args:\n",
        "        print(arg)\n",
        "\n",
        "print_args(1, 2, 3)\n",
        "print_args('a', 'b', 'c')\n"
      ],
      "metadata": {
        "colab": {
          "base_uri": "https://localhost:8080/"
        },
        "id": "o5fHYOWUNJAV",
        "outputId": "76be9a69-a467-49ce-9216-d0b4ce9689bf"
      },
      "execution_count": null,
      "outputs": [
        {
          "output_type": "stream",
          "name": "stdout",
          "text": [
            "1\n",
            "2\n",
            "3\n",
            "a\n",
            "b\n",
            "c\n"
          ]
        }
      ]
    },
    {
      "cell_type": "code",
      "source": [
        "def print_kwargs(**kwargs):\n",
        "    for key, value in kwargs.items():\n",
        "        print(f\"{key} = {value}\")\n",
        "\n",
        "print_kwargs(name=\"Alice\", age=30, city=\"New York\")\n",
        "print_kwargs(fruit=\"Apple\", color=\"Red\", price=1.5)\n"
      ],
      "metadata": {
        "colab": {
          "base_uri": "https://localhost:8080/"
        },
        "id": "SlQyET_wFW_1",
        "outputId": "4861ed7e-2323-4e4c-d2d5-0c8ca954ba89"
      },
      "execution_count": null,
      "outputs": [
        {
          "output_type": "stream",
          "name": "stdout",
          "text": [
            "name = Alice\n",
            "age = 30\n",
            "city = New York\n",
            "fruit = Apple\n",
            "color = Red\n",
            "price = 1.5\n"
          ]
        }
      ]
    },
    {
      "cell_type": "code",
      "source": [
        "def print_args_kwargs(*args, **kwargs):\n",
        "    print(\"Arguments:\", args)\n",
        "    print(\"Keyword Arguments:\", kwargs)\n",
        "\n",
        "print_args_kwargs(1, 2, 3, name=\"Alice\", age=30)\n"
      ],
      "metadata": {
        "colab": {
          "base_uri": "https://localhost:8080/"
        },
        "id": "wZmmYz7yFW8_",
        "outputId": "dd3ba6f4-e2b5-49a4-8653-1f758d6b58ec"
      },
      "execution_count": null,
      "outputs": [
        {
          "output_type": "stream",
          "name": "stdout",
          "text": [
            "Arguments: (1, 2, 3)\n",
            "Keyword Arguments: {'name': 'Alice', 'age': 30}\n"
          ]
        }
      ]
    },
    {
      "cell_type": "code",
      "source": [
        "def print_args(fixed_arg, *args):\n",
        "    print(\"고정 인자:\", fixed_arg)\n",
        "    for arg in args:\n",
        "        print(\"가변 인자:\", arg)\n",
        "\n",
        "print_args(\"고정\", 1, 2, 3)\n",
        "# 출력:\n",
        "# 고정 인자: 고정\n",
        "# 가변 인자: 1\n",
        "# 가변 인자: 2\n",
        "# 가변 인자: 3"
      ],
      "metadata": {
        "colab": {
          "base_uri": "https://localhost:8080/"
        },
        "id": "05VsR6RZFW57",
        "outputId": "2cf17d65-d2f2-4182-af7d-b05138ce8b6e"
      },
      "execution_count": null,
      "outputs": [
        {
          "output_type": "stream",
          "name": "stdout",
          "text": [
            "고정 인자: 고정\n",
            "가변 인자: 1\n",
            "가변 인자: 2\n",
            "가변 인자: 3\n"
          ]
        }
      ]
    },
    {
      "cell_type": "markdown",
      "source": [],
      "metadata": {
        "id": "z35iltxpHs0y"
      }
    },
    {
      "cell_type": "code",
      "source": [
        "def calculate_area(shape, *dimensions):\n",
        "    if shape == 'rectangle':\n",
        "        length, width = dimensions\n",
        "        area = length * width\n",
        "    elif shape == 'circle':\n",
        "        radius, = dimensions\n",
        "        area = 3.14 * radius ** 2\n",
        "    else:\n",
        "        area = None\n",
        "        print(f\"Unsupported shape: {shape}\")\n",
        "    return area\n",
        "\n",
        "# 사용 예시\n",
        "print(calculate_area('rectangle', 5, 10))  # 50.0\n",
        "print(calculate_area('circle', 3))  # 28.26\n",
        "print(calculate_area('triangle', 3, 4))  # Unsupported shape: triangle\n"
      ],
      "metadata": {
        "colab": {
          "base_uri": "https://localhost:8080/"
        },
        "id": "lVnvtDc2FW27",
        "outputId": "1e116cc5-2c65-4a85-ccdd-59fc7073c19c"
      },
      "execution_count": null,
      "outputs": [
        {
          "output_type": "stream",
          "name": "stdout",
          "text": [
            "50\n",
            "28.26\n",
            "Unsupported shape: triangle\n",
            "None\n"
          ]
        }
      ]
    },
    {
      "cell_type": "code",
      "source": [
        "def print_person_info(name, age, **kwargs):\n",
        "    print(f\"Name: {name}, Age: {age}\")\n",
        "    for key, value in kwargs.items():\n",
        "        print(f\"{key.capitalize()}: {value}\")\n",
        "\n",
        "# 사용 예시\n",
        "print_person_info(\"Alice\", 25)\n",
        "print_person_info(\"Bob\", 30, occupation=\"Engineer\", city=\"New York\")\n",
        "print_person_info(\"Charlie\", 35, occupation=\"Manager\", city=\"London\", hobbies=\"Reading, Hiking\")\n",
        "\n"
      ],
      "metadata": {
        "colab": {
          "base_uri": "https://localhost:8080/"
        },
        "id": "jjqTx1tSFWz7",
        "outputId": "d1d7592e-c7b2-4da1-950c-8d4b66c2861c"
      },
      "execution_count": null,
      "outputs": [
        {
          "output_type": "stream",
          "name": "stdout",
          "text": [
            "Name: Alice, Age: 25\n",
            "Name: Bob, Age: 30\n",
            "Occupation: Engineer\n",
            "City: New York\n",
            "Name: Charlie, Age: 35\n",
            "Occupation: Manager\n",
            "City: London\n",
            "Hobbies: Reading, Hiking\n"
          ]
        }
      ]
    },
    {
      "cell_type": "code",
      "source": [
        "def calculate_area(shape, *dimensions):\n",
        "    if shape == 'rectangle':\n",
        "        length, width = dimensions\n",
        "        area = length * width\n",
        "    elif shape == 'circle':\n",
        "        radius, = dimensions\n",
        "        area = 3.14 * radius ** 2\n",
        "    return area\n",
        "\n",
        "print(calculate_area('rectangle', (5, 10)))  # 50.0\n",
        "print(calculate_area('circle', (3,)))  # 28.26\n"
      ],
      "metadata": {
        "colab": {
          "base_uri": "https://localhost:8080/",
          "height": 336
        },
        "id": "hbGCwJNZLuV_",
        "outputId": "e17c517d-e46d-411c-a467-c9cc3c4ace5b"
      },
      "execution_count": null,
      "outputs": [
        {
          "output_type": "error",
          "ename": "ValueError",
          "evalue": "not enough values to unpack (expected 2, got 1)",
          "traceback": [
            "\u001b[0;31m---------------------------------------------------------------------------\u001b[0m",
            "\u001b[0;31mValueError\u001b[0m                                Traceback (most recent call last)",
            "\u001b[0;32m<ipython-input-7-562c27863eea>\u001b[0m in \u001b[0;36m<cell line: 10>\u001b[0;34m()\u001b[0m\n\u001b[1;32m      8\u001b[0m     \u001b[0;32mreturn\u001b[0m \u001b[0marea\u001b[0m\u001b[0;34m\u001b[0m\u001b[0;34m\u001b[0m\u001b[0m\n\u001b[1;32m      9\u001b[0m \u001b[0;34m\u001b[0m\u001b[0m\n\u001b[0;32m---> 10\u001b[0;31m \u001b[0mprint\u001b[0m\u001b[0;34m(\u001b[0m\u001b[0mcalculate_area\u001b[0m\u001b[0;34m(\u001b[0m\u001b[0;34m'rectangle'\u001b[0m\u001b[0;34m,\u001b[0m \u001b[0;34m(\u001b[0m\u001b[0;36m5\u001b[0m\u001b[0;34m,\u001b[0m \u001b[0;36m10\u001b[0m\u001b[0;34m)\u001b[0m\u001b[0;34m)\u001b[0m\u001b[0;34m)\u001b[0m  \u001b[0;31m# 50.0\u001b[0m\u001b[0;34m\u001b[0m\u001b[0;34m\u001b[0m\u001b[0m\n\u001b[0m\u001b[1;32m     11\u001b[0m \u001b[0mprint\u001b[0m\u001b[0;34m(\u001b[0m\u001b[0mcalculate_area\u001b[0m\u001b[0;34m(\u001b[0m\u001b[0;34m'circle'\u001b[0m\u001b[0;34m,\u001b[0m \u001b[0;34m(\u001b[0m\u001b[0;36m3\u001b[0m\u001b[0;34m,\u001b[0m\u001b[0;34m)\u001b[0m\u001b[0;34m)\u001b[0m\u001b[0;34m)\u001b[0m  \u001b[0;31m# 28.26\u001b[0m\u001b[0;34m\u001b[0m\u001b[0;34m\u001b[0m\u001b[0m\n",
            "\u001b[0;32m<ipython-input-7-562c27863eea>\u001b[0m in \u001b[0;36mcalculate_area\u001b[0;34m(shape, *dimensions)\u001b[0m\n\u001b[1;32m      1\u001b[0m \u001b[0;32mdef\u001b[0m \u001b[0mcalculate_area\u001b[0m\u001b[0;34m(\u001b[0m\u001b[0mshape\u001b[0m\u001b[0;34m,\u001b[0m \u001b[0;34m*\u001b[0m\u001b[0mdimensions\u001b[0m\u001b[0;34m)\u001b[0m\u001b[0;34m:\u001b[0m\u001b[0;34m\u001b[0m\u001b[0;34m\u001b[0m\u001b[0m\n\u001b[1;32m      2\u001b[0m     \u001b[0;32mif\u001b[0m \u001b[0mshape\u001b[0m \u001b[0;34m==\u001b[0m \u001b[0;34m'rectangle'\u001b[0m\u001b[0;34m:\u001b[0m\u001b[0;34m\u001b[0m\u001b[0;34m\u001b[0m\u001b[0m\n\u001b[0;32m----> 3\u001b[0;31m         \u001b[0mlength\u001b[0m\u001b[0;34m,\u001b[0m \u001b[0mwidth\u001b[0m \u001b[0;34m=\u001b[0m \u001b[0mdimensions\u001b[0m\u001b[0;34m\u001b[0m\u001b[0;34m\u001b[0m\u001b[0m\n\u001b[0m\u001b[1;32m      4\u001b[0m         \u001b[0marea\u001b[0m \u001b[0;34m=\u001b[0m \u001b[0mlength\u001b[0m \u001b[0;34m*\u001b[0m \u001b[0mwidth\u001b[0m\u001b[0;34m\u001b[0m\u001b[0;34m\u001b[0m\u001b[0m\n\u001b[1;32m      5\u001b[0m     \u001b[0;32melif\u001b[0m \u001b[0mshape\u001b[0m \u001b[0;34m==\u001b[0m \u001b[0;34m'circle'\u001b[0m\u001b[0;34m:\u001b[0m\u001b[0;34m\u001b[0m\u001b[0;34m\u001b[0m\u001b[0m\n",
            "\u001b[0;31mValueError\u001b[0m: not enough values to unpack (expected 2, got 1)"
          ]
        }
      ]
    },
    {
      "cell_type": "code",
      "source": [
        "def print_numbers(*args):\n",
        "    for arg in args:\n",
        "        print(arg)\n",
        "\n",
        "print_numbers(1, 2, 3)  # 1, 2, 3\n",
        "print_numbers((4, 5), 6, [7, 8])  # (4, 5), 6, [7, 8]\n"
      ],
      "metadata": {
        "colab": {
          "base_uri": "https://localhost:8080/"
        },
        "id": "sjofUSsHLuTQ",
        "outputId": "e622b7a9-dfba-4d31-b803-22d150874cbb"
      },
      "execution_count": null,
      "outputs": [
        {
          "output_type": "stream",
          "name": "stdout",
          "text": [
            "1\n",
            "2\n",
            "3\n",
            "(4, 5)\n",
            "6\n",
            "[7, 8]\n"
          ]
        }
      ]
    },
    {
      "cell_type": "code",
      "source": [
        "def calculate_volume(length, width, height):\n",
        "    return length * width * height\n",
        "\n",
        "dimensions = (5, 10, 3)\n",
        "volume = calculate_volume(*dimensions)\n",
        "print(volume)  # 150\n"
      ],
      "metadata": {
        "colab": {
          "base_uri": "https://localhost:8080/"
        },
        "id": "JZsZ4p8nLuQP",
        "outputId": "d8525c1c-2f7b-4b3d-be60-7fe4e3ee3a1c"
      },
      "execution_count": null,
      "outputs": [
        {
          "output_type": "stream",
          "name": "stdout",
          "text": [
            "150\n"
          ]
        }
      ]
    },
    {
      "cell_type": "code",
      "source": [],
      "metadata": {
        "id": "XACHUJZtLuNH"
      },
      "execution_count": null,
      "outputs": []
    },
    {
      "cell_type": "code",
      "source": [
        "def greet(first_name, last_name):\n",
        "    print(f\"Hello, {first_name} {last_name}!\")\n",
        "\n",
        "# 딕셔너리 생성\n",
        "person = {'first_name': 'John', 'last_name': 'Doe'}\n",
        "\n",
        "# 딕셔너리 언패킹하여 함수 호출\n",
        "greet(**person)\n"
      ],
      "metadata": {
        "colab": {
          "base_uri": "https://localhost:8080/"
        },
        "id": "QjpFK9b0Lts_",
        "outputId": "f1a39060-e91a-4e0c-ed14-5ff64acae6eb"
      },
      "execution_count": null,
      "outputs": [
        {
          "output_type": "stream",
          "name": "stdout",
          "text": [
            "Hello, John Doe!\n"
          ]
        }
      ]
    },
    {
      "cell_type": "code",
      "source": [
        "def introduce(name, age, city):\n",
        "    print(f\"My name is {name}, I am {age} years old and I live in {city}.\")\n",
        "\n",
        "# 딕셔너리 생성\n",
        "info = {'name': 'Alice', 'age': 30, 'city': 'New York'}\n",
        "\n",
        "# 딕셔너리 언패킹하여 함수 호출\n",
        "introduce(**info)\n"
      ],
      "metadata": {
        "colab": {
          "base_uri": "https://localhost:8080/"
        },
        "id": "X3HCcSiVNpli",
        "outputId": "5ed89641-cc25-4cdb-ebdc-9304faebf4ac"
      },
      "execution_count": null,
      "outputs": [
        {
          "output_type": "stream",
          "name": "stdout",
          "text": [
            "My name is Alice, I am 30 years old and I live in New York.\n"
          ]
        }
      ]
    },
    {
      "cell_type": "code",
      "source": [
        "def print_info(name, age, city='Unknown'):\n",
        "    print(f\"Name: {name}, Age: {age}, City: {city}\")\n",
        "\n",
        "# 딕셔너리 생성\n",
        "person_info = {'name': 'Bob', 'age': 25}\n",
        "\n",
        "# 딕셔너리 언패킹하여 함수 호출\n",
        "print_info(**person_info)\n"
      ],
      "metadata": {
        "colab": {
          "base_uri": "https://localhost:8080/"
        },
        "id": "tdF9NhUCNpiy",
        "outputId": "7841ac09-917d-4cd3-dfff-3fca666b3d7b"
      },
      "execution_count": null,
      "outputs": [
        {
          "output_type": "stream",
          "name": "stdout",
          "text": [
            "Name: Bob, Age: 25, City: Unknown\n"
          ]
        }
      ]
    },
    {
      "cell_type": "code",
      "source": [
        "numbers = [1, 2, 3, 4, 5]\n",
        "squared_numbers = list(map(lambda x: x**2, numbers))\n",
        "print(squared_numbers)  # Output: [1, 4, 9, 16, 25]\n"
      ],
      "metadata": {
        "colab": {
          "base_uri": "https://localhost:8080/"
        },
        "id": "UWRsK21DNpfn",
        "outputId": "dfd44202-dff5-46c4-fd34-785b52cbcb44"
      },
      "execution_count": null,
      "outputs": [
        {
          "output_type": "stream",
          "name": "stdout",
          "text": [
            "[1, 4, 9, 16, 25]\n"
          ]
        }
      ]
    },
    {
      "cell_type": "code",
      "source": [],
      "metadata": {
        "id": "u1GX2tkyNpc9"
      },
      "execution_count": null,
      "outputs": []
    },
    {
      "cell_type": "code",
      "source": [],
      "metadata": {
        "id": "YacaJNofNpaD"
      },
      "execution_count": null,
      "outputs": []
    },
    {
      "cell_type": "code",
      "source": [
        "students = [{'name': 'John', 'grade': 90},\n",
        "            {'name': 'Jane', 'grade': 85},\n",
        "            {'name': 'Dave', 'grade': 92}]\n",
        "sorted_students = sorted(students, key=lambda x: x['grade'])\n",
        "print(sorted_students)\n",
        "# Output: [{'name': 'Jane', 'grade': 85}, {'name': 'John', 'grade': 90}, {'name': 'Dave', 'grade': 92}]\n"
      ],
      "metadata": {
        "colab": {
          "base_uri": "https://localhost:8080/"
        },
        "id": "bpShEphwNpVm",
        "outputId": "b34f46bf-0631-48e2-8a8f-41a20e5b463a"
      },
      "execution_count": null,
      "outputs": [
        {
          "output_type": "stream",
          "name": "stdout",
          "text": [
            "[{'name': 'Jane', 'grade': 85}, {'name': 'John', 'grade': 90}, {'name': 'Dave', 'grade': 92}]\n"
          ]
        }
      ]
    },
    {
      "cell_type": "code",
      "source": [
        "numbers = [1, 2, 3, 4, 5, 6]\n",
        "even_numbers = list(filter(lambda x: x % 2 == 0, numbers))\n",
        "print(even_numbers)  # Output: [2, 4, 6]\n"
      ],
      "metadata": {
        "id": "QhnW_UOTQcL9",
        "outputId": "24598e25-ee16-47e4-fdcb-faeba6b85bb0",
        "colab": {
          "base_uri": "https://localhost:8080/"
        }
      },
      "execution_count": null,
      "outputs": [
        {
          "output_type": "stream",
          "name": "stdout",
          "text": [
            "[2, 4, 6]\n"
          ]
        }
      ]
    },
    {
      "cell_type": "code",
      "source": [
        "import random\n",
        "\n",
        "target = random.randint(1, 100)\n",
        "guess = None\n",
        "attempts = 0\n",
        "\n",
        "while guess != target:\n",
        "    guess = int(input(\"Guess the number (between 1 and 100): \"))\n",
        "    attempts += 1\n",
        "    if guess < target:\n",
        "        print(\"Too low!\")\n",
        "    elif guess > target:\n",
        "        print(\"Too high!\")\n",
        "    else:\n",
        "        print(f\"Congratulations! You've guessed the number in {attempts} attempts.\")"
      ],
      "metadata": {
        "id": "756yRjuyqslA"
      },
      "execution_count": null,
      "outputs": []
    },
    {
      "cell_type": "code",
      "source": [
        "animals = [\"고양이\", \"강아지\", \"코끼리\", \"기린\", \"사자\"]\n",
        "target = random.choice(animals)\n",
        "attempts = 0\n",
        "\n",
        "print(\"제가 생각한 동물을 맞춰보세요.\")\n",
        "\n",
        "while True:\n",
        "    guess = input(\"동물 이름을 입력하세요: \")\n",
        "    attempts += 1\n",
        "\n",
        "    if guess.lower() == target.lower():\n",
        "        print(f\"정답입니다! {attempts}번 만에 맞추셨습니다.\")\n",
        "        break\n",
        "    else:\n",
        "        print(\"틀렸습니다. 다시 시도해보세요.\")\n",
        "\n",
        "    if attempts % 5 == 0:\n",
        "        print(f\"힌트: 첫 글자는 '{target[0]}'입니다.\")"
      ],
      "metadata": {
        "colab": {
          "base_uri": "https://localhost:8080/"
        },
        "id": "a3EGJzHYsv72",
        "outputId": "6ba86d7e-ef88-455c-eedd-f37cd8f26cb8"
      },
      "execution_count": null,
      "outputs": [
        {
          "output_type": "stream",
          "name": "stdout",
          "text": [
            "제가 생각한 동물을 맞춰보세요.\n",
            "동물 이름을 입력하세요: 고양이\n",
            "틀렸습니다. 다시 시도해보세요.\n",
            "동물 이름을 입력하세요: 캣\n",
            "틀렸습니다. 다시 시도해보세요.\n",
            "동물 이름을 입력하세요: cat\n",
            "틀렸습니다. 다시 시도해보세요.\n",
            "동물 이름을 입력하세요: 강아지\n",
            "틀렸습니다. 다시 시도해보세요.\n",
            "동물 이름을 입력하세요: 코끼리\n",
            "정답입니다! 5번 만에 맞추셨습니다.\n"
          ]
        }
      ]
    },
    {
      "cell_type": "code",
      "source": [
        "# 사용자에게 입력을 받아 'quit'을 입력할 때까지 계속 입력을 받는 예시\n",
        "while True:\n",
        "    user_input = input(\"Type 'quit' to exit: \")\n",
        "    if user_input.lower() == 'quit':\n",
        "        break\n",
        "    print(\"You typed:\", user_input)"
      ],
      "metadata": {
        "colab": {
          "base_uri": "https://localhost:8080/"
        },
        "id": "Ltsfy2nftaAo",
        "outputId": "c0b9d694-8241-49a1-c40a-cf4d737739a0"
      },
      "execution_count": null,
      "outputs": [
        {
          "name": "stdout",
          "output_type": "stream",
          "text": [
            "Type 'quit' to exit: ㄳ\n",
            "You typed: ㄳ\n",
            "Type 'quit' to exit: ㅗㄹ\n",
            "You typed: ㅗㄹ\n",
            "Type 'quit' to exit: ㅈㄷㄱ\n",
            "You typed: ㅈㄷㄱ\n",
            "Type 'quit' to exit: quit\n"
          ]
        }
      ]
    },
    {
      "cell_type": "code",
      "source": [
        "for i in range(2,10):\n",
        "  for j in range(1,10):\n",
        "    print(i*j, end=' ')\n",
        "  print()"
      ],
      "metadata": {
        "colab": {
          "base_uri": "https://localhost:8080/"
        },
        "id": "9PJwOrpbvw0a",
        "outputId": "8060efd1-5668-4ae1-b9cb-73d6fe60ccda"
      },
      "execution_count": null,
      "outputs": [
        {
          "output_type": "stream",
          "name": "stdout",
          "text": [
            "2 4 6 8 10 12 14 16 18 \n",
            "3 6 9 12 15 18 21 24 27 \n",
            "4 8 12 16 20 24 28 32 36 \n",
            "5 10 15 20 25 30 35 40 45 \n",
            "6 12 18 24 30 36 42 48 54 \n",
            "7 14 21 28 35 42 49 56 63 \n",
            "8 16 24 32 40 48 56 64 72 \n",
            "9 18 27 36 45 54 63 72 81 \n"
          ]
        }
      ]
    },
    {
      "cell_type": "code",
      "source": [
        "for i in range(1,10):\n",
        "  for j in range(2,10):\n",
        "    print(i*j, end=' ')\n",
        "  print()"
      ],
      "metadata": {
        "colab": {
          "base_uri": "https://localhost:8080/"
        },
        "id": "iK7vTPwcvwxe",
        "outputId": "9323a757-b2bf-4b1d-d3a6-560faafe77b8"
      },
      "execution_count": null,
      "outputs": [
        {
          "output_type": "stream",
          "name": "stdout",
          "text": [
            "2 3 4 5 6 7 8 9 \n",
            "4 6 8 10 12 14 16 18 \n",
            "6 9 12 15 18 21 24 27 \n",
            "8 12 16 20 24 28 32 36 \n",
            "10 15 20 25 30 35 40 45 \n",
            "12 18 24 30 36 42 48 54 \n",
            "14 21 28 35 42 49 56 63 \n",
            "16 24 32 40 48 56 64 72 \n",
            "18 27 36 45 54 63 72 81 \n"
          ]
        }
      ]
    },
    {
      "cell_type": "code",
      "source": [
        "# 학생 성적 딕셔너리\n",
        "student_grades = {\n",
        "    'Alice': 85,\n",
        "    'Bob': 90,\n",
        "    'Charlie': 78,\n",
        "    'David': 92\n",
        "}\n",
        "\n",
        "# 특정 학생의 성적 조회\n",
        "alice_grade = student_grades['Alice']\n",
        "print(f\"Alice's grade: {alice_grade}\")\n",
        "\n",
        "# 모든 학생의 성적 조회\n",
        "print(\"All students' grades:\")\n",
        "for grade in student_grades.values():\n",
        "    print(grade)\n"
      ],
      "metadata": {
        "colab": {
          "base_uri": "https://localhost:8080/"
        },
        "id": "Occ6G0D8MSxL",
        "outputId": "db27a429-126a-48f5-a896-4934d7964c23"
      },
      "execution_count": null,
      "outputs": [
        {
          "output_type": "stream",
          "name": "stdout",
          "text": [
            "Alice's grade: 85\n",
            "All students' grades:\n",
            "85\n",
            "90\n",
            "78\n",
            "92\n"
          ]
        }
      ]
    },
    {
      "cell_type": "code",
      "source": [
        "import random\n",
        "\n",
        "list_label = ['사람', '동물', '동물', '동물', '동물', '사람', '사람', '사람']\n",
        "list_value = ['수진', '기린', '코끼리', '강아지', '고양이', '민호', '지민', '동준']\n",
        "guess = None\n",
        "attempts = 0\n",
        "\n",
        "while guess != False :\n",
        "  target = random.randint(0, (len(list_label)-1))\n",
        "  guess = input(f\"이름({list_value[target]})을 보고 사람인지 동물인지 맞춰봐 ! : \")\n",
        "  attempts += 1\n",
        "  if guess == list_label[target] :\n",
        "    print(\"잘 맞췄네!\")\n",
        "  elif guess != list_label[target] :\n",
        "    print(\"다시 생각해봐...\")\n",
        "  else :\n",
        "    print(f\"잘했어 ! {list_value[target]}은 {list_label[target]}이야 ! \")\n",
        "    list_value.remove(list_value[target])\n",
        "    list_label.remove(list_label[target])\n",
        "  print(list_value, list_label)\n",
        "  if attempts >= 5 :\n",
        "    print(f\"벌써 {attempts}번 맞췄네 ! 훌륭해 !\")\n",
        "    break"
      ],
      "metadata": {
        "colab": {
          "base_uri": "https://localhost:8080/",
          "height": 560
        },
        "id": "KdITKGPjvwuy",
        "outputId": "06133723-843d-46d6-ab3f-f752b8b2a68a"
      },
      "execution_count": null,
      "outputs": [
        {
          "output_type": "stream",
          "name": "stdout",
          "text": [
            "이름(민호)을 보고 사람인지 동물인지 맞춰봐 ! : 사람\n",
            "잘 맞췄네!\n",
            "['수진', '기린', '코끼리', '강아지', '고양이', '민호', '지민', '동준'] ['사람', '동물', '동물', '동물', '동물', '사람', '사람', '사람']\n",
            "이름(수진)을 보고 사람인지 동물인지 맞춰봐 ! : 사람\n",
            "잘 맞췄네!\n",
            "['수진', '기린', '코끼리', '강아지', '고양이', '민호', '지민', '동준'] ['사람', '동물', '동물', '동물', '동물', '사람', '사람', '사람']\n",
            "이름(동준)을 보고 사람인지 동물인지 맞춰봐 ! : 수진\n",
            "다시 생각해봐...\n",
            "['수진', '기린', '코끼리', '강아지', '고양이', '민호', '지민', '동준'] ['사람', '동물', '동물', '동물', '동물', '사람', '사람', '사람']\n"
          ]
        },
        {
          "output_type": "error",
          "ename": "KeyboardInterrupt",
          "evalue": "Interrupted by user",
          "traceback": [
            "\u001b[0;31m---------------------------------------------------------------------------\u001b[0m",
            "\u001b[0;31mKeyboardInterrupt\u001b[0m                         Traceback (most recent call last)",
            "\u001b[0;32m<ipython-input-1-1ddb528eca92>\u001b[0m in \u001b[0;36m<cell line: 8>\u001b[0;34m()\u001b[0m\n\u001b[1;32m      8\u001b[0m \u001b[0;32mwhile\u001b[0m \u001b[0mguess\u001b[0m \u001b[0;34m!=\u001b[0m \u001b[0;32mFalse\u001b[0m \u001b[0;34m:\u001b[0m\u001b[0;34m\u001b[0m\u001b[0;34m\u001b[0m\u001b[0m\n\u001b[1;32m      9\u001b[0m   \u001b[0mtarget\u001b[0m \u001b[0;34m=\u001b[0m \u001b[0mrandom\u001b[0m\u001b[0;34m.\u001b[0m\u001b[0mrandint\u001b[0m\u001b[0;34m(\u001b[0m\u001b[0;36m0\u001b[0m\u001b[0;34m,\u001b[0m \u001b[0;34m(\u001b[0m\u001b[0mlen\u001b[0m\u001b[0;34m(\u001b[0m\u001b[0mlist_label\u001b[0m\u001b[0;34m)\u001b[0m\u001b[0;34m-\u001b[0m\u001b[0;36m1\u001b[0m\u001b[0;34m)\u001b[0m\u001b[0;34m)\u001b[0m\u001b[0;34m\u001b[0m\u001b[0;34m\u001b[0m\u001b[0m\n\u001b[0;32m---> 10\u001b[0;31m   \u001b[0mguess\u001b[0m \u001b[0;34m=\u001b[0m \u001b[0minput\u001b[0m\u001b[0;34m(\u001b[0m\u001b[0;34mf\"이름({list_value[target]})을 보고 사람인지 동물인지 맞춰봐 ! : \"\u001b[0m\u001b[0;34m)\u001b[0m\u001b[0;34m\u001b[0m\u001b[0;34m\u001b[0m\u001b[0m\n\u001b[0m\u001b[1;32m     11\u001b[0m   \u001b[0mattempts\u001b[0m \u001b[0;34m+=\u001b[0m \u001b[0;36m1\u001b[0m\u001b[0;34m\u001b[0m\u001b[0;34m\u001b[0m\u001b[0m\n\u001b[1;32m     12\u001b[0m   \u001b[0;32mif\u001b[0m \u001b[0mguess\u001b[0m \u001b[0;34m==\u001b[0m \u001b[0mlist_label\u001b[0m\u001b[0;34m[\u001b[0m\u001b[0mtarget\u001b[0m\u001b[0;34m]\u001b[0m \u001b[0;34m:\u001b[0m\u001b[0;34m\u001b[0m\u001b[0;34m\u001b[0m\u001b[0m\n",
            "\u001b[0;32m/usr/local/lib/python3.10/dist-packages/ipykernel/kernelbase.py\u001b[0m in \u001b[0;36mraw_input\u001b[0;34m(self, prompt)\u001b[0m\n\u001b[1;32m    849\u001b[0m                 \u001b[0;34m\"raw_input was called, but this frontend does not support input requests.\"\u001b[0m\u001b[0;34m\u001b[0m\u001b[0;34m\u001b[0m\u001b[0m\n\u001b[1;32m    850\u001b[0m             )\n\u001b[0;32m--> 851\u001b[0;31m         return self._input_request(str(prompt),\n\u001b[0m\u001b[1;32m    852\u001b[0m             \u001b[0mself\u001b[0m\u001b[0;34m.\u001b[0m\u001b[0m_parent_ident\u001b[0m\u001b[0;34m,\u001b[0m\u001b[0;34m\u001b[0m\u001b[0;34m\u001b[0m\u001b[0m\n\u001b[1;32m    853\u001b[0m             \u001b[0mself\u001b[0m\u001b[0;34m.\u001b[0m\u001b[0m_parent_header\u001b[0m\u001b[0;34m,\u001b[0m\u001b[0;34m\u001b[0m\u001b[0;34m\u001b[0m\u001b[0m\n",
            "\u001b[0;32m/usr/local/lib/python3.10/dist-packages/ipykernel/kernelbase.py\u001b[0m in \u001b[0;36m_input_request\u001b[0;34m(self, prompt, ident, parent, password)\u001b[0m\n\u001b[1;32m    893\u001b[0m             \u001b[0;32mexcept\u001b[0m \u001b[0mKeyboardInterrupt\u001b[0m\u001b[0;34m:\u001b[0m\u001b[0;34m\u001b[0m\u001b[0;34m\u001b[0m\u001b[0m\n\u001b[1;32m    894\u001b[0m                 \u001b[0;31m# re-raise KeyboardInterrupt, to truncate traceback\u001b[0m\u001b[0;34m\u001b[0m\u001b[0;34m\u001b[0m\u001b[0m\n\u001b[0;32m--> 895\u001b[0;31m                 \u001b[0;32mraise\u001b[0m \u001b[0mKeyboardInterrupt\u001b[0m\u001b[0;34m(\u001b[0m\u001b[0;34m\"Interrupted by user\"\u001b[0m\u001b[0;34m)\u001b[0m \u001b[0;32mfrom\u001b[0m \u001b[0;32mNone\u001b[0m\u001b[0;34m\u001b[0m\u001b[0;34m\u001b[0m\u001b[0m\n\u001b[0m\u001b[1;32m    896\u001b[0m             \u001b[0;32mexcept\u001b[0m \u001b[0mException\u001b[0m \u001b[0;32mas\u001b[0m \u001b[0me\u001b[0m\u001b[0;34m:\u001b[0m\u001b[0;34m\u001b[0m\u001b[0;34m\u001b[0m\u001b[0m\n\u001b[1;32m    897\u001b[0m                 \u001b[0mself\u001b[0m\u001b[0;34m.\u001b[0m\u001b[0mlog\u001b[0m\u001b[0;34m.\u001b[0m\u001b[0mwarning\u001b[0m\u001b[0;34m(\u001b[0m\u001b[0;34m\"Invalid Message:\"\u001b[0m\u001b[0;34m,\u001b[0m \u001b[0mexc_info\u001b[0m\u001b[0;34m=\u001b[0m\u001b[0;32mTrue\u001b[0m\u001b[0;34m)\u001b[0m\u001b[0;34m\u001b[0m\u001b[0;34m\u001b[0m\u001b[0m\n",
            "\u001b[0;31mKeyboardInterrupt\u001b[0m: Interrupted by user"
          ]
        }
      ]
    },
    {
      "cell_type": "code",
      "source": [
        "import random\n",
        "\n",
        "list_label = ['사람', '동물', '동물', '동물', '동물', '사람', '사람', '사람']\n",
        "list_value = ['수진', '기린', '코끼리', '강아지', '고양이', '민호', '지민', '동준']\n",
        "guess = None\n",
        "attempts = 0\n",
        "\n",
        "while True:\n",
        "    if len(list_label) == 0:\n",
        "        print(\"모든 항목을 맞췄습니다!\")\n",
        "        break\n",
        "\n",
        "    target = random.randint(0, len(list_label) - 1)\n",
        "    guess = input(f\"이름({list_value[target]})을 보고 사람인지 동물인지 맞춰봐! : \")\n",
        "    attempts += 1\n",
        "\n",
        "    if guess == list_label[target]:\n",
        "        print(\"잘 맞췄네!\")\n",
        "        list_value.pop(target)\n",
        "        list_label.pop(target)\n",
        "        print(list_value, list_label)\n",
        "    elif guess != list_label[target]:\n",
        "        print(\"다시 생각해봐...\")\n",
        "\n",
        "    if attempts >= 5:\n",
        "        print(f\"벌써 {attempts}번 시도했네! 훌륭해!\")\n",
        "        break\n"
      ],
      "metadata": {
        "colab": {
          "base_uri": "https://localhost:8080/",
          "height": 595
        },
        "id": "jNQDdY_WFuek",
        "outputId": "08074629-de70-4b42-977f-6d0c3953aedf"
      },
      "execution_count": null,
      "outputs": [
        {
          "output_type": "stream",
          "name": "stdout",
          "text": [
            "이름(고양이)을 보고 사람인지 동물인지 맞춰봐! : 동물\n",
            "잘 맞췄네!\n",
            "['수진', '기린', '코끼리', '강아지', '민호', '지민', '동준'] ['사람', '동물', '동물', '동물', '사람', '사람', '사람']\n",
            "이름(지민)을 보고 사람인지 동물인지 맞춰봐! : 사람\n",
            "잘 맞췄네!\n",
            "['수진', '기린', '코끼리', '강아지', '민호', '동준'] ['사람', '동물', '동물', '동물', '사람', '사람']\n",
            "이름(기린)을 보고 사람인지 동물인지 맞춰봐! : 동물\n",
            "잘 맞췄네!\n",
            "['수진', '코끼리', '강아지', '민호', '동준'] ['사람', '동물', '동물', '사람', '사람']\n",
            "이름(민호)을 보고 사람인지 동물인지 맞춰봐! : 사람\n",
            "잘 맞췄네!\n",
            "['수진', '코끼리', '강아지', '동준'] ['사람', '동물', '동물', '사람']\n"
          ]
        },
        {
          "output_type": "error",
          "ename": "KeyboardInterrupt",
          "evalue": "Interrupted by user",
          "traceback": [
            "\u001b[0;31m---------------------------------------------------------------------------\u001b[0m",
            "\u001b[0;31mKeyboardInterrupt\u001b[0m                         Traceback (most recent call last)",
            "\u001b[0;32m<ipython-input-9-a0bf97cd3903>\u001b[0m in \u001b[0;36m<cell line: 8>\u001b[0;34m()\u001b[0m\n\u001b[1;32m     12\u001b[0m \u001b[0;34m\u001b[0m\u001b[0m\n\u001b[1;32m     13\u001b[0m     \u001b[0mtarget\u001b[0m \u001b[0;34m=\u001b[0m \u001b[0mrandom\u001b[0m\u001b[0;34m.\u001b[0m\u001b[0mrandint\u001b[0m\u001b[0;34m(\u001b[0m\u001b[0;36m0\u001b[0m\u001b[0;34m,\u001b[0m \u001b[0mlen\u001b[0m\u001b[0;34m(\u001b[0m\u001b[0mlist_label\u001b[0m\u001b[0;34m)\u001b[0m \u001b[0;34m-\u001b[0m \u001b[0;36m1\u001b[0m\u001b[0;34m)\u001b[0m\u001b[0;34m\u001b[0m\u001b[0;34m\u001b[0m\u001b[0m\n\u001b[0;32m---> 14\u001b[0;31m     \u001b[0mguess\u001b[0m \u001b[0;34m=\u001b[0m \u001b[0minput\u001b[0m\u001b[0;34m(\u001b[0m\u001b[0;34mf\"이름({list_value[target]})을 보고 사람인지 동물인지 맞춰봐! : \"\u001b[0m\u001b[0;34m)\u001b[0m\u001b[0;34m\u001b[0m\u001b[0;34m\u001b[0m\u001b[0m\n\u001b[0m\u001b[1;32m     15\u001b[0m     \u001b[0mattempts\u001b[0m \u001b[0;34m+=\u001b[0m \u001b[0;36m1\u001b[0m\u001b[0;34m\u001b[0m\u001b[0;34m\u001b[0m\u001b[0m\n\u001b[1;32m     16\u001b[0m \u001b[0;34m\u001b[0m\u001b[0m\n",
            "\u001b[0;32m/usr/local/lib/python3.10/dist-packages/ipykernel/kernelbase.py\u001b[0m in \u001b[0;36mraw_input\u001b[0;34m(self, prompt)\u001b[0m\n\u001b[1;32m    849\u001b[0m                 \u001b[0;34m\"raw_input was called, but this frontend does not support input requests.\"\u001b[0m\u001b[0;34m\u001b[0m\u001b[0;34m\u001b[0m\u001b[0m\n\u001b[1;32m    850\u001b[0m             )\n\u001b[0;32m--> 851\u001b[0;31m         return self._input_request(str(prompt),\n\u001b[0m\u001b[1;32m    852\u001b[0m             \u001b[0mself\u001b[0m\u001b[0;34m.\u001b[0m\u001b[0m_parent_ident\u001b[0m\u001b[0;34m,\u001b[0m\u001b[0;34m\u001b[0m\u001b[0;34m\u001b[0m\u001b[0m\n\u001b[1;32m    853\u001b[0m             \u001b[0mself\u001b[0m\u001b[0;34m.\u001b[0m\u001b[0m_parent_header\u001b[0m\u001b[0;34m,\u001b[0m\u001b[0;34m\u001b[0m\u001b[0;34m\u001b[0m\u001b[0m\n",
            "\u001b[0;32m/usr/local/lib/python3.10/dist-packages/ipykernel/kernelbase.py\u001b[0m in \u001b[0;36m_input_request\u001b[0;34m(self, prompt, ident, parent, password)\u001b[0m\n\u001b[1;32m    893\u001b[0m             \u001b[0;32mexcept\u001b[0m \u001b[0mKeyboardInterrupt\u001b[0m\u001b[0;34m:\u001b[0m\u001b[0;34m\u001b[0m\u001b[0;34m\u001b[0m\u001b[0m\n\u001b[1;32m    894\u001b[0m                 \u001b[0;31m# re-raise KeyboardInterrupt, to truncate traceback\u001b[0m\u001b[0;34m\u001b[0m\u001b[0;34m\u001b[0m\u001b[0m\n\u001b[0;32m--> 895\u001b[0;31m                 \u001b[0;32mraise\u001b[0m \u001b[0mKeyboardInterrupt\u001b[0m\u001b[0;34m(\u001b[0m\u001b[0;34m\"Interrupted by user\"\u001b[0m\u001b[0;34m)\u001b[0m \u001b[0;32mfrom\u001b[0m \u001b[0;32mNone\u001b[0m\u001b[0;34m\u001b[0m\u001b[0;34m\u001b[0m\u001b[0m\n\u001b[0m\u001b[1;32m    896\u001b[0m             \u001b[0;32mexcept\u001b[0m \u001b[0mException\u001b[0m \u001b[0;32mas\u001b[0m \u001b[0me\u001b[0m\u001b[0;34m:\u001b[0m\u001b[0;34m\u001b[0m\u001b[0;34m\u001b[0m\u001b[0m\n\u001b[1;32m    897\u001b[0m                 \u001b[0mself\u001b[0m\u001b[0;34m.\u001b[0m\u001b[0mlog\u001b[0m\u001b[0;34m.\u001b[0m\u001b[0mwarning\u001b[0m\u001b[0;34m(\u001b[0m\u001b[0;34m\"Invalid Message:\"\u001b[0m\u001b[0;34m,\u001b[0m \u001b[0mexc_info\u001b[0m\u001b[0;34m=\u001b[0m\u001b[0;32mTrue\u001b[0m\u001b[0;34m)\u001b[0m\u001b[0;34m\u001b[0m\u001b[0;34m\u001b[0m\u001b[0m\n",
            "\u001b[0;31mKeyboardInterrupt\u001b[0m: Interrupted by user"
          ]
        }
      ]
    },
    {
      "cell_type": "code",
      "source": [
        "import random\n",
        "\n",
        "choices = [\"가위\", \"바위\", \"보\"]\n",
        "score = {\"player\": 1, \"computer\": 1}\n",
        "print(score['player'],score['computer'])\n"
      ],
      "metadata": {
        "colab": {
          "base_uri": "https://localhost:8080/"
        },
        "id": "0G4NgzuRXVEA",
        "outputId": "d2434bd4-684b-4acd-b1e0-54565e4b0da9"
      },
      "execution_count": null,
      "outputs": [
        {
          "output_type": "stream",
          "name": "stdout",
          "text": [
            "1 1\n"
          ]
        }
      ]
    },
    {
      "cell_type": "code",
      "source": [
        "import random\n",
        "\n",
        "choices = [\"가위\", \"바위\", \"보\"]\n",
        "score = {\"player\": 0, \"computer\": 0}\n",
        "print(\"최초 스코아 세팅\", score['player'],score['computer'])\n",
        "\n",
        "while True:\n",
        "    player = input(\"가위, 바위, 보 중 하나를 선택하세요 (종료하려면 '끝' 입력): \")\n",
        "    if player == \"끝\":\n",
        "      break\n",
        "\n",
        "    if player not in choices:\n",
        "      print(\"잘못된 입력입니다. 다시 시도하세요.\")\n",
        "      continue\n",
        "\n",
        "    computer = random.choice(choices)\n",
        "    print(f\"컴퓨터의 선택: {computer}\")\n",
        "\n",
        "    if player == computer:\n",
        "      print(\"무승부!\")\n",
        "      score[\"player\"] += 1\n",
        "      score[\"computer\"] += 1\n",
        "\n",
        "\n",
        "    elif(player == \"가위\" and computer == \"보\") or \\\n",
        "      (player == \"바위\" and computer == \"가위\") or \\\n",
        "      (player == \"보\" and computer == \"바위\"):\n",
        "      print(\"플레이어 승!\")\n",
        "      score[\"player\"] += 1\n",
        "    else:\n",
        "      print(\"컴퓨터 승!\")\n",
        "      score[\"computer\"] += 1\n",
        "      print(score['player'],score['computer'])\n",
        "\n",
        "print(\"최종 스코아\", score['player'], score['computer'])\n"
      ],
      "metadata": {
        "id": "K2D7m6kHvwr4",
        "colab": {
          "base_uri": "https://localhost:8080/"
        },
        "outputId": "23b5d543-4d9c-4691-c900-9a24e66a8abd"
      },
      "execution_count": null,
      "outputs": [
        {
          "output_type": "stream",
          "name": "stdout",
          "text": [
            "0 0\n",
            "가위, 바위, 보 중 하나를 선택하세요 (종료하려면 '끝' 입력): 가위\n",
            "컴퓨터의 선택: 보\n",
            "플레이어 승!\n",
            "가위, 바위, 보 중 하나를 선택하세요 (종료하려면 '끝' 입력): 바위\n",
            "컴퓨터의 선택: 가위\n",
            "플레이어 승!\n",
            "가위, 바위, 보 중 하나를 선택하세요 (종료하려면 '끝' 입력): 보\n",
            "컴퓨터의 선택: 보\n",
            "무승부!\n",
            "가위, 바위, 보 중 하나를 선택하세요 (종료하려면 '끝' 입력): 가위\n",
            "컴퓨터의 선택: 가위\n",
            "무승부!\n",
            "가위, 바위, 보 중 하나를 선택하세요 (종료하려면 '끝' 입력): 끝\n",
            "최종 스코아 2 0\n"
          ]
        }
      ]
    },
    {
      "cell_type": "code",
      "source": [
        "print()"
      ],
      "metadata": {
        "colab": {
          "base_uri": "https://localhost:8080/"
        },
        "id": "Du-8RfI9YehY",
        "outputId": "518da9dc-dabe-478d-8ee2-9ad2def0bf64"
      },
      "execution_count": null,
      "outputs": [
        {
          "output_type": "stream",
          "name": "stdout",
          "text": [
            "\n"
          ]
        }
      ]
    },
    {
      "cell_type": "code",
      "source": [
        "a = print()\n",
        "print(a)"
      ],
      "metadata": {
        "colab": {
          "base_uri": "https://localhost:8080/"
        },
        "id": "eqdaIUFUxRjO",
        "outputId": "7ed5878b-70c7-4301-f93a-fe4aa0b59591"
      },
      "execution_count": null,
      "outputs": [
        {
          "output_type": "stream",
          "name": "stdout",
          "text": [
            "\n",
            "None\n"
          ]
        }
      ]
    },
    {
      "cell_type": "code",
      "source": [
        "a = print(\"간다\")\n",
        "print(a)"
      ],
      "metadata": {
        "colab": {
          "base_uri": "https://localhost:8080/"
        },
        "id": "SOe-sDLDxV0m",
        "outputId": "6c965d2b-897f-4e97-8663-1bad2c485ba1"
      },
      "execution_count": null,
      "outputs": [
        {
          "output_type": "stream",
          "name": "stdout",
          "text": [
            "간다\n",
            "None\n"
          ]
        }
      ]
    },
    {
      "cell_type": "code",
      "source": [
        "import random\n",
        "\n",
        "# 로또 번호 생성 함수 (스토리 추가)\n",
        "def generate_lotto_numbers(theme):\n",
        "    if theme == 'adventure':\n",
        "        numbers = random.sample(range(1, 46), 6)\n",
        "        numbers.sort()  # 번호 정렬\n",
        "        return numbers\n",
        "    elif theme == 'fantasy':\n",
        "        # 1부터 50까지의 숫자 중 6개를 선택 (허용되지 않는 숫자도 선택 가능)\n",
        "        numbers = [random.randint(1, 50) for _ in range(6)]\n",
        "        return numbers\n",
        "    elif theme == 'sci-fi':\n",
        "        # 1부터 60까지의 숫자 중 6개를 선택 (특정 규칙을 따라 선택 가능)\n",
        "        numbers = []\n",
        "        while len(numbers) < 6:\n",
        "            number = random.randint(1, 60)\n",
        "            if number % 2 == 0:  # 짝수만 선택\n",
        "                numbers.append(number)\n",
        "        numbers.sort()  # 번호 정렬\n",
        "        return numbers\n",
        "    else:\n",
        "        raise ValueError(\"지원되지 않는 테마입니다.\")\n",
        "\n",
        "# 로또 티켓 생성 함수\n",
        "def generate_lotto_tickets(ticket_count, theme):\n",
        "    tickets = []\n",
        "    for _ in range(ticket_count):\n",
        "        ticket = generate_lotto_numbers(theme)\n",
        "        tickets.append(ticket)\n",
        "    return tickets\n",
        "\n",
        "# 메인 함수\n",
        "def main():\n",
        "    print(\"로또 테마를 선택하세요:\")\n",
        "    print(\"1. 모험 (Adventure)\")\n",
        "    print(\"2. 판타지 (Fantasy)\")\n",
        "    print(\"3. 과학 판타지 (Sci-Fi)\")\n",
        "    choice = input(\"테마를 선택하세요 (1, 2, 3 중 하나): \")\n",
        "\n",
        "    if choice == '1':\n",
        "        theme = 'adventure'\n",
        "    elif choice == '2':\n",
        "        theme = 'fantasy'\n",
        "    elif choice == '3':\n",
        "        theme = 'sci-fi'\n",
        "    else:\n",
        "        print(\"유효하지 않은 선택입니다.\")\n",
        "        return\n",
        "\n",
        "    try:\n",
        "        ticket_count = int(input(\"생성할 로또 티켓의 수를 입력하세요: \"))\n",
        "        if ticket_count <= 0:\n",
        "            print(\"1 이상의 수를 입력하세요.\")\n",
        "            return\n",
        "\n",
        "        tickets = generate_lotto_tickets(ticket_count, theme)\n",
        "\n",
        "        print(\"\\n생성된 로또 티켓 번호:\")\n",
        "        for idx, ticket in enumerate(tickets, start=1):\n",
        "            print(f\"티켓 {idx}: {ticket}\")\n",
        "    except ValueError as e:\n",
        "        print(f\"오류 발생: {e}\")\n",
        "\n",
        "if __name__ == \"__main__\":\n",
        "    main()\n"
      ],
      "metadata": {
        "id": "jSdUTwmIxbLW",
        "colab": {
          "base_uri": "https://localhost:8080/"
        },
        "outputId": "e08b78b9-c5e4-42a4-b368-25fc512a7b2d"
      },
      "execution_count": null,
      "outputs": [
        {
          "output_type": "stream",
          "name": "stdout",
          "text": [
            "로또 테마를 선택하세요:\n",
            "1. 모험 (Adventure)\n",
            "2. 판타지 (Fantasy)\n",
            "3. 과학 판타지 (Sci-Fi)\n",
            "테마를 선택하세요 (1, 2, 3 중 하나): 2\n",
            "생성할 로또 티켓의 수를 입력하세요: 5\n",
            "\n",
            "생성된 로또 티켓 번호:\n",
            "티켓 1: [16, 13, 16, 45, 16, 48]\n",
            "티켓 2: [9, 4, 37, 4, 24, 2]\n",
            "티켓 3: [25, 24, 43, 22, 25, 32]\n",
            "티켓 4: [29, 31, 47, 3, 35, 26]\n",
            "티켓 5: [8, 38, 33, 33, 43, 31]\n"
          ]
        }
      ]
    },
    {
      "cell_type": "code",
      "source": [
        "def decimal_to_binary_hex(decimal_num):\n",
        "    # 10진수를 2진수로 변환\n",
        "    binary = bin(decimal_num)[2:]  # [2:]는 '0b' 접두사를 제거합니다\n",
        "\n",
        "    # 10진수를 16진수로 변환\n",
        "    hexadecimal = hex(decimal_num)[2:]  # [2:]는 '0x' 접두사를 제거합니다\n",
        "\n",
        "    return binary, hexadecimal\n",
        "\n",
        "# 사용자로부터 10진수 입력 받기\n",
        "while True:\n",
        "    try:\n",
        "        decimal_input = int(input(\"10진수를 입력하세요 (종료하려면 'q' 입력): \"))\n",
        "        binary_result, hex_result = decimal_to_binary_hex(decimal_input)\n",
        "\n",
        "        print(f\"10진수: {decimal_input}\")\n",
        "        print(f\"2진수: {binary_result}\")\n",
        "        print(f\"16진수: {hex_result}\")\n",
        "        print()\n",
        "    except ValueError:\n",
        "        user_input = input(\"올바른 숫자를 입력하세요. 종료하려면 'q'를 입력하세요: \")\n",
        "        if user_input.lower() == 'q':\n",
        "            print(\"프로그램을 종료합니다.\")\n",
        "            break"
      ],
      "metadata": {
        "colab": {
          "base_uri": "https://localhost:8080/"
        },
        "id": "afOiUZAR-lh4",
        "outputId": "47ee904d-4364-44a3-ee39-7e72fd71fec6"
      },
      "execution_count": null,
      "outputs": [
        {
          "output_type": "stream",
          "name": "stdout",
          "text": [
            "10진수를 입력하세요 (종료하려면 'q' 입력): 100\n",
            "10진수: 100\n",
            "2진수: 1100100\n",
            "16진수: 64\n",
            "\n",
            "10진수를 입력하세요 (종료하려면 'q' 입력): 500\n",
            "10진수: 500\n",
            "2진수: 111110100\n",
            "16진수: 1f4\n",
            "\n",
            "10진수를 입력하세요 (종료하려면 'q' 입력): q\n",
            "올바른 숫자를 입력하세요. 종료하려면 'q'를 입력하세요: q\n",
            "프로그램을 종료합니다.\n"
          ]
        }
      ]
    },
    {
      "cell_type": "code",
      "source": [
        "import calendar\n",
        "\n",
        "def print_calendar(year, month):\n",
        "    # 달력 객체 생성\n",
        "    cal = calendar.monthcalendar(year, month)\n",
        "\n",
        "    # 월 이름과 연도 출력\n",
        "    print(f\"{calendar.month_name[month]} {year}\".center(20))\n",
        "    print(\"Mo Tu We Th Fr Sa Su\")\n",
        "\n",
        "    # 주 단위로 날짜 출력\n",
        "    for week in cal:\n",
        "        week_str = \"\"\n",
        "        for day in week:\n",
        "            if day == 0:\n",
        "                week_str += \"   \"\n",
        "            else:\n",
        "                week_str += f\"{day:2d} \"\n",
        "        print(week_str)\n",
        "\n",
        "def main():\n",
        "    while True:\n",
        "        try:\n",
        "            year = int(input(\"연도를 입력하세요 (예: 2024): \"))\n",
        "            month = int(input(\"월을 입력하세요 (1-12): \"))\n",
        "\n",
        "            if 1 <= month <= 12:\n",
        "                print_calendar(year, month)\n",
        "                break\n",
        "            else:\n",
        "                print(\"올바른 월(1-12)을 입력하세요.\")\n",
        "        except ValueError:\n",
        "            print(\"올바른 숫자를 입력하세요.\")\n",
        "\n",
        "if __name__ == \"__main__\":\n",
        "    main()"
      ],
      "metadata": {
        "colab": {
          "base_uri": "https://localhost:8080/"
        },
        "id": "-tupJ-ogCJ_i",
        "outputId": "148cd4bd-f430-4541-be0f-31830d4278c8"
      },
      "execution_count": null,
      "outputs": [
        {
          "output_type": "stream",
          "name": "stdout",
          "text": [
            "연도를 입력하세요 (예: 2024): 2024\n",
            "월을 입력하세요 (1-12): 7\n",
            "     July 2024      \n",
            "Mo Tu We Th Fr Sa Su\n",
            " 1  2  3  4  5  6  7 \n",
            " 8  9 10 11 12 13 14 \n",
            "15 16 17 18 19 20 21 \n",
            "22 23 24 25 26 27 28 \n",
            "29 30 31             \n"
          ]
        }
      ]
    },
    {
      "cell_type": "code",
      "source": [
        "def manage_library_books():\n",
        "    # 초기 도서 목록\n",
        "    books = [\"해리 포터\", \"반지의 제왕\", \"일리아드\", \"오디세이\", \"위대한 개츠비\"]\n",
        "    print(\"현재 도서관 장서:\", books)\n",
        "\n",
        "    # 새 책 입고\n",
        "    new_book = \"호빗\"\n",
        "    books.append(new_book)\n",
        "    print(f\"'{new_book}'이(가) 새로 입고되었습니다. 현재 장서:\", books)\n",
        "\n",
        "    # 특정 위치에 책 삽입\n",
        "    classic_book = \"돈키호테\"\n",
        "    books.insert(2, classic_book)\n",
        "    print(f\"'{classic_book}'을(를) 세 번째 위치에 배치했습니다. 현재 장서:\", books)\n",
        "\n",
        "    # 대출된 책 제거\n",
        "    borrowed_book = books.pop(1)\n",
        "    print(f\"'{borrowed_book}'이(가) 대출되었습니다. 남은 장서:\", books)\n",
        "\n",
        "    # 분실된 책 제거\n",
        "    lost_book = \"오디세이\"\n",
        "    if lost_book in books:\n",
        "        books.remove(lost_book)\n",
        "        print(f\"'{lost_book}'이(가) 분실되어 목록에서 제거되었습니다. 현재 장서:\", books)\n",
        "    else:\n",
        "        print(f\"'{lost_book}'은(는) 현재 도서 목록에 없습니다.\")\n",
        "\n",
        "    # 책 정렬\n",
        "    books.sort()\n",
        "    print(\"책을 알파벳 순으로 정리했습니다:\", books)\n",
        "\n",
        "    # 책 목록 뒤집기 (최신 입고 순으로 변경)\n",
        "    books.reverse()\n",
        "    print(\"최근 입고된 순서대로 책을 재배열했습니다:\", books)\n",
        "\n",
        "    # 상위 3권 책 선택 (인기 도서)\n",
        "    top_books = books[:3]\n",
        "    print(\"이번 주 인기 도서 Top 3:\", top_books)\n",
        "\n",
        "    # 도서관 장서 수 확인\n",
        "    book_count = len(books)\n",
        "    print(f\"현재 도서관에는 총 {book_count}권의 책이 있습니다.\")\n",
        "\n",
        "    # 복본 책 확인\n",
        "    duplicate_book = \"해리 포터\"\n",
        "    books.append(duplicate_book)\n",
        "    duplicate_count = books.count(duplicate_book)\n",
        "    print(f\"'{duplicate_book}'의 복본은 {duplicate_count}권 있습니다.\")\n",
        "\n",
        "    # 특정 책의 위치 찾기\n",
        "    search_book = \"위대한 개츠비\"\n",
        "    if search_book in books:\n",
        "        book_index = books.index(search_book)\n",
        "        print(f\"'{search_book}'은(는) 목록의 {book_index + 1}번째에 있습니다.\")\n",
        "    else:\n",
        "        print(f\"'{search_book}'은(는) 현재 도서 목록에 없습니다.\")\n",
        "\n",
        "    # 새로운 기증 도서 목록 추가\n",
        "    donated_books = [\"1984\", \"동물농장\"]\n",
        "    books.extend(donated_books)\n",
        "    print(\"기증받은 도서를 추가했습니다. 현재 전체 장서:\", books)\n",
        "\n",
        "    # 도서 목록 백업\n",
        "    books_backup = books.copy()\n",
        "    print(\"도서 목록이 백업되었습니다.\")\n",
        "\n",
        "    # 도서관 리모델링으로 인한 임시 폐관 (목록 초기화)\n",
        "    books.clear()\n",
        "    print(\"도서관 리모델링으로 모든 책이 보관되었습니다. 현재 서가:\", books)\n",
        "    print(\"백업된 도서 목록:\", books_backup)\n",
        "\n",
        "if __name__ == \"__main__\":\n",
        "    manage_library_books()"
      ],
      "metadata": {
        "id": "YJhTOzYOCKkx"
      },
      "execution_count": null,
      "outputs": []
    },
    {
      "cell_type": "code",
      "source": [
        "def get_user_info():\n",
        "    return (\"Alice\", 30, \"alice@example.com\")\n",
        "\n",
        "name, age, email = get_user_info()\n",
        "print(f\"Name: {name}, Age: {age}, Email: {email}\")"
      ],
      "metadata": {
        "colab": {
          "base_uri": "https://localhost:8080/"
        },
        "id": "y9eusKTxN_uB",
        "outputId": "8eadcd4c-e992-40ab-c9b8-7384f2e65554"
      },
      "execution_count": null,
      "outputs": [
        {
          "output_type": "stream",
          "name": "stdout",
          "text": [
            "Name: Alice, Age: 30, Email: alice@example.com\n"
          ]
        }
      ]
    },
    {
      "cell_type": "code",
      "source": [
        "def calculate_distance(point1, point2):\n",
        "    return ((point1[0] - point2[0])**2 + (point1[1] - point2[1])**2)**0.5\n",
        "\n",
        "point_a = (0, 0)\n",
        "point_b = (3, 4)\n",
        "distance = calculate_distance(point_a, point_b)\n",
        "print(f\"Distance: {distance}\")"
      ],
      "metadata": {
        "colab": {
          "base_uri": "https://localhost:8080/"
        },
        "id": "DIQtaVnBN_q_",
        "outputId": "97bf9884-1c15-411a-c8a5-f2b8095b5bd9"
      },
      "execution_count": null,
      "outputs": [
        {
          "output_type": "stream",
          "name": "stdout",
          "text": [
            "Distance: 5.0\n"
          ]
        }
      ]
    },
    {
      "cell_type": "code",
      "source": [
        "student_grades = {\n",
        "    (\"John\", \"Doe\"): 85,\n",
        "    (\"Jane\", \"Smith\"): 92,\n",
        "    (\"Bob\", \"Johnson\"): 78\n",
        "}\n",
        "\n",
        "print(student_grades[(\"Jane\", \"Smith\")])"
      ],
      "metadata": {
        "colab": {
          "base_uri": "https://localhost:8080/"
        },
        "id": "vsh1B7gsN_n3",
        "outputId": "e18a2725-c9d9-4574-b19a-b6701f30af82"
      },
      "execution_count": null,
      "outputs": [
        {
          "output_type": "stream",
          "name": "stdout",
          "text": [
            "92\n"
          ]
        }
      ]
    },
    {
      "cell_type": "code",
      "source": [
        "DAYS_OF_WEEK = (\"Monday\", \"Tuesday\", \"Wednesday\", \"Thursday\", \"Friday\", \"Saturday\", \"Sunday\")\n",
        "\n",
        "def is_weekend(day):\n",
        "    return day in DAYS_OF_WEEK[-2:]\n",
        "\n",
        "print(is_weekend(\"Saturday\"))"
      ],
      "metadata": {
        "colab": {
          "base_uri": "https://localhost:8080/"
        },
        "id": "itWJUJDqN_iX",
        "outputId": "18f78e74-5696-450e-dc61-ba476f07b505"
      },
      "execution_count": null,
      "outputs": [
        {
          "output_type": "stream",
          "name": "stdout",
          "text": [
            "True\n"
          ]
        }
      ]
    },
    {
      "cell_type": "code",
      "source": [
        "def print_person_info(info):\n",
        "    name, age, occupation = info\n",
        "    print(f\"{name} is {age} years old and works as a {occupation}\")\n",
        "\n",
        "person_info = (\"Charlie\", 35, \"Engineer\")\n",
        "print_person_info(person_info)"
      ],
      "metadata": {
        "colab": {
          "base_uri": "https://localhost:8080/"
        },
        "id": "BroW8lVZN_ff",
        "outputId": "e638d6bd-f0c8-42f5-edbd-78a4b6571438"
      },
      "execution_count": null,
      "outputs": [
        {
          "output_type": "stream",
          "name": "stdout",
          "text": [
            "Charlie is 35 years old and works as a Engineer\n"
          ]
        }
      ]
    },
    {
      "cell_type": "code",
      "source": [
        "numbers = (1, 2, 3, 4, 5)\n",
        "first, *middle, last = numbers\n",
        "print(f\"First: {first}, Middle: {middle}, Last: {last}\")"
      ],
      "metadata": {
        "colab": {
          "base_uri": "https://localhost:8080/"
        },
        "id": "uB0jVx8rN_cg",
        "outputId": "80cd65ad-45b0-47d1-cee0-3c7bb4731e20"
      },
      "execution_count": null,
      "outputs": [
        {
          "output_type": "stream",
          "name": "stdout",
          "text": [
            "First: 1, Middle: [2, 3, 4], Last: 5\n"
          ]
        }
      ]
    },
    {
      "cell_type": "code",
      "source": [
        "def fetch_user_records():\n",
        "    return [\n",
        "        (1, \"Alice\", \"alice@example.com\"),\n",
        "        (2, \"Bob\", \"bob@example.com\"),\n",
        "        (3, \"Charlie\", \"charlie@example.com\")\n",
        "    ]\n",
        "\n",
        "for user_id, name, email in fetch_user_records():\n",
        "    print(f\"ID: {user_id}, Name: {name}, Email: {email}\")"
      ],
      "metadata": {
        "colab": {
          "base_uri": "https://localhost:8080/"
        },
        "id": "oHFuim_qPeEv",
        "outputId": "4084c208-3fac-441d-a6e6-889c82bd483c"
      },
      "execution_count": null,
      "outputs": [
        {
          "output_type": "stream",
          "name": "stdout",
          "text": [
            "ID: 1, Name: Alice, Email: alice@example.com\n",
            "ID: 2, Name: Bob, Email: bob@example.com\n",
            "ID: 3, Name: Charlie, Email: charlie@example.com\n"
          ]
        }
      ]
    },
    {
      "cell_type": "code",
      "source": [
        "HTTP_STATUS_CODES = (200, 201, 204, 400, 401, 403, 404, 500)\n",
        "\n",
        "def is_success(status_code):\n",
        "    return status_code in HTTP_STATUS_CODES[:3]\n",
        "\n",
        "print(is_success(200))"
      ],
      "metadata": {
        "colab": {
          "base_uri": "https://localhost:8080/"
        },
        "id": "aZI4cERgPeB-",
        "outputId": "e4528028-2335-4583-99aa-9b9b64f3869e"
      },
      "execution_count": null,
      "outputs": [
        {
          "output_type": "stream",
          "name": "stdout",
          "text": [
            "True\n"
          ]
        }
      ]
    },
    {
      "cell_type": "code",
      "source": [
        "def swap(a, b):\n",
        "    return b, a\n",
        "\n",
        "x, y = 10, 20\n",
        "print(f\"Before swap: x = {x}, y = {y}\")\n",
        "x, y = swap(x, y)\n",
        "print(f\"After swap: x = {x}, y = {y}\")"
      ],
      "metadata": {
        "colab": {
          "base_uri": "https://localhost:8080/"
        },
        "id": "ycr4Dlh9Pd_J",
        "outputId": "c4688976-6d65-41bb-fb1c-72d8d6fa2bc4"
      },
      "execution_count": null,
      "outputs": [
        {
          "output_type": "stream",
          "name": "stdout",
          "text": [
            "Before swap: x = 10, y = 20\n",
            "After swap: x = 20, y = 10\n"
          ]
        }
      ]
    },
    {
      "cell_type": "code",
      "source": [
        "user = {\n",
        "    \"name\": \"Alice\",\n",
        "    \"age\": 30,\n",
        "    \"email\": \"alice@example.com\",\n",
        "    \"is_active\": True\n",
        "}\n",
        "\n",
        "print(f\"{user['name']} is {user['age']} years old.\")"
      ],
      "metadata": {
        "colab": {
          "base_uri": "https://localhost:8080/"
        },
        "id": "OMSen57sPd8H",
        "outputId": "fc8b7ce6-7085-450e-d327-ec39e005d4db"
      },
      "execution_count": null,
      "outputs": [
        {
          "output_type": "stream",
          "name": "stdout",
          "text": [
            "Alice is 30 years old.\n"
          ]
        }
      ]
    },
    {
      "cell_type": "code",
      "source": [
        "words = [\"apple\", \"banana\", \"apple\", \"cherry\", \"banana\", \"date\"]\n",
        "frequency = {}\n",
        "\n",
        "for word in words:\n",
        "    frequency[word] = frequency.get(word, 0) + 1\n",
        "\n",
        "print(frequency)"
      ],
      "metadata": {
        "colab": {
          "base_uri": "https://localhost:8080/"
        },
        "id": "tipeBa_jPd5P",
        "outputId": "0a6031c7-e13c-404f-dd80-814d75867ad9"
      },
      "execution_count": null,
      "outputs": [
        {
          "output_type": "stream",
          "name": "stdout",
          "text": [
            "{'apple': 2, 'banana': 2, 'cherry': 1, 'date': 1}\n"
          ]
        }
      ]
    },
    {
      "cell_type": "code",
      "source": [
        "settings = {\n",
        "    \"theme\": \"dark\",\n",
        "    \"font_size\": 14,\n",
        "    \"notifications\": True\n",
        "}\n",
        "\n",
        "if settings[\"notifications\"]:\n",
        "    print(f\"Notifications are enabled. Font size: {settings['font_size']}\")"
      ],
      "metadata": {
        "colab": {
          "base_uri": "https://localhost:8080/"
        },
        "id": "3od9eCMFPd1-",
        "outputId": "f2068989-50a6-4bc5-8a0e-6d95498a23df"
      },
      "execution_count": null,
      "outputs": [
        {
          "output_type": "stream",
          "name": "stdout",
          "text": [
            "Notifications are enabled. Font size: 14\n"
          ]
        }
      ]
    },
    {
      "cell_type": "code",
      "source": [
        "import json\n",
        "\n",
        "json_str = '{\"name\": \"Bob\", \"age\": 25, \"city\": \"New York\"}'\n",
        "data = json.loads(json_str)\n",
        "\n",
        "print(f\"{data['name']} lives in {data['city']}\")"
      ],
      "metadata": {
        "colab": {
          "base_uri": "https://localhost:8080/"
        },
        "id": "UUd4TGKDPdyv",
        "outputId": "e9209324-3356-4aa7-d8ec-8896da10f55b"
      },
      "execution_count": null,
      "outputs": [
        {
          "output_type": "stream",
          "name": "stdout",
          "text": [
            "Bob lives in New York\n"
          ]
        }
      ]
    },
    {
      "cell_type": "code",
      "source": [],
      "metadata": {
        "id": "rKCo4sJ5UJve"
      },
      "execution_count": null,
      "outputs": []
    },
    {
      "cell_type": "code",
      "source": [
        "def greet():\n",
        "    print(\"Hello!\")\n",
        "\n",
        "def quit_program():\n",
        "    print(\"Goodbye!\")\n",
        "    exit()\n",
        "\n",
        "commands = {\n",
        "    \"hello\": greet,\n",
        "    \"quit\": quit_program\n",
        "}\n",
        "\n",
        "while True:\n",
        "    cmd = input(\"Enter a command: \").lower()\n",
        "    if cmd in commands:\n",
        "        commands[cmd]()\n",
        "    else:\n",
        "        print(\"Unknown command\")"
      ],
      "metadata": {
        "colab": {
          "base_uri": "https://localhost:8080/",
          "height": 481
        },
        "id": "Nn_bJLaxUJsG",
        "outputId": "0fb4c713-63df-44e0-b177-80a90a21a612"
      },
      "execution_count": null,
      "outputs": [
        {
          "output_type": "stream",
          "name": "stdout",
          "text": [
            "Enter a command: hello\n",
            "Hello!\n",
            "Enter a command: greet\n",
            "Unknown command\n",
            "Enter a command: quit\n",
            "Goodbye!\n"
          ]
        },
        {
          "output_type": "error",
          "ename": "KeyboardInterrupt",
          "evalue": "Interrupted by user",
          "traceback": [
            "\u001b[0;31m---------------------------------------------------------------------------\u001b[0m",
            "\u001b[0;31mKeyboardInterrupt\u001b[0m                         Traceback (most recent call last)",
            "\u001b[0;32m<ipython-input-10-aeced1f18471>\u001b[0m in \u001b[0;36m<cell line: 13>\u001b[0;34m()\u001b[0m\n\u001b[1;32m     12\u001b[0m \u001b[0;34m\u001b[0m\u001b[0m\n\u001b[1;32m     13\u001b[0m \u001b[0;32mwhile\u001b[0m \u001b[0;32mTrue\u001b[0m\u001b[0;34m:\u001b[0m\u001b[0;34m\u001b[0m\u001b[0;34m\u001b[0m\u001b[0m\n\u001b[0;32m---> 14\u001b[0;31m     \u001b[0mcmd\u001b[0m \u001b[0;34m=\u001b[0m \u001b[0minput\u001b[0m\u001b[0;34m(\u001b[0m\u001b[0;34m\"Enter a command: \"\u001b[0m\u001b[0;34m)\u001b[0m\u001b[0;34m.\u001b[0m\u001b[0mlower\u001b[0m\u001b[0;34m(\u001b[0m\u001b[0;34m)\u001b[0m\u001b[0;34m\u001b[0m\u001b[0;34m\u001b[0m\u001b[0m\n\u001b[0m\u001b[1;32m     15\u001b[0m     \u001b[0;32mif\u001b[0m \u001b[0mcmd\u001b[0m \u001b[0;32min\u001b[0m \u001b[0mcommands\u001b[0m\u001b[0;34m:\u001b[0m\u001b[0;34m\u001b[0m\u001b[0;34m\u001b[0m\u001b[0m\n\u001b[1;32m     16\u001b[0m         \u001b[0mcommands\u001b[0m\u001b[0;34m[\u001b[0m\u001b[0mcmd\u001b[0m\u001b[0;34m]\u001b[0m\u001b[0;34m(\u001b[0m\u001b[0;34m)\u001b[0m\u001b[0;34m\u001b[0m\u001b[0;34m\u001b[0m\u001b[0m\n",
            "\u001b[0;32m/usr/local/lib/python3.10/dist-packages/ipykernel/kernelbase.py\u001b[0m in \u001b[0;36mraw_input\u001b[0;34m(self, prompt)\u001b[0m\n\u001b[1;32m    849\u001b[0m                 \u001b[0;34m\"raw_input was called, but this frontend does not support input requests.\"\u001b[0m\u001b[0;34m\u001b[0m\u001b[0;34m\u001b[0m\u001b[0m\n\u001b[1;32m    850\u001b[0m             )\n\u001b[0;32m--> 851\u001b[0;31m         return self._input_request(str(prompt),\n\u001b[0m\u001b[1;32m    852\u001b[0m             \u001b[0mself\u001b[0m\u001b[0;34m.\u001b[0m\u001b[0m_parent_ident\u001b[0m\u001b[0;34m,\u001b[0m\u001b[0;34m\u001b[0m\u001b[0;34m\u001b[0m\u001b[0m\n\u001b[1;32m    853\u001b[0m             \u001b[0mself\u001b[0m\u001b[0;34m.\u001b[0m\u001b[0m_parent_header\u001b[0m\u001b[0;34m,\u001b[0m\u001b[0;34m\u001b[0m\u001b[0;34m\u001b[0m\u001b[0m\n",
            "\u001b[0;32m/usr/local/lib/python3.10/dist-packages/ipykernel/kernelbase.py\u001b[0m in \u001b[0;36m_input_request\u001b[0;34m(self, prompt, ident, parent, password)\u001b[0m\n\u001b[1;32m    893\u001b[0m             \u001b[0;32mexcept\u001b[0m \u001b[0mKeyboardInterrupt\u001b[0m\u001b[0;34m:\u001b[0m\u001b[0;34m\u001b[0m\u001b[0;34m\u001b[0m\u001b[0m\n\u001b[1;32m    894\u001b[0m                 \u001b[0;31m# re-raise KeyboardInterrupt, to truncate traceback\u001b[0m\u001b[0;34m\u001b[0m\u001b[0;34m\u001b[0m\u001b[0m\n\u001b[0;32m--> 895\u001b[0;31m                 \u001b[0;32mraise\u001b[0m \u001b[0mKeyboardInterrupt\u001b[0m\u001b[0;34m(\u001b[0m\u001b[0;34m\"Interrupted by user\"\u001b[0m\u001b[0;34m)\u001b[0m \u001b[0;32mfrom\u001b[0m \u001b[0;32mNone\u001b[0m\u001b[0;34m\u001b[0m\u001b[0;34m\u001b[0m\u001b[0m\n\u001b[0m\u001b[1;32m    896\u001b[0m             \u001b[0;32mexcept\u001b[0m \u001b[0mException\u001b[0m \u001b[0;32mas\u001b[0m \u001b[0me\u001b[0m\u001b[0;34m:\u001b[0m\u001b[0;34m\u001b[0m\u001b[0;34m\u001b[0m\u001b[0m\n\u001b[1;32m    897\u001b[0m                 \u001b[0mself\u001b[0m\u001b[0;34m.\u001b[0m\u001b[0mlog\u001b[0m\u001b[0;34m.\u001b[0m\u001b[0mwarning\u001b[0m\u001b[0;34m(\u001b[0m\u001b[0;34m\"Invalid Message:\"\u001b[0m\u001b[0;34m,\u001b[0m \u001b[0mexc_info\u001b[0m\u001b[0;34m=\u001b[0m\u001b[0;32mTrue\u001b[0m\u001b[0;34m)\u001b[0m\u001b[0;34m\u001b[0m\u001b[0;34m\u001b[0m\u001b[0m\n",
            "\u001b[0;31mKeyboardInterrupt\u001b[0m: Interrupted by user"
          ]
        }
      ]
    },
    {
      "cell_type": "code",
      "source": [
        "# 학생 성적 관리\n",
        "student_data = {\n",
        "    \"Alice\": {\n",
        "        \"scores\": [85, 90, 88],    # 리스트를 값으로 사용\n",
        "        \"id\": (123, \"A\")          # 튜플을 값으로 사용\n",
        "    },\n",
        "    \"Bob\": {\n",
        "        \"scores\": [78, 82, 79],\n",
        "        \"id\": (124, \"B\")\n",
        "    },\n",
        "    \"Charlie\": {\n",
        "        \"scores\": [92, 95, 91],\n",
        "        \"id\": (125, \"C\")\n",
        "    }\n",
        "}\n",
        "\n",
        "# 학생 성적 추가\n",
        "student_data[\"Alice\"][\"scores\"].append(95)\n",
        "\n",
        "# 특정 학생의 데이터 접근\n",
        "print(student_data[\"Alice\"][\"scores\"])  # Output: [85, 90, 88, 95]\n",
        "print(student_data[\"Alice\"][\"id\"])      # Output: (123, \"A\")\n"
      ],
      "metadata": {
        "colab": {
          "base_uri": "https://localhost:8080/"
        },
        "id": "VophUhXjUJpB",
        "outputId": "f9caa388-c6a0-4214-87de-a93f475d83cc"
      },
      "execution_count": null,
      "outputs": [
        {
          "output_type": "stream",
          "name": "stdout",
          "text": [
            "[85, 90, 88, 95]\n",
            "(123, 'A')\n"
          ]
        }
      ]
    },
    {
      "cell_type": "code",
      "source": [
        "text = \"hello\"\n",
        "\n",
        "for index, char in enumerate(text):\n",
        "    print(f\"Index: {index}, Character: {char}\")\n"
      ],
      "metadata": {
        "colab": {
          "base_uri": "https://localhost:8080/"
        },
        "id": "oWWCjylnUJlv",
        "outputId": "f13dd328-0340-40d2-cb21-286b1a562be7"
      },
      "execution_count": null,
      "outputs": [
        {
          "output_type": "stream",
          "name": "stdout",
          "text": [
            "Index: 0, Character: h\n",
            "Index: 1, Character: e\n",
            "Index: 2, Character: l\n",
            "Index: 3, Character: l\n",
            "Index: 4, Character: o\n"
          ]
        }
      ]
    },
    {
      "cell_type": "code",
      "source": [
        "fruits = ['apple', 'banana', 'cherry']\n",
        "fruit_dict = {index: fruit for index, fruit in enumerate(fruits)}\n",
        "\n",
        "print(fruit_dict)\n"
      ],
      "metadata": {
        "colab": {
          "base_uri": "https://localhost:8080/"
        },
        "id": "H3nLw52mcmlB",
        "outputId": "7e9120d3-97ab-4b46-972c-1b73c512e3cd"
      },
      "execution_count": null,
      "outputs": [
        {
          "output_type": "stream",
          "name": "stdout",
          "text": [
            "{0: 'apple', 1: 'banana', 2: 'cherry'}\n"
          ]
        }
      ]
    },
    {
      "cell_type": "code",
      "source": [
        "fruits = ['apple', 'banana', 'cherry']\n",
        "indexed_fruits = [(index, fruit) for index, fruit in enumerate(fruits)]\n",
        "\n",
        "print(indexed_fruits)\n"
      ],
      "metadata": {
        "colab": {
          "base_uri": "https://localhost:8080/"
        },
        "id": "v5sFB5nScmij",
        "outputId": "14bffb3f-1716-4ed5-c319-19377bfd0d67"
      },
      "execution_count": null,
      "outputs": [
        {
          "output_type": "stream",
          "name": "stdout",
          "text": [
            "[(0, 'apple'), (1, 'banana'), (2, 'cherry')]\n"
          ]
        }
      ]
    },
    {
      "cell_type": "code",
      "source": [
        "fruits = ['apple', 'banana', 'cherry']\n",
        "\n",
        "for index, fruit in enumerate(fruits, start=1):\n",
        "    print(f\"Index: {index}, Fruit: {fruit}\")\n"
      ],
      "metadata": {
        "colab": {
          "base_uri": "https://localhost:8080/"
        },
        "id": "1785_hsOcmfX",
        "outputId": "a4154fc0-4925-4f6d-fe03-1e5c383a8610"
      },
      "execution_count": null,
      "outputs": [
        {
          "output_type": "stream",
          "name": "stdout",
          "text": [
            "Index: 1, Fruit: apple\n",
            "Index: 2, Fruit: banana\n",
            "Index: 3, Fruit: cherry\n"
          ]
        }
      ]
    },
    {
      "cell_type": "code",
      "source": [
        "fruits = ['apple', 'banana', 'cherry']\n",
        "\n",
        "for index, fruit in enumerate(fruits):\n",
        "    print(f\"Index: {index}, Fruit: {fruit}\")\n"
      ],
      "metadata": {
        "colab": {
          "base_uri": "https://localhost:8080/"
        },
        "id": "mg4ea2Qbcmch",
        "outputId": "2b00e458-d188-4701-e6a2-e564d918047b"
      },
      "execution_count": null,
      "outputs": [
        {
          "output_type": "stream",
          "name": "stdout",
          "text": [
            "Index: 0, Fruit: apple\n",
            "Index: 1, Fruit: banana\n",
            "Index: 2, Fruit: cherry\n"
          ]
        }
      ]
    },
    {
      "cell_type": "code",
      "source": [
        "def is_leap_year(year):\n",
        "    return year % 4 == 0 and (year % 100 != 0 or year % 400 == 0)\n",
        "\n",
        "def get_days_in_month(year, month):\n",
        "    days_in_month = [0, 31, 28, 31, 30, 31, 30, 31, 31, 30, 31, 30, 31]\n",
        "    if month == 2 and is_leap_year(year):\n",
        "        return 29\n",
        "    return days_in_month[month]\n",
        "\n",
        "def get_first_day_of_month(year, month):\n",
        "    if month < 3:\n",
        "        month += 12\n",
        "        year -= 1\n",
        "    return (1 + ((13 * (month + 1)) // 5) + year + (year // 4) - (year // 100) + (year // 400)) % 7\n",
        "\n",
        "def print_calendar(year, month):\n",
        "    month_names = [\"\", \"January\", \"February\", \"March\", \"April\", \"May\", \"June\",\n",
        "                   \"July\", \"August\", \"September\", \"October\", \"November\", \"December\"]\n",
        "\n",
        "    print(f\"{month_names[month]} {year}\".center(20))\n",
        "    print(\"Mo Tu We Th Fr Sa Su\")\n",
        "\n",
        "    first_day = get_first_day_of_month(year, month)\n",
        "    days_in_month = get_days_in_month(year, month)\n",
        "\n",
        "    current_day = 1\n",
        "    for i in range(6):\n",
        "        week_str = \"\"\n",
        "        for j in range(7):\n",
        "            if (i == 0 and j < first_day) or current_day > days_in_month:\n",
        "                week_str += \"   \"\n",
        "            else:\n",
        "                week_str += f\"{current_day:2d} \"\n",
        "                current_day += 1\n",
        "        print(week_str)\n",
        "        if current_day > days_in_month:\n",
        "            break\n",
        "\n",
        "def get_valid_input(prompt, min_value, max_value):\n",
        "    while True:\n",
        "        user_input = input(prompt)\n",
        "        if user_input.isdigit():\n",
        "            value = int(user_input)\n",
        "            if min_value <= value <= max_value:\n",
        "                return value\n",
        "        print(f\"올바른 숫자를 입력하세요 ({min_value}-{max_value}).\")\n",
        "\n",
        "def main():\n",
        "    year = get_valid_input(\"연도를 입력하세요 (예: 2024): \", 1, 9999)\n",
        "    month = get_valid_input(\"월을 입력하세요 (1-12): \", 1, 12)\n",
        "    print_calendar(year, month)\n",
        "\n",
        "if __name__ == \"__main__\":\n",
        "    main()"
      ],
      "metadata": {
        "id": "uU86d_9AcmZu",
        "colab": {
          "base_uri": "https://localhost:8080/"
        },
        "outputId": "ee9bae22-aa2e-4cd3-e47c-bf25ae323713"
      },
      "execution_count": null,
      "outputs": [
        {
          "output_type": "stream",
          "name": "stdout",
          "text": [
            "연도를 입력하세요 (예: 2024): 2024\n",
            "월을 입력하세요 (1-12): 6\n",
            "     June 2024      \n",
            "Mo Tu We Th Fr Sa Su\n",
            " 1  2  3  4  5  6  7 \n",
            " 8  9 10 11 12 13 14 \n",
            "15 16 17 18 19 20 21 \n",
            "22 23 24 25 26 27 28 \n",
            "29 30                \n"
          ]
        }
      ]
    },
    {
      "cell_type": "code",
      "source": [
        "def decimal_to_binary(decimal_num):\n",
        "    if decimal_num == 0:\n",
        "        return \"0\"\n",
        "    binary = \"\"\n",
        "    while decimal_num > 0:\n",
        "        binary = str(decimal_num % 2) + binary\n",
        "        decimal_num //= 2\n",
        "    return binary\n",
        "\n",
        "def decimal_to_hex(decimal_num):\n",
        "    if decimal_num == 0:\n",
        "        return \"0\"\n",
        "    hex_chars = \"0123456789ABCDEF\"\n",
        "    hexadecimal = \"\"\n",
        "    while decimal_num > 0:\n",
        "        hexadecimal = hex_chars[decimal_num % 16] + hexadecimal\n",
        "        decimal_num //= 16\n",
        "    return hexadecimal\n",
        "\n",
        "def get_valid_input(prompt):\n",
        "    while True:\n",
        "        user_input = input(prompt)\n",
        "        if user_input.lower() == 'q':\n",
        "            return None\n",
        "        if user_input.isdigit():\n",
        "            return int(user_input)\n",
        "        print(\"올바른 숫자를 입력하세요.\")\n",
        "\n",
        "def main():\n",
        "    while True:\n",
        "        decimal_input = get_valid_input(\"10진수를 입력하세요 (종료하려면 'q' 입력): \")\n",
        "        if decimal_input is None:\n",
        "            print(\"프로그램을 종료합니다.\")\n",
        "            break\n",
        "\n",
        "        binary_result = decimal_to_binary(decimal_input)\n",
        "        hex_result = decimal_to_hex(decimal_input)\n",
        "\n",
        "        print(f\"10진수: {decimal_input}\")\n",
        "        print(f\"2진수: {binary_result}\")\n",
        "        print(f\"16진수: {hex_result}\")\n",
        "        print()\n",
        "\n",
        "if __name__ == \"__main__\":\n",
        "    main()"
      ],
      "metadata": {
        "id": "LHwmybqtUJi-",
        "colab": {
          "base_uri": "https://localhost:8080/"
        },
        "outputId": "6ad17b2c-44c8-4087-bb69-18a2a650052e"
      },
      "execution_count": null,
      "outputs": [
        {
          "output_type": "stream",
          "name": "stdout",
          "text": [
            "10진수를 입력하세요 (종료하려면 'q' 입력): 100\n",
            "10진수: 100\n",
            "2진수: 1100100\n",
            "16진수: 64\n",
            "\n",
            "10진수를 입력하세요 (종료하려면 'q' 입력): 50\n",
            "10진수: 50\n",
            "2진수: 110010\n",
            "16진수: 32\n",
            "\n",
            "10진수를 입력하세요 (종료하려면 'q' 입력): ㅂ\n",
            "올바른 숫자를 입력하세요.\n",
            "10진수를 입력하세요 (종료하려면 'q' 입력): q\n",
            "프로그램을 종료합니다.\n"
          ]
        }
      ]
    },
    {
      "cell_type": "code",
      "source": [
        "def custom_random(start, end):\n",
        "    # 간단한 선형 합동 생성기(LCG) 구현\n",
        "    global seed\n",
        "    seed = (1103515245 * seed + 12345) & 0x7fffffff\n",
        "    return start + (seed % (end - start + 1))\n",
        "\n",
        "def generate_lotto_numbers(theme):\n",
        "    numbers = []\n",
        "    if theme == 'adventure':\n",
        "        while len(numbers) < 6:\n",
        "            num = custom_random(1, 45)\n",
        "            if num not in numbers:\n",
        "                numbers.append(num)\n",
        "    elif theme == 'fantasy':\n",
        "        for _ in range(6):\n",
        "            numbers.append(custom_random(1, 50))\n",
        "    elif theme == 'sci-fi':\n",
        "        while len(numbers) < 6:\n",
        "            num = custom_random(1, 60)\n",
        "            if num % 2 == 0 and num not in numbers:\n",
        "                numbers.append(num)\n",
        "    else:\n",
        "        return None\n",
        "\n",
        "    if theme != 'fantasy':\n",
        "        numbers.sort()\n",
        "    return numbers\n",
        "\n",
        "def generate_lotto_tickets(ticket_count, theme):\n",
        "    return [generate_lotto_numbers(theme) for _ in range(ticket_count)]\n",
        "\n",
        "def get_valid_input(prompt, valid_options):\n",
        "    while True:\n",
        "        user_input = input(prompt)\n",
        "        if user_input in valid_options:\n",
        "            return user_input\n",
        "        print(\"유효하지 않은 선택입니다. 다시 시도해주세요.\")\n",
        "\n",
        "def get_valid_number(prompt, min_value):\n",
        "    while True:\n",
        "        user_input = input(prompt)\n",
        "        if user_input.isdigit() and int(user_input) >= min_value:\n",
        "            return int(user_input)\n",
        "        print(f\"{min_value} 이상의 정수를 입력하세요.\")\n",
        "\n",
        "def main():\n",
        "    global seed\n",
        "    seed = 12345  # 초기 시드값 설정\n",
        "\n",
        "    print(\"로또 테마를 선택하세요:\")\n",
        "    print(\"1. 모험 (Adventure)\")\n",
        "    print(\"2. 판타지 (Fantasy)\")\n",
        "    print(\"3. 과학 판타지 (Sci-Fi)\")\n",
        "\n",
        "    choice = get_valid_input(\"테마를 선택하세요 (1, 2, 3 중 하나): \", ['1', '2', '3'])\n",
        "    theme = ['adventure', 'fantasy', 'sci-fi'][int(choice) - 1]\n",
        "\n",
        "    ticket_count = get_valid_number(\"생성할 로또 티켓의 수를 입력하세요: \", 1)\n",
        "\n",
        "    tickets = generate_lotto_tickets(ticket_count, theme)\n",
        "\n",
        "    print(\"\\n생성된 로또 티켓 번호:\")\n",
        "    for idx, ticket in enumerate(tickets, start=1):\n",
        "        print(f\"티켓 {idx}: {ticket}\")\n",
        "\n",
        "if __name__ == \"__main__\":\n",
        "    main()"
      ],
      "metadata": {
        "id": "Ij6IZ5LHUJf_",
        "colab": {
          "base_uri": "https://localhost:8080/"
        },
        "outputId": "d2f9cd0a-e1de-44d2-c043-8eebfe94ac84"
      },
      "execution_count": null,
      "outputs": [
        {
          "output_type": "stream",
          "name": "stdout",
          "text": [
            "로또 테마를 선택하세요:\n",
            "1. 모험 (Adventure)\n",
            "2. 판타지 (Fantasy)\n",
            "3. 과학 판타지 (Sci-Fi)\n",
            "테마를 선택하세요 (1, 2, 3 중 하나): 2\n",
            "생성할 로또 티켓의 수를 입력하세요: 3\n",
            "\n",
            "생성된 로또 티켓 번호:\n",
            "티켓 1: [7, 26, 25, 24, 29, 10]\n",
            "티켓 2: [43, 44, 11, 18, 45, 48]\n",
            "티켓 3: [33, 22, 29, 36, 47, 28]\n"
          ]
        }
      ]
    },
    {
      "cell_type": "code",
      "source": [],
      "metadata": {
        "id": "maOPhCEBC8pe"
      },
      "execution_count": null,
      "outputs": []
    }
  ]
}